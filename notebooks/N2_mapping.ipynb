{
 "cells": [
  {
   "cell_type": "markdown",
   "id": "0122031a",
   "metadata": {},
   "source": [
    "## Data\n",
    "\n",
    "Guess there are a few so let's see if I can find these on NCBI \n",
    "looked https://www.ncbi.nlm.nih.gov/assembly/?term=klebsiella+pneumoniae%5Borgn%5D++20_GR_12\n",
    "and searcher for the name plus the strain\n",
    "\n",
    "From download, selected RefSeq and downloaded the gff, genome, and CDS\n",
    "https://www.ncbi.nlm.nih.gov/genome/?term=Klebsiella+pneumoniae\n",
    "Went to the reference genome, and selected the Chr then clicked on assembly and downloaded that for each\n",
    "\n",
    "|Name|link|\n",
    "|:----|:----|\n",
    "|Klebsiellapneumoniae-20_GR_12| https://www.ncbi.nlm.nih.gov/assembly/GCF_001701845.2|\n",
    "|Klebsiellapneumoniae-1_GR_13|  https://www.ncbi.nlm.nih.gov/assembly/GCF_001701425.2|\n",
    "|Klebsiellapneumoniae-16_GR_13|    https://www.ncbi.nlm.nih.gov/assembly/GCF_001701835.2|\n",
    "|Klebsiellapneumoniae-2_GR_12| https://www.ncbi.nlm.nih.gov/assembly/GCF_001702045.2|\n",
    "|Xylellafastidiosa-stags_leap| https://www.ncbi.nlm.nih.gov/assembly/GCF_021459925.1|\n",
    "|Streptococcusmutans-B04Sm5| https://www.ncbi.nlm.nih.gov/assembly/GCF_014621675.1|  No results were found for the others|\n",
    "|Vibrioparahaemolyticus-RIMD_2210633| https://www.ncbi.nlm.nih.gov/assembly/GCF_000196095.1/|\n",
    "|Listeriamonocytogenes-ref| https://www.ncbi.nlm.nih.gov/assembly/GCF_000196035.1 |used the reference since the strains didn't seem specific|\n",
    "|Staphylococcusaureus-USA300| https://www.ncbi.nlm.nih.gov/assembly/GCF_022226995.1    | there were three| so I selected complete genomePandoraeafibrosis-6399| https://www.ncbi.nlm.nih.gov/assembly/GCF_000807775.2Pandoraeafibrosis-7641| https://www.ncbi.nlm.nih.gov/assembly/GCF_000807785.2|\n",
    "|Escherichiacoli-K_12|   https://www.ncbi.nlm.nih.gov/assembly/GCF_000005845.2| downloaded the reference for escherichia coli k-12[orgn]Escherichiacoli-E2348_69|    https://www.ncbi.nlm.nih.gov/assembly/GCF_000026545.1|\n",
    "|Pseudomonasaeruginosa-UCBPP_PA14| https://www.ncbi.nlm.nih.gov/assembly/GCF_000014625.1|\n",
    "\n",
    "\n",
    "Data are now in SRA format, so we need to convert them back to the fastq format\n",
    "https://github.com/ncbi/sra-tools/wiki/01.-Downloading-SRA-Toolkit\n",
    "https://github.com/ncbi/sra-tools\n",
    "downloaded version 3.0 sratoolkit.3.0.0-ubuntu64.tar.gz for linux and unziped (`tar -xvzf  sratoolkit.3.0.0-ubuntu64.tar.gz`)\n",
    "\n",
    "Added the sra toolkit bin to my path:\n",
    "\n",
    "`export PATH=\" full path to sratoolkit.3.0.0-ubuntu64/bin:$PATH\"`\n",
    "\n",
    "Then you can run: `fastq-dump --gzip {filename}` for each of the accessions.\n",
    "\n",
    "\n",
    "Hmmm looking at the data they have 't' rather than 'U' so look to see if the non-coding versions do too...\n",
    "https://www.ebi.ac.uk/ena/browser/view/SRR14498249\n"
   ]
  },
  {
   "cell_type": "code",
   "execution_count": null,
   "id": "9788aa86",
   "metadata": {},
   "outputs": [],
   "source": [
    "## Have a look in each gff at which genes are shared between the species/strains that we have\n",
    "genome_dir = '' # wherever teh genomes are\n",
    "\n",
    "query_list = [g for g in os.listdir(genome_dir) if 'gff' in g and 'genomic' in g]\n",
    "from sciutil import SciUtil\n",
    "\n",
    "u = SciUtil()\n",
    "for gff_file in query_list:\n",
    "    rows = []\n",
    "    f_name = gff_file.replace('_genomic.gff', '')\n",
    "    u.dp([f_name])\n",
    "    with open(f'{genome_dir}{gff_file}', 'r') as gff:\n",
    "        for line in gff:\n",
    "            if line[0] == '#':\n",
    "                continue\n",
    "            else:\n",
    "                line = line.split('\\t')\n",
    "                line[-1] = line[-1].strip()\n",
    "                rows.append([f'{line[0]}:{line[3]}-{line[4]}'] + line)\n",
    "    gff_df = pd.DataFrame(rows)\n",
    "    # This is indeed the case!!!! OMG how annoying cmon\n",
    "    print(len(df), len(set(gff_df[0].values)))\n",
    "\n",
    "    df = gff_df[gff_df[2] == 'RefSeq']\n",
    "    print(len(df), len(set(df[0].values))) # Still got dups\n",
    "    print(df[3].value_counts())\n",
    "    # OK so let's just keep the genes and the tRNA, rRNA, and ncRNAs\n",
    "    df = df[df[3].isin(['gene', 'tRNA', 'ncRNA', 'rRNA'])]\n",
    "    print(len(df), len(set(df[0].values))) # Still got dups\n",
    "    # Sort by '3' and drop duplicates\n",
    "    df = df.sort_values(by=[0, 3])\n",
    "    #print(df[df.duplicated([0], keep=False)].sort_values(by=[0]).head()) # Can see that it is mainly the genes/trnas\n",
    "    df = df.drop_duplicates(subset=[0], keep='last')\n",
    "    print(len(df), len(set(df[0].values))) # Still got dups\n",
    "    #print(df[3].value_counts()) # Can see that it is mainly the genes/trnas\n",
    "    # Save to tsv without the header and also drop that first column (i.e. save rows 1 - 9)\n",
    "    df = df.drop(columns=[0])\n",
    "    df.to_csv(f'{genome_dir}{gff_file.replace(\"genomic\", \"genes-RNA\")}', sep='\\t', index=False, header=False)"
   ]
  },
  {
   "cell_type": "markdown",
   "id": "6de2dccc",
   "metadata": {},
   "source": [
    "## Some useful functions"
   ]
  },
  {
   "cell_type": "code",
   "execution_count": 1,
   "id": "1e7a44d8",
   "metadata": {},
   "outputs": [],
   "source": [
    "def gff_to_bed(bedfile, gff_file, filter_value='') -> None:\n",
    "    \"\"\"\n",
    "    Since all tools have a stupid amount of deps just write a simple parser for a gff file\n",
    "    NC_003210.1 RefSeq  region  1   2944528 .   +   .   ID=NC_003210.1:1..2944528;Dbxref=taxon:169963;Is_circular=true;Name=ANONYMOUS;gbkey=Src;genome=chromosome;mol_type=genomic DNA;strain=EGD-e\n",
    "    \"\"\"\n",
    "    # BED output\n",
    "    # transcript:YNL036W_mRNA 0   499 cd2b3759-e172-437d-a480-f0a0eafecf75    0   +   666 998\n",
    "    # chromosome, start, end, name, score, strand, thickStart, thickEnd, itemRgb, blockCount, blockSizes, blockStarts\n",
    "    with open(bedfile, 'w+') as bed:\n",
    "        with open(gff_file, 'r') as gff:\n",
    "            for line in gff:\n",
    "                if line[0] == '#':\n",
    "                    continue\n",
    "                else:\n",
    "                    line = line.split('\\t')\n",
    "                    if filter_value is not None:\n",
    "                        # Perhaps subtract 1 frmo the start if you are doing bacteria\n",
    "                        if filter_value == line[2]:  # i.e. make sure that the line contains something of interest e.g. gene\n",
    "                            bed_line = [line[0], line[3], line[4], line[-1].strip(), line[5], line[6]]\n",
    "                            bed.write('\\t'.join(bed_line) + '\\n')\n",
    "                    else:\n",
    "                        # Perhaps subtract 1 frmo the start if you are doing bacteria\n",
    "                        bed_line = [line[0], line[3], line[4], line[-1].strip(), line[5], line[6]]\n",
    "                        bed.write('\\t'.join(bed_line) + '\\n')"
   ]
  },
  {
   "cell_type": "markdown",
   "id": "e2453234",
   "metadata": {},
   "source": [
    "## Now you can use this to map to your transcriptome"
   ]
  },
  {
   "cell_type": "code",
   "execution_count": null,
   "id": "15ff0393",
   "metadata": {},
   "outputs": [],
   "source": [
    "import os\n",
    "\n",
    "genome_fasta = 'path to fasta'\n",
    "output_reference_name = 'path to output transcriptome'\n",
    "gff_file = ' output to file you created before'\n",
    "\n",
    "# This has calls around some of these mappings (bed works for gff or bed files)\n",
    "os.system(' '.join(['bedtools', 'getfasta', '-fi', genome_fasta, '-bed', gff_file, '-fo', output_reference_name]))"
   ]
  },
  {
   "cell_type": "markdown",
   "id": "05424e24",
   "metadata": {},
   "source": [
    "## Converting fastq to bam files\n"
   ]
  },
  {
   "cell_type": "code",
   "execution_count": null,
   "id": "678618ce",
   "metadata": {},
   "outputs": [],
   "source": [
    " def fastq_to_bam(self, fastq, transcriptome, filename, remove_files=True) -> None:\n",
    "        \"\"\"\n",
    "        Convert the fasta sequence to a sam file, then to a bam, finally sort this.\n",
    "        We need this for later steps in the pipeline.\n",
    "        \"\"\"\n",
    "        ref = transcriptome  # transcriptome\n",
    "        fasta = transcriptome + '.fai' # Get the index (note this is expected to have already have been done)\n",
    "        sam = f'{filename}.sam'\n",
    "        bam = f'{filename}.bam'\n",
    "        sorted_bam = f'{filename}.sorted.bam'\n",
    "        # Run minimap2 --> you'll need to check params for illumina\n",
    "        os.system(\" \".join(['minimap2', '-ax', 'splice', '-uf', '-k14 ', '-t', '20', ref, fastq, '>', sam]))\n",
    "        # Run bam\n",
    "        os.system(\" \".join(['samtools', 'view', '-S', sam, '-bh', '-t', fasta, '>', bam]))\n",
    "        # Sort bam\n",
    "        os.system(\" \".join(['samtools', 'sort', bam, '>', sorted_bam]))\n",
    "        # Index bam\n",
    "        os.system(\" \".join(['samtools', 'index', sorted_bam]))\n",
    "        # Remove other files\n",
    "        if remove_files:\n",
    "            os.system(\" \".join(['rm', bam])) # Just leave the sorted bam\n",
    "            os.system(\" \".join(['rm', sam]))"
   ]
  },
  {
   "cell_type": "code",
   "execution_count": null,
   "id": "8ed12b49",
   "metadata": {},
   "outputs": [],
   "source": [
    "# Should be goood :) "
   ]
  }
 ],
 "metadata": {
  "kernelspec": {
   "display_name": "Python 3",
   "language": "python",
   "name": "python3"
  },
  "language_info": {
   "codemirror_mode": {
    "name": "ipython",
    "version": 3
   },
   "file_extension": ".py",
   "mimetype": "text/x-python",
   "name": "python",
   "nbconvert_exporter": "python",
   "pygments_lexer": "ipython3",
   "version": "3.6.13"
  }
 },
 "nbformat": 4,
 "nbformat_minor": 5
}
