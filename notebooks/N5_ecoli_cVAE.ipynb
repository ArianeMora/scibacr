{
 "cells": [
  {
   "cell_type": "markdown",
   "id": "75bfb0ea",
   "metadata": {},
   "source": [
    "## Configuration\n",
    "\n",
    "The configuration is the design of the neural network, it has the following parameters:  \n",
    "\n",
    "1. loss: this is the metric for the loss function, and it can be: 'mse'=mean squared error (for continuous data), or 'ce' for cross entropy (for binary data)\n",
    "2. distance_metric: this is the distance metric between the distributions and can either be 'mmd': maximum mean discrepency, or kl: Kullback–Leibler (see this blog for details: https://ermongroup.github.io/blog/a-tutorial-on-mmd-variational-autoencoders/)\n",
    "3. mmd_weight: this is how much you want to force the VAE to learn \n",
    "\n",
    "We're going to use two types of VAEs, 1 a normal VAE for the numeric quality data, 2 a conv VAE for the sequence data. To make the training data for the Conv VAE we want to one hot encode it such that each entry is is the sequence\n",
    "\n",
    "e.g. our kmer would look like this if it was ATACAAC\n",
    "```\n",
    "A|1 0 1 0 1 1 0|\n",
    "T|0 1 0 0 0 0 0|\n",
    "G|0 0 0 0 0 0 0|\n",
    "C|0 0 0 1 0 0 1| \n",
    "```\n",
    "We want to do this with a filter that goes across 2 or more columns at once that we we can capture the spatial information. So we need to one hot encode in a special way (i.e. to make the columns)"
   ]
  },
  {
   "cell_type": "code",
   "execution_count": 10,
   "id": "a9965bce",
   "metadata": {},
   "outputs": [
    {
     "data": {
      "text/plain": [
       "['../runs/SRR12090435.sorted.bam',\n",
       " '../runs/SRR12090430.sorted.bam',\n",
       " '../runs/SRR12090427.sorted.bam',\n",
       " '../runs/SRR12090432.sorted.bam',\n",
       " '../runs/SRR12090426.sorted.bam',\n",
       " '../runs/SRR12090433.sorted.bam',\n",
       " '../runs/SRR12090429.sorted.bam',\n",
       " '../runs/SRR12090434.sorted.bam',\n",
       " '../runs/SRR12090431.sorted.bam',\n",
       " '../runs/SRR12090428.sorted.bam']"
      ]
     },
     "execution_count": 10,
     "metadata": {},
     "output_type": "execute_result"
    }
   ],
   "source": [
    "import os\n",
    "output_folder = '../runs/'\n",
    "runs = os.listdir(output_folder)\n",
    "\n",
    "e_plus_ecoli = ['SRR12090426', 'SRR12090427', 'SRR12090428']\n",
    "e_minus_ecoli = ['SRR12090429', 'SRR12090430']\n",
    "s_plus_ecoli = ['SRR12090431', 'SRR12090432', 'SRR12090433']\n",
    "s_minus_ecoli = ['SRR12090434', 'SRR12090435']\n",
    "\n",
    "\n",
    "species_runs = e_plus_ecoli + e_minus_ecoli + s_plus_ecoli + s_minus_ecoli\n",
    "\n",
    "bams = [f'{output_folder}{run}' for run in runs if '.bai' not in run and '_genome.sorted' not in run and 'bam' in run]\n",
    "bams = [b for b in bams if b.split('/')[-1].split('.')[0] in species_runs]\n",
    "bams"
   ]
  },
  {
   "cell_type": "markdown",
   "id": "0cc5a3e7",
   "metadata": {},
   "source": [
    "## Count reads to genes"
   ]
  },
  {
   "cell_type": "code",
   "execution_count": 13,
   "id": "43549798",
   "metadata": {},
   "outputs": [
    {
     "data": {
      "text/plain": [
       "'/media/WorkingSpace/Ariane/output/bacteria/genomes/GCF_000005845.2_ASM584v2_genes-RNA.gff'"
      ]
     },
     "execution_count": 13,
     "metadata": {},
     "output_type": "execute_result"
    }
   ],
   "source": [
    "import pandas as pd\n",
    "\n",
    "ecoli_info = pd.read_csv(f'{output_folder}{species_runs[0]}.csv')\n",
    "ecoli_info['gtf_file'].values[0]"
   ]
  },
  {
   "cell_type": "code",
   "execution_count": 15,
   "id": "c0a97e22",
   "metadata": {},
   "outputs": [
    {
     "name": "stdout",
     "output_type": "stream",
     "text": [
      "../runs/SRR12090435.sorted.bam 43328 429722 0.9084071451220801\n",
      "../runs/SRR12090430.sorted.bam 45449 355580 0.8866690438846069\n",
      "../runs/SRR12090427.sorted.bam 104110 592808 0.850613702042421\n",
      "../runs/SRR12090432.sorted.bam 33366 503409 0.937839877043454\n",
      "../runs/SRR12090426.sorted.bam 49173 429516 0.8972756842125054\n",
      "../runs/SRR12090433.sorted.bam 56906 558937 0.9075965789982187\n",
      "../runs/SRR12090429.sorted.bam 33360 275673 0.8920503635534069\n",
      "../runs/SRR12090434.sorted.bam 35270 445611 0.9266554511407188\n",
      "../runs/SRR12090431.sorted.bam 57363 541814 0.9042636816833757\n"
     ]
    },
    {
     "name": "stderr",
     "output_type": "stream",
     "text": [
      "IOPub data rate exceeded.\n",
      "The notebook server will temporarily stop sending output\n",
      "to the client in order to avoid crashing it.\n",
      "To change this limit, set the config variable\n",
      "`--NotebookApp.iopub_data_rate_limit`.\n",
      "\n",
      "Current values:\n",
      "NotebookApp.iopub_data_rate_limit=1000000.0 (bytes/sec)\n",
      "NotebookApp.rate_limit_window=3.0 (secs)\n",
      "\n"
     ]
    },
    {
     "data": {
      "text/html": [
       "<div>\n",
       "<style scoped>\n",
       "    .dataframe tbody tr th:only-of-type {\n",
       "        vertical-align: middle;\n",
       "    }\n",
       "\n",
       "    .dataframe tbody tr th {\n",
       "        vertical-align: top;\n",
       "    }\n",
       "\n",
       "    .dataframe thead th {\n",
       "        text-align: right;\n",
       "    }\n",
       "</style>\n",
       "<table border=\"1\" class=\"dataframe\">\n",
       "  <thead>\n",
       "    <tr style=\"text-align: right;\">\n",
       "      <th></th>\n",
       "      <th>gene</th>\n",
       "      <th>id</th>\n",
       "      <th>gene</th>\n",
       "      <th>gene_biotype</th>\n",
       "      <th>SRR12090435</th>\n",
       "      <th>SRR12090430</th>\n",
       "      <th>SRR12090427</th>\n",
       "      <th>SRR12090432</th>\n",
       "      <th>SRR12090426</th>\n",
       "      <th>SRR12090433</th>\n",
       "      <th>SRR12090429</th>\n",
       "      <th>SRR12090434</th>\n",
       "      <th>SRR12090431</th>\n",
       "      <th>SRR12090428</th>\n",
       "    </tr>\n",
       "  </thead>\n",
       "  <tbody>\n",
       "    <tr>\n",
       "      <th>0</th>\n",
       "      <td>gene-b0941</td>\n",
       "      <td>NC_000913.3:1001806-1002877</td>\n",
       "      <td>elfG</td>\n",
       "      <td>protein_coding</td>\n",
       "      <td>3</td>\n",
       "      <td>0</td>\n",
       "      <td>5</td>\n",
       "      <td>2</td>\n",
       "      <td>2</td>\n",
       "      <td>5</td>\n",
       "      <td>0</td>\n",
       "      <td>3</td>\n",
       "      <td>2</td>\n",
       "      <td>2</td>\n",
       "    </tr>\n",
       "    <tr>\n",
       "      <th>1</th>\n",
       "      <td>gene-b0942</td>\n",
       "      <td>NC_000913.3:1002888-1003431</td>\n",
       "      <td>ycbU</td>\n",
       "      <td>protein_coding</td>\n",
       "      <td>0</td>\n",
       "      <td>0</td>\n",
       "      <td>1</td>\n",
       "      <td>3</td>\n",
       "      <td>2</td>\n",
       "      <td>0</td>\n",
       "      <td>0</td>\n",
       "      <td>0</td>\n",
       "      <td>0</td>\n",
       "      <td>1</td>\n",
       "    </tr>\n",
       "    <tr>\n",
       "      <th>2</th>\n",
       "      <td>gene-b0943</td>\n",
       "      <td>NC_000913.3:1003438-1003954</td>\n",
       "      <td>ycbV</td>\n",
       "      <td>protein_coding</td>\n",
       "      <td>0</td>\n",
       "      <td>2</td>\n",
       "      <td>0</td>\n",
       "      <td>2</td>\n",
       "      <td>1</td>\n",
       "      <td>2</td>\n",
       "      <td>0</td>\n",
       "      <td>3</td>\n",
       "      <td>3</td>\n",
       "      <td>1</td>\n",
       "    </tr>\n",
       "    <tr>\n",
       "      <th>3</th>\n",
       "      <td>gene-b0944</td>\n",
       "      <td>NC_000913.3:1003946-1004657</td>\n",
       "      <td>ycbF</td>\n",
       "      <td>protein_coding</td>\n",
       "      <td>4</td>\n",
       "      <td>3</td>\n",
       "      <td>7</td>\n",
       "      <td>7</td>\n",
       "      <td>3</td>\n",
       "      <td>10</td>\n",
       "      <td>2</td>\n",
       "      <td>10</td>\n",
       "      <td>9</td>\n",
       "      <td>7</td>\n",
       "    </tr>\n",
       "    <tr>\n",
       "      <th>4</th>\n",
       "      <td>gene-b0945</td>\n",
       "      <td>NC_000913.3:1004767-1005778</td>\n",
       "      <td>pyrD</td>\n",
       "      <td>protein_coding</td>\n",
       "      <td>2</td>\n",
       "      <td>1</td>\n",
       "      <td>8</td>\n",
       "      <td>0</td>\n",
       "      <td>3</td>\n",
       "      <td>1</td>\n",
       "      <td>1</td>\n",
       "      <td>1</td>\n",
       "      <td>5</td>\n",
       "      <td>9</td>\n",
       "    </tr>\n",
       "    <tr>\n",
       "      <th>...</th>\n",
       "      <td>...</td>\n",
       "      <td>...</td>\n",
       "      <td>...</td>\n",
       "      <td>...</td>\n",
       "      <td>...</td>\n",
       "      <td>...</td>\n",
       "      <td>...</td>\n",
       "      <td>...</td>\n",
       "      <td>...</td>\n",
       "      <td>...</td>\n",
       "      <td>...</td>\n",
       "      <td>...</td>\n",
       "      <td>...</td>\n",
       "      <td>...</td>\n",
       "    </tr>\n",
       "    <tr>\n",
       "      <th>4490</th>\n",
       "      <td>gene-b0090</td>\n",
       "      <td>NC_000913.3:99643-100711</td>\n",
       "      <td>murG</td>\n",
       "      <td>protein_coding</td>\n",
       "      <td>45</td>\n",
       "      <td>36</td>\n",
       "      <td>58</td>\n",
       "      <td>54</td>\n",
       "      <td>53</td>\n",
       "      <td>52</td>\n",
       "      <td>29</td>\n",
       "      <td>41</td>\n",
       "      <td>44</td>\n",
       "      <td>40</td>\n",
       "    </tr>\n",
       "    <tr>\n",
       "      <th>4491</th>\n",
       "      <td>gene-b0937</td>\n",
       "      <td>NC_000913.3:996936-997512</td>\n",
       "      <td>ssuE</td>\n",
       "      <td>protein_coding</td>\n",
       "      <td>1</td>\n",
       "      <td>1</td>\n",
       "      <td>3</td>\n",
       "      <td>0</td>\n",
       "      <td>0</td>\n",
       "      <td>4</td>\n",
       "      <td>1</td>\n",
       "      <td>1</td>\n",
       "      <td>2</td>\n",
       "      <td>1</td>\n",
       "    </tr>\n",
       "    <tr>\n",
       "      <th>4492</th>\n",
       "      <td>gene-b0938</td>\n",
       "      <td>NC_000913.3:997867-998407</td>\n",
       "      <td>elfA</td>\n",
       "      <td>protein_coding</td>\n",
       "      <td>0</td>\n",
       "      <td>1</td>\n",
       "      <td>1</td>\n",
       "      <td>6</td>\n",
       "      <td>0</td>\n",
       "      <td>7</td>\n",
       "      <td>0</td>\n",
       "      <td>3</td>\n",
       "      <td>2</td>\n",
       "      <td>2</td>\n",
       "    </tr>\n",
       "    <tr>\n",
       "      <th>4493</th>\n",
       "      <td>gene-b0939</td>\n",
       "      <td>NC_000913.3:998489-999191</td>\n",
       "      <td>elfD</td>\n",
       "      <td>protein_coding</td>\n",
       "      <td>0</td>\n",
       "      <td>0</td>\n",
       "      <td>0</td>\n",
       "      <td>0</td>\n",
       "      <td>0</td>\n",
       "      <td>1</td>\n",
       "      <td>0</td>\n",
       "      <td>0</td>\n",
       "      <td>1</td>\n",
       "      <td>0</td>\n",
       "    </tr>\n",
       "    <tr>\n",
       "      <th>4494</th>\n",
       "      <td>gene-b0940</td>\n",
       "      <td>NC_000913.3:999215-1001816</td>\n",
       "      <td>elfC</td>\n",
       "      <td>protein_coding</td>\n",
       "      <td>1</td>\n",
       "      <td>0</td>\n",
       "      <td>1</td>\n",
       "      <td>0</td>\n",
       "      <td>0</td>\n",
       "      <td>3</td>\n",
       "      <td>1</td>\n",
       "      <td>0</td>\n",
       "      <td>3</td>\n",
       "      <td>1</td>\n",
       "    </tr>\n",
       "  </tbody>\n",
       "</table>\n",
       "<p>4495 rows × 14 columns</p>\n",
       "</div>"
      ],
      "text/plain": [
       "            gene                           id  gene    gene_biotype  \\\n",
       "0     gene-b0941  NC_000913.3:1001806-1002877  elfG  protein_coding   \n",
       "1     gene-b0942  NC_000913.3:1002888-1003431  ycbU  protein_coding   \n",
       "2     gene-b0943  NC_000913.3:1003438-1003954  ycbV  protein_coding   \n",
       "3     gene-b0944  NC_000913.3:1003946-1004657  ycbF  protein_coding   \n",
       "4     gene-b0945  NC_000913.3:1004767-1005778  pyrD  protein_coding   \n",
       "...          ...                          ...   ...             ...   \n",
       "4490  gene-b0090     NC_000913.3:99643-100711  murG  protein_coding   \n",
       "4491  gene-b0937    NC_000913.3:996936-997512  ssuE  protein_coding   \n",
       "4492  gene-b0938    NC_000913.3:997867-998407  elfA  protein_coding   \n",
       "4493  gene-b0939    NC_000913.3:998489-999191  elfD  protein_coding   \n",
       "4494  gene-b0940   NC_000913.3:999215-1001816  elfC  protein_coding   \n",
       "\n",
       "      SRR12090435  SRR12090430  SRR12090427  SRR12090432  SRR12090426  \\\n",
       "0               3            0            5            2            2   \n",
       "1               0            0            1            3            2   \n",
       "2               0            2            0            2            1   \n",
       "3               4            3            7            7            3   \n",
       "4               2            1            8            0            3   \n",
       "...           ...          ...          ...          ...          ...   \n",
       "4490           45           36           58           54           53   \n",
       "4491            1            1            3            0            0   \n",
       "4492            0            1            1            6            0   \n",
       "4493            0            0            0            0            0   \n",
       "4494            1            0            1            0            0   \n",
       "\n",
       "      SRR12090433  SRR12090429  SRR12090434  SRR12090431  SRR12090428  \n",
       "0               5            0            3            2            2  \n",
       "1               0            0            0            0            1  \n",
       "2               2            0            3            3            1  \n",
       "3              10            2           10            9            7  \n",
       "4               1            1            1            5            9  \n",
       "...           ...          ...          ...          ...          ...  \n",
       "4490           52           29           41           44           40  \n",
       "4491            4            1            1            2            1  \n",
       "4492            7            0            3            2            2  \n",
       "4493            1            0            0            1            0  \n",
       "4494            3            1            0            3            1  \n",
       "\n",
       "[4495 rows x 14 columns]"
      ]
     },
     "execution_count": 15,
     "metadata": {},
     "output_type": "execute_result"
    }
   ],
   "source": [
    "from scibacr import *\n",
    "gtf = ecoli_info['gtf_file'].values[0]\n",
    "fasta = ecoli_info['reference_fasta_path'].values[0].replace('.fna', '_transcripts.fasta')\n",
    "# ID=gene-b0941;Dbxref=ASAP:ABE-0003191,ECOCYC:G6483,GeneID:947185;Name=elfG;gbkey=Gene;gene=elfG;gene_biotype=protein_coding;gene_synonym=ECK0932,ycbT;locus_tag=b0941\n",
    "\n",
    "count_df = count_reads(bams, gtf, info_cols=['gene', 'gene_biotype'])\n",
    "count_df"
   ]
  },
  {
   "cell_type": "code",
   "execution_count": 16,
   "id": "ad21ad30",
   "metadata": {},
   "outputs": [
    {
     "data": {
      "text/plain": [
       "(array([707., 459., 413., 548., 547., 540., 436., 315., 214., 136.,  92.,\n",
       "         44.,  15.,  11.,   8.,   3.,   4.,   1.,   0.,   2.]),\n",
       " array([ 0.        ,  0.82701125,  1.65402249,  2.48103374,  3.30804499,\n",
       "         4.13505623,  4.96206748,  5.78907872,  6.61608997,  7.44310122,\n",
       "         8.27011246,  9.09712371,  9.92413496, 10.7511462 , 11.57815745,\n",
       "        12.40516869, 13.23217994, 14.05919119, 14.88620243, 15.71321368,\n",
       "        16.54022493]),\n",
       " <BarContainer object of 20 artists>)"
      ]
     },
     "execution_count": 16,
     "metadata": {},
     "output_type": "execute_result"
    },
    {
     "data": {
      "image/png": "[encoded data removed]",
      "text/plain": [
       "<Figure size 432x288 with 1 Axes>"
      ]
     },
     "metadata": {
      "needs_background": "light"
     },
     "output_type": "display_data"
    }
   ],
   "source": [
    "mean_counts = np.mean(count_df[[c for c in count_df.columns if 'SRR' in c]], axis=1)\n",
    "plt.hist(np.log2(mean_counts + 1), bins=20)"
   ]
  },
  {
   "cell_type": "code",
   "execution_count": 19,
   "id": "818e4bee",
   "metadata": {},
   "outputs": [],
   "source": [
    "count_df_nn = count_df[mean_counts > 2.5]\n",
    "# Drop any genes that didn't have any counts then save\n",
    "count_df_nn.to_csv(f'{output_folder}counts_abundent.csv', index=False)\n"
   ]
  },
  {
   "cell_type": "code",
   "execution_count": 20,
   "id": "840544df",
   "metadata": {},
   "outputs": [
    {
     "data": {
      "text/html": [
       "<div>\n",
       "<style scoped>\n",
       "    .dataframe tbody tr th:only-of-type {\n",
       "        vertical-align: middle;\n",
       "    }\n",
       "\n",
       "    .dataframe tbody tr th {\n",
       "        vertical-align: top;\n",
       "    }\n",
       "\n",
       "    .dataframe thead th {\n",
       "        text-align: right;\n",
       "    }\n",
       "</style>\n",
       "<table border=\"1\" class=\"dataframe\">\n",
       "  <thead>\n",
       "    <tr style=\"text-align: right;\">\n",
       "      <th></th>\n",
       "      <th>gene</th>\n",
       "      <th>id</th>\n",
       "      <th>gene</th>\n",
       "      <th>gene_biotype</th>\n",
       "      <th>SRR12090435</th>\n",
       "      <th>SRR12090430</th>\n",
       "      <th>SRR12090427</th>\n",
       "      <th>SRR12090432</th>\n",
       "      <th>SRR12090426</th>\n",
       "      <th>SRR12090433</th>\n",
       "      <th>SRR12090429</th>\n",
       "      <th>SRR12090434</th>\n",
       "      <th>SRR12090431</th>\n",
       "      <th>SRR12090428</th>\n",
       "    </tr>\n",
       "  </thead>\n",
       "  <tbody>\n",
       "    <tr>\n",
       "      <th>3</th>\n",
       "      <td>gene-b0944</td>\n",
       "      <td>NC_000913.3:1003946-1004657</td>\n",
       "      <td>ycbF</td>\n",
       "      <td>protein_coding</td>\n",
       "      <td>4</td>\n",
       "      <td>3</td>\n",
       "      <td>7</td>\n",
       "      <td>7</td>\n",
       "      <td>3</td>\n",
       "      <td>10</td>\n",
       "      <td>2</td>\n",
       "      <td>10</td>\n",
       "      <td>9</td>\n",
       "      <td>7</td>\n",
       "    </tr>\n",
       "    <tr>\n",
       "      <th>4</th>\n",
       "      <td>gene-b0945</td>\n",
       "      <td>NC_000913.3:1004767-1005778</td>\n",
       "      <td>pyrD</td>\n",
       "      <td>protein_coding</td>\n",
       "      <td>2</td>\n",
       "      <td>1</td>\n",
       "      <td>8</td>\n",
       "      <td>0</td>\n",
       "      <td>3</td>\n",
       "      <td>1</td>\n",
       "      <td>1</td>\n",
       "      <td>1</td>\n",
       "      <td>5</td>\n",
       "      <td>9</td>\n",
       "    </tr>\n",
       "    <tr>\n",
       "      <th>5</th>\n",
       "      <td>gene-b0946</td>\n",
       "      <td>NC_000913.3:1005951-1006494</td>\n",
       "      <td>zapC</td>\n",
       "      <td>protein_coding</td>\n",
       "      <td>34</td>\n",
       "      <td>27</td>\n",
       "      <td>51</td>\n",
       "      <td>45</td>\n",
       "      <td>33</td>\n",
       "      <td>58</td>\n",
       "      <td>17</td>\n",
       "      <td>42</td>\n",
       "      <td>66</td>\n",
       "      <td>33</td>\n",
       "    </tr>\n",
       "    <tr>\n",
       "      <th>6</th>\n",
       "      <td>gene-b0947</td>\n",
       "      <td>NC_000913.3:1006490-1007600</td>\n",
       "      <td>ycbX</td>\n",
       "      <td>protein_coding</td>\n",
       "      <td>14</td>\n",
       "      <td>6</td>\n",
       "      <td>26</td>\n",
       "      <td>17</td>\n",
       "      <td>9</td>\n",
       "      <td>23</td>\n",
       "      <td>8</td>\n",
       "      <td>14</td>\n",
       "      <td>29</td>\n",
       "      <td>16</td>\n",
       "    </tr>\n",
       "    <tr>\n",
       "      <th>7</th>\n",
       "      <td>gene-b0091</td>\n",
       "      <td>NC_000913.3:100764-102240</td>\n",
       "      <td>murC</td>\n",
       "      <td>protein_coding</td>\n",
       "      <td>63</td>\n",
       "      <td>71</td>\n",
       "      <td>125</td>\n",
       "      <td>90</td>\n",
       "      <td>78</td>\n",
       "      <td>104</td>\n",
       "      <td>51</td>\n",
       "      <td>96</td>\n",
       "      <td>99</td>\n",
       "      <td>91</td>\n",
       "    </tr>\n",
       "    <tr>\n",
       "      <th>...</th>\n",
       "      <td>...</td>\n",
       "      <td>...</td>\n",
       "      <td>...</td>\n",
       "      <td>...</td>\n",
       "      <td>...</td>\n",
       "      <td>...</td>\n",
       "      <td>...</td>\n",
       "      <td>...</td>\n",
       "      <td>...</td>\n",
       "      <td>...</td>\n",
       "      <td>...</td>\n",
       "      <td>...</td>\n",
       "      <td>...</td>\n",
       "      <td>...</td>\n",
       "    </tr>\n",
       "    <tr>\n",
       "      <th>4482</th>\n",
       "      <td>gene-b0930</td>\n",
       "      <td>NC_000913.3:987584-988985</td>\n",
       "      <td>asnS</td>\n",
       "      <td>protein_coding</td>\n",
       "      <td>254</td>\n",
       "      <td>57</td>\n",
       "      <td>181</td>\n",
       "      <td>171</td>\n",
       "      <td>57</td>\n",
       "      <td>298</td>\n",
       "      <td>43</td>\n",
       "      <td>202</td>\n",
       "      <td>323</td>\n",
       "      <td>157</td>\n",
       "    </tr>\n",
       "    <tr>\n",
       "      <th>4483</th>\n",
       "      <td>gene-b0931</td>\n",
       "      <td>NC_000913.3:989153-990356</td>\n",
       "      <td>pncB</td>\n",
       "      <td>protein_coding</td>\n",
       "      <td>35</td>\n",
       "      <td>16</td>\n",
       "      <td>63</td>\n",
       "      <td>15</td>\n",
       "      <td>20</td>\n",
       "      <td>46</td>\n",
       "      <td>14</td>\n",
       "      <td>27</td>\n",
       "      <td>57</td>\n",
       "      <td>48</td>\n",
       "    </tr>\n",
       "    <tr>\n",
       "      <th>4484</th>\n",
       "      <td>gene-b0932</td>\n",
       "      <td>NC_000913.3:990621-993234</td>\n",
       "      <td>pepN</td>\n",
       "      <td>protein_coding</td>\n",
       "      <td>167</td>\n",
       "      <td>230</td>\n",
       "      <td>265</td>\n",
       "      <td>212</td>\n",
       "      <td>220</td>\n",
       "      <td>241</td>\n",
       "      <td>124</td>\n",
       "      <td>209</td>\n",
       "      <td>233</td>\n",
       "      <td>180</td>\n",
       "    </tr>\n",
       "    <tr>\n",
       "      <th>4485</th>\n",
       "      <td>gene-b0010</td>\n",
       "      <td>NC_000913.3:9927-10494</td>\n",
       "      <td>satP</td>\n",
       "      <td>protein_coding</td>\n",
       "      <td>19</td>\n",
       "      <td>9</td>\n",
       "      <td>20</td>\n",
       "      <td>14</td>\n",
       "      <td>6</td>\n",
       "      <td>34</td>\n",
       "      <td>2</td>\n",
       "      <td>11</td>\n",
       "      <td>30</td>\n",
       "      <td>19</td>\n",
       "    </tr>\n",
       "    <tr>\n",
       "      <th>4490</th>\n",
       "      <td>gene-b0090</td>\n",
       "      <td>NC_000913.3:99643-100711</td>\n",
       "      <td>murG</td>\n",
       "      <td>protein_coding</td>\n",
       "      <td>45</td>\n",
       "      <td>36</td>\n",
       "      <td>58</td>\n",
       "      <td>54</td>\n",
       "      <td>53</td>\n",
       "      <td>52</td>\n",
       "      <td>29</td>\n",
       "      <td>41</td>\n",
       "      <td>44</td>\n",
       "      <td>40</td>\n",
       "    </tr>\n",
       "  </tbody>\n",
       "</table>\n",
       "<p>3243 rows × 14 columns</p>\n",
       "</div>"
      ],
      "text/plain": [
       "            gene                           id  gene    gene_biotype  \\\n",
       "3     gene-b0944  NC_000913.3:1003946-1004657  ycbF  protein_coding   \n",
       "4     gene-b0945  NC_000913.3:1004767-1005778  pyrD  protein_coding   \n",
       "5     gene-b0946  NC_000913.3:1005951-1006494  zapC  protein_coding   \n",
       "6     gene-b0947  NC_000913.3:1006490-1007600  ycbX  protein_coding   \n",
       "7     gene-b0091    NC_000913.3:100764-102240  murC  protein_coding   \n",
       "...          ...                          ...   ...             ...   \n",
       "4482  gene-b0930    NC_000913.3:987584-988985  asnS  protein_coding   \n",
       "4483  gene-b0931    NC_000913.3:989153-990356  pncB  protein_coding   \n",
       "4484  gene-b0932    NC_000913.3:990621-993234  pepN  protein_coding   \n",
       "4485  gene-b0010       NC_000913.3:9927-10494  satP  protein_coding   \n",
       "4490  gene-b0090     NC_000913.3:99643-100711  murG  protein_coding   \n",
       "\n",
       "      SRR12090435  SRR12090430  SRR12090427  SRR12090432  SRR12090426  \\\n",
       "3               4            3            7            7            3   \n",
       "4               2            1            8            0            3   \n",
       "5              34           27           51           45           33   \n",
       "6              14            6           26           17            9   \n",
       "7              63           71          125           90           78   \n",
       "...           ...          ...          ...          ...          ...   \n",
       "4482          254           57          181          171           57   \n",
       "4483           35           16           63           15           20   \n",
       "4484          167          230          265          212          220   \n",
       "4485           19            9           20           14            6   \n",
       "4490           45           36           58           54           53   \n",
       "\n",
       "      SRR12090433  SRR12090429  SRR12090434  SRR12090431  SRR12090428  \n",
       "3              10            2           10            9            7  \n",
       "4               1            1            1            5            9  \n",
       "5              58           17           42           66           33  \n",
       "6              23            8           14           29           16  \n",
       "7             104           51           96           99           91  \n",
       "...           ...          ...          ...          ...          ...  \n",
       "4482          298           43          202          323          157  \n",
       "4483           46           14           27           57           48  \n",
       "4484          241          124          209          233          180  \n",
       "4485           34            2           11           30           19  \n",
       "4490           52           29           41           44           40  \n",
       "\n",
       "[3243 rows x 14 columns]"
      ]
     },
     "execution_count": 20,
     "metadata": {},
     "output_type": "execute_result"
    }
   ],
   "source": [
    "count_df_nn"
   ]
  },
  {
   "cell_type": "markdown",
   "id": "0dec4d2d",
   "metadata": {},
   "source": [
    "## Write a MSA so we can double check the choices make sense"
   ]
  },
  {
   "cell_type": "code",
   "execution_count": null,
   "id": "2e6155db",
   "metadata": {},
   "outputs": [],
   "source": [
    "species_columns = [c for c in count_df.columns if 'SRR' in c]\n",
    "species_df = count_df_nn[['id', 'species'] + species_columns]\n",
    "\n",
    "min_counts = np.min(species_df[species_columns].values, axis=1)\n",
    "# Get the genes that had at least 30 counts in each...\n",
    "species_df = species_df[min_counts > 30]\n",
    "gene_location = 'GB_GCA_014170915.1~CP059988.1-#2' # psi is at 512.\n",
    "ref = pysam.FastaFile(f'{genome_dir}ssu_all_r207_gr1400.fna')\n",
    "for bam in bams:\n",
    "    samfile = pysam.AlignmentFile(f'{bam}', \"rb\")\n",
    "    write_msa_over_gene(gene_location, samfile, ref, f'{output_folder}msas/{bam.split(\"/\")[-1].split(\".\")[0]}.msa',\n",
    "                        read_dict=read_dict)\n",
    "    samfile.close()"
   ]
  },
  {
   "cell_type": "markdown",
   "id": "ecd47f8f",
   "metadata": {},
   "source": [
    "## Create the h5 files that will be used for training and testing"
   ]
  },
  {
   "cell_type": "code",
   "execution_count": 26,
   "id": "40252dfe",
   "metadata": {},
   "outputs": [
    {
     "name": "stdout",
     "output_type": "stream",
     "text": [
      "../runs/SRR12090435.sorted.bam\n"
     ]
    },
    {
     "name": "stderr",
     "output_type": "stream",
     "text": [
      " 34%|▎| 1282/3781 [06:54<01:25, 29.17"
     ]
    },
    {
     "name": "stdout",
     "output_type": "stream",
     "text": [
      "SRR12090435.252122\n",
      "SRR12090435.436395\n",
      "SRR12090435.269839\n"
     ]
    },
    {
     "name": "stderr",
     "output_type": "stream",
     "text": [
      " 59%|▌| 2224/3781 [09:23<00:45, 34.45"
     ]
    },
    {
     "name": "stdout",
     "output_type": "stream",
     "text": [
      "SRR12090435.200921\n",
      "SRR12090435.204323\n"
     ]
    },
    {
     "name": "stderr",
     "output_type": "stream",
     "text": [
      "100%|█| 3781/3781 [11:28<00:00,  5.49\n"
     ]
    },
    {
     "name": "stdout",
     "output_type": "stream",
     "text": [
      "../runs/SRR12090430.sorted.bam\n"
     ]
    },
    {
     "name": "stderr",
     "output_type": "stream",
     "text": [
      " 11%| | 393/3525 [00:08<00:44, 71.17i"
     ]
    },
    {
     "name": "stdout",
     "output_type": "stream",
     "text": [
      "SRR12090430.402760\n"
     ]
    },
    {
     "name": "stderr",
     "output_type": "stream",
     "text": [
      " 57%|▌| 2018/3525 [04:40<00:55, 27.30"
     ]
    },
    {
     "name": "stdout",
     "output_type": "stream",
     "text": [
      "SRR12090430.317995\n",
      "SRR12090430.295467\n",
      "SRR12090430.587799\n",
      "SRR12090430.293498\n"
     ]
    },
    {
     "name": "stderr",
     "output_type": "stream",
     "text": [
      "100%|█| 3525/3525 [13:55<00:00,  4.22\n"
     ]
    },
    {
     "name": "stdout",
     "output_type": "stream",
     "text": [
      "../runs/SRR12090427.sorted.bam\n"
     ]
    },
    {
     "name": "stderr",
     "output_type": "stream",
     "text": [
      " 59%|▌| 2212/3775 [26:05<01:09, 22.43"
     ]
    },
    {
     "name": "stdout",
     "output_type": "stream",
     "text": [
      "SRR12090427.756519\n",
      "SRR12090427.919814\n",
      "SRR12090427.371356\n",
      "SRR12090427.684725\n"
     ]
    },
    {
     "name": "stderr",
     "output_type": "stream",
     "text": [
      "100%|█| 3775/3775 [29:51<00:00,  2.11\n"
     ]
    },
    {
     "name": "stdout",
     "output_type": "stream",
     "text": [
      "../runs/SRR12090432.sorted.bam\n"
     ]
    },
    {
     "name": "stderr",
     "output_type": "stream",
     "text": [
      " 33%|▎| 1251/3737 [15:04<17:25,  2.38i"
     ]
    },
    {
     "name": "stdout",
     "output_type": "stream",
     "text": [
      "SRR12090432.325272\n",
      "SRR12090432.560352\n",
      "SRR12090432.260549\n",
      "SRR12090432.817761\n"
     ]
    },
    {
     "name": "stderr",
     "output_type": "stream",
     "text": [
      "100%|█| 3737/3737 [23:35<00:00,  2.64i\n"
     ]
    },
    {
     "name": "stdout",
     "output_type": "stream",
     "text": [
      "../runs/SRR12090426.sorted.bam\n"
     ]
    },
    {
     "name": "stderr",
     "output_type": "stream",
     "text": [
      " 12%| | 409/3538 [00:09<00:59, 52.71it"
     ]
    },
    {
     "name": "stdout",
     "output_type": "stream",
     "text": [
      "SRR12090426.494342\n"
     ]
    },
    {
     "name": "stderr",
     "output_type": "stream",
     "text": [
      " 58%|▌| 2040/3538 [05:05<00:54, 27.30i"
     ]
    },
    {
     "name": "stdout",
     "output_type": "stream",
     "text": [
      "SRR12090426.90739\n",
      "SRR12090426.519734\n",
      "SRR12090426.204787\n",
      "SRR12090426.136574\n",
      "SRR12090426.286649\n",
      "SRR12090426.740934\n",
      "SRR12090426.857337\n",
      "SRR12090426.470211\n",
      "SRR12090426.667643\n"
     ]
    },
    {
     "name": "stderr",
     "output_type": "stream",
     "text": [
      "100%|█| 3538/3538 [18:47<00:00,  3.14i\n"
     ]
    },
    {
     "name": "stdout",
     "output_type": "stream",
     "text": [
      "../runs/SRR12090433.sorted.bam\n"
     ]
    },
    {
     "name": "stderr",
     "output_type": "stream",
     "text": [
      " 33%|▎| 1284/3853 [15:08<02:47, 15.36i"
     ]
    },
    {
     "name": "stdout",
     "output_type": "stream",
     "text": [
      "SRR12090433.387880\n",
      "SRR12090433.805993\n",
      "SRR12090433.756518\n"
     ]
    },
    {
     "name": "stderr",
     "output_type": "stream",
     "text": [
      " 58%|▌| 2249/3853 [18:01<00:59, 27.15i"
     ]
    },
    {
     "name": "stdout",
     "output_type": "stream",
     "text": [
      "SRR12090433.977792\n",
      "SRR12090433.992393\n"
     ]
    },
    {
     "name": "stderr",
     "output_type": "stream",
     "text": [
      "100%|█| 3853/3853 [19:44<00:00,  3.25i\n"
     ]
    },
    {
     "name": "stdout",
     "output_type": "stream",
     "text": [
      "../runs/SRR12090429.sorted.bam\n"
     ]
    },
    {
     "name": "stderr",
     "output_type": "stream",
     "text": [
      " 57%|▌| 1939/3387 [04:46<00:53, 26.84i"
     ]
    },
    {
     "name": "stdout",
     "output_type": "stream",
     "text": [
      "SRR12090429.122840\n",
      "SRR12090429.99144\n",
      "SRR12090429.271483\n",
      "SRR12090429.444496\n",
      "SRR12090429.425939\n"
     ]
    },
    {
     "name": "stderr",
     "output_type": "stream",
     "text": [
      "100%|█| 3387/3387 [07:21<00:00,  7.68i\n"
     ]
    },
    {
     "name": "stdout",
     "output_type": "stream",
     "text": [
      "../runs/SRR12090434.sorted.bam\n"
     ]
    },
    {
     "name": "stderr",
     "output_type": "stream",
     "text": [
      " 33%|▎| 1233/3715 [06:32<07:01,  5.89i"
     ]
    },
    {
     "name": "stdout",
     "output_type": "stream",
     "text": [
      "SRR12090434.383554\n",
      "SRR12090434.73554\n"
     ]
    },
    {
     "name": "stderr",
     "output_type": "stream",
     "text": [
      "100%|█| 3715/3715 [15:02<00:00,  4.11i\n"
     ]
    },
    {
     "name": "stdout",
     "output_type": "stream",
     "text": [
      "../runs/SRR12090431.sorted.bam\n"
     ]
    },
    {
     "name": "stderr",
     "output_type": "stream",
     "text": [
      " 34%|▎| 1291/3842 [11:11<02:50, 14.94i"
     ]
    },
    {
     "name": "stdout",
     "output_type": "stream",
     "text": [
      "SRR12090431.277134\n",
      "SRR12090431.457812\n",
      "SRR12090431.684267\n",
      "SRR12090431.956707\n",
      "SRR12090431.789191\n"
     ]
    },
    {
     "name": "stderr",
     "output_type": "stream",
     "text": [
      " 58%|▌| 2240/3842 [15:01<00:51, 31.29i"
     ]
    },
    {
     "name": "stdout",
     "output_type": "stream",
     "text": [
      "SRR12090431.837437\n",
      "SRR12090431.774440\n",
      "SRR12090431.541798\n",
      "SRR12090431.703905\n"
     ]
    },
    {
     "name": "stderr",
     "output_type": "stream",
     "text": [
      "100%|█| 3842/3842 [16:34<00:00,  3.86i\n"
     ]
    },
    {
     "name": "stdout",
     "output_type": "stream",
     "text": [
      "../runs/SRR12090428.sorted.bam\n"
     ]
    },
    {
     "name": "stderr",
     "output_type": "stream",
     "text": [
      " 33%|▎| 1205/3692 [12:15<09:25,  4.40i"
     ]
    },
    {
     "name": "stdout",
     "output_type": "stream",
     "text": [
      "SRR12090428.106822\n",
      "SRR12090428.602086\n",
      "SRR12090428.704569\n",
      "SRR12090428.818327\n",
      "SRR12090428.860942\n",
      "SRR12090428.95585\n"
     ]
    },
    {
     "name": "stderr",
     "output_type": "stream",
     "text": [
      "100%|█| 3692/3692 [29:33<00:00,  2.08i\n"
     ]
    }
   ],
   "source": [
    "fasta = ecoli_info['reference_fasta_path'].values[0].replace('.fna', '_transcripts.fasta')\n",
    "\n",
    "for bam in bams:\n",
    "    print(bam)\n",
    "    read_dict = gen_mapping_gene_read_dict(bam, gtf)\n",
    "    output_name = f'{output_folder}training_new/{bam.split(\"/\")[-1].split(\".\")[0]}_training.h5'\n",
    "    gen_training_h5py_position(bam, fasta, read_dict,\n",
    "                                   output_filename=output_name,\n",
    "                                   min_coverage=20, max_coverage=100)"
   ]
  },
  {
   "cell_type": "markdown",
   "id": "d992d368",
   "metadata": {},
   "source": [
    "## Create a training dataset\n",
    "\n",
    "Here we create a chunked dataset that can be used to train from a single WT sample."
   ]
  },
  {
   "cell_type": "code",
   "execution_count": 28,
   "id": "c36b0f48",
   "metadata": {},
   "outputs": [
    {
     "data": {
      "text/html": [
       "<div>\n",
       "<style scoped>\n",
       "    .dataframe tbody tr th:only-of-type {\n",
       "        vertical-align: middle;\n",
       "    }\n",
       "\n",
       "    .dataframe tbody tr th {\n",
       "        vertical-align: top;\n",
       "    }\n",
       "\n",
       "    .dataframe thead th {\n",
       "        text-align: right;\n",
       "    }\n",
       "</style>\n",
       "<table border=\"1\" class=\"dataframe\">\n",
       "  <thead>\n",
       "    <tr style=\"text-align: right;\">\n",
       "      <th></th>\n",
       "      <th>Run</th>\n",
       "      <th>Gene</th>\n",
       "      <th>ID</th>\n",
       "      <th>Start</th>\n",
       "      <th>4</th>\n",
       "      <th>5</th>\n",
       "      <th>6</th>\n",
       "      <th>7</th>\n",
       "      <th>8</th>\n",
       "      <th>9</th>\n",
       "      <th>...</th>\n",
       "      <th>14</th>\n",
       "      <th>15</th>\n",
       "      <th>16</th>\n",
       "      <th>17</th>\n",
       "      <th>18</th>\n",
       "      <th>19</th>\n",
       "      <th>20</th>\n",
       "      <th>21</th>\n",
       "      <th>22</th>\n",
       "      <th>23</th>\n",
       "    </tr>\n",
       "  </thead>\n",
       "  <tbody>\n",
       "    <tr>\n",
       "      <th>0</th>\n",
       "      <td>../runs/training_new/SRR12090434_training.h5</td>\n",
       "      <td>NC_000913.3:1005951-1006494</td>\n",
       "      <td>0</td>\n",
       "      <td>0</td>\n",
       "      <td>13.0</td>\n",
       "      <td>0.0</td>\n",
       "      <td>0.0</td>\n",
       "      <td>0.0</td>\n",
       "      <td>0.0</td>\n",
       "      <td>0.0</td>\n",
       "      <td>...</td>\n",
       "      <td>0.0</td>\n",
       "      <td>0.0</td>\n",
       "      <td>21.0</td>\n",
       "      <td>0.0</td>\n",
       "      <td>23.0</td>\n",
       "      <td>0.0</td>\n",
       "      <td>0.0</td>\n",
       "      <td>0.0</td>\n",
       "      <td>10.0</td>\n",
       "      <td>0.0</td>\n",
       "    </tr>\n",
       "    <tr>\n",
       "      <th>1</th>\n",
       "      <td>../runs/training_new/SRR12090434_training.h5</td>\n",
       "      <td>NC_000913.3:1005951-1006494</td>\n",
       "      <td>1</td>\n",
       "      <td>5</td>\n",
       "      <td>24.0</td>\n",
       "      <td>17.0</td>\n",
       "      <td>0.0</td>\n",
       "      <td>0.0</td>\n",
       "      <td>NaN</td>\n",
       "      <td>0.0</td>\n",
       "      <td>...</td>\n",
       "      <td>0.0</td>\n",
       "      <td>0.0</td>\n",
       "      <td>0.0</td>\n",
       "      <td>0.0</td>\n",
       "      <td>NaN</td>\n",
       "      <td>0.0</td>\n",
       "      <td>0.0</td>\n",
       "      <td>0.0</td>\n",
       "      <td>0.0</td>\n",
       "      <td>NaN</td>\n",
       "    </tr>\n",
       "    <tr>\n",
       "      <th>2</th>\n",
       "      <td>../runs/training_new/SRR12090434_training.h5</td>\n",
       "      <td>NC_000913.3:1005951-1006494</td>\n",
       "      <td>2</td>\n",
       "      <td>10</td>\n",
       "      <td>6.0</td>\n",
       "      <td>7.0</td>\n",
       "      <td>0.0</td>\n",
       "      <td>0.0</td>\n",
       "      <td>5.0</td>\n",
       "      <td>0.0</td>\n",
       "      <td>...</td>\n",
       "      <td>0.0</td>\n",
       "      <td>0.0</td>\n",
       "      <td>0.0</td>\n",
       "      <td>0.0</td>\n",
       "      <td>0.0</td>\n",
       "      <td>0.0</td>\n",
       "      <td>0.0</td>\n",
       "      <td>7.0</td>\n",
       "      <td>18.0</td>\n",
       "      <td>0.0</td>\n",
       "    </tr>\n",
       "    <tr>\n",
       "      <th>3</th>\n",
       "      <td>../runs/training_new/SRR12090434_training.h5</td>\n",
       "      <td>NC_000913.3:1005951-1006494</td>\n",
       "      <td>3</td>\n",
       "      <td>15</td>\n",
       "      <td>0.0</td>\n",
       "      <td>30.0</td>\n",
       "      <td>0.0</td>\n",
       "      <td>0.0</td>\n",
       "      <td>12.0</td>\n",
       "      <td>0.0</td>\n",
       "      <td>...</td>\n",
       "      <td>26.0</td>\n",
       "      <td>0.0</td>\n",
       "      <td>0.0</td>\n",
       "      <td>27.0</td>\n",
       "      <td>0.0</td>\n",
       "      <td>0.0</td>\n",
       "      <td>0.0</td>\n",
       "      <td>19.0</td>\n",
       "      <td>0.0</td>\n",
       "      <td>0.0</td>\n",
       "    </tr>\n",
       "    <tr>\n",
       "      <th>4</th>\n",
       "      <td>../runs/training_new/SRR12090434_training.h5</td>\n",
       "      <td>NC_000913.3:1005951-1006494</td>\n",
       "      <td>4</td>\n",
       "      <td>20</td>\n",
       "      <td>0.0</td>\n",
       "      <td>26.0</td>\n",
       "      <td>29.0</td>\n",
       "      <td>0.0</td>\n",
       "      <td>0.0</td>\n",
       "      <td>21.0</td>\n",
       "      <td>...</td>\n",
       "      <td>0.0</td>\n",
       "      <td>0.0</td>\n",
       "      <td>0.0</td>\n",
       "      <td>0.0</td>\n",
       "      <td>0.0</td>\n",
       "      <td>0.0</td>\n",
       "      <td>0.0</td>\n",
       "      <td>0.0</td>\n",
       "      <td>22.0</td>\n",
       "      <td>0.0</td>\n",
       "    </tr>\n",
       "    <tr>\n",
       "      <th>...</th>\n",
       "      <td>...</td>\n",
       "      <td>...</td>\n",
       "      <td>...</td>\n",
       "      <td>...</td>\n",
       "      <td>...</td>\n",
       "      <td>...</td>\n",
       "      <td>...</td>\n",
       "      <td>...</td>\n",
       "      <td>...</td>\n",
       "      <td>...</td>\n",
       "      <td>...</td>\n",
       "      <td>...</td>\n",
       "      <td>...</td>\n",
       "      <td>...</td>\n",
       "      <td>...</td>\n",
       "      <td>...</td>\n",
       "      <td>...</td>\n",
       "      <td>...</td>\n",
       "      <td>...</td>\n",
       "      <td>...</td>\n",
       "      <td>...</td>\n",
       "    </tr>\n",
       "    <tr>\n",
       "      <th>1369377</th>\n",
       "      <td>../runs/training_new/SRR12090434_training.h5</td>\n",
       "      <td>NC_000913.3:99643-100711</td>\n",
       "      <td>93</td>\n",
       "      <td>465</td>\n",
       "      <td>0.0</td>\n",
       "      <td>13.0</td>\n",
       "      <td>16.0</td>\n",
       "      <td>0.0</td>\n",
       "      <td>0.0</td>\n",
       "      <td>0.0</td>\n",
       "      <td>...</td>\n",
       "      <td>15.0</td>\n",
       "      <td>0.0</td>\n",
       "      <td>0.0</td>\n",
       "      <td>25.0</td>\n",
       "      <td>0.0</td>\n",
       "      <td>0.0</td>\n",
       "      <td>0.0</td>\n",
       "      <td>0.0</td>\n",
       "      <td>0.0</td>\n",
       "      <td>0.0</td>\n",
       "    </tr>\n",
       "    <tr>\n",
       "      <th>1369378</th>\n",
       "      <td>../runs/training_new/SRR12090434_training.h5</td>\n",
       "      <td>NC_000913.3:99643-100711</td>\n",
       "      <td>94</td>\n",
       "      <td>470</td>\n",
       "      <td>0.0</td>\n",
       "      <td>0.0</td>\n",
       "      <td>0.0</td>\n",
       "      <td>0.0</td>\n",
       "      <td>0.0</td>\n",
       "      <td>0.0</td>\n",
       "      <td>...</td>\n",
       "      <td>8.0</td>\n",
       "      <td>25.0</td>\n",
       "      <td>0.0</td>\n",
       "      <td>15.0</td>\n",
       "      <td>23.0</td>\n",
       "      <td>0.0</td>\n",
       "      <td>0.0</td>\n",
       "      <td>0.0</td>\n",
       "      <td>0.0</td>\n",
       "      <td>0.0</td>\n",
       "    </tr>\n",
       "    <tr>\n",
       "      <th>1369379</th>\n",
       "      <td>../runs/training_new/SRR12090434_training.h5</td>\n",
       "      <td>NC_000913.3:99643-100711</td>\n",
       "      <td>95</td>\n",
       "      <td>475</td>\n",
       "      <td>0.0</td>\n",
       "      <td>0.0</td>\n",
       "      <td>15.0</td>\n",
       "      <td>16.0</td>\n",
       "      <td>0.0</td>\n",
       "      <td>0.0</td>\n",
       "      <td>...</td>\n",
       "      <td>30.0</td>\n",
       "      <td>0.0</td>\n",
       "      <td>0.0</td>\n",
       "      <td>0.0</td>\n",
       "      <td>0.0</td>\n",
       "      <td>0.0</td>\n",
       "      <td>0.0</td>\n",
       "      <td>0.0</td>\n",
       "      <td>0.0</td>\n",
       "      <td>17.0</td>\n",
       "    </tr>\n",
       "    <tr>\n",
       "      <th>1369380</th>\n",
       "      <td>../runs/training_new/SRR12090434_training.h5</td>\n",
       "      <td>NC_000913.3:99643-100711</td>\n",
       "      <td>96</td>\n",
       "      <td>480</td>\n",
       "      <td>0.0</td>\n",
       "      <td>0.0</td>\n",
       "      <td>0.0</td>\n",
       "      <td>0.0</td>\n",
       "      <td>0.0</td>\n",
       "      <td>0.0</td>\n",
       "      <td>...</td>\n",
       "      <td>0.0</td>\n",
       "      <td>0.0</td>\n",
       "      <td>17.0</td>\n",
       "      <td>27.0</td>\n",
       "      <td>0.0</td>\n",
       "      <td>18.0</td>\n",
       "      <td>13.0</td>\n",
       "      <td>0.0</td>\n",
       "      <td>0.0</td>\n",
       "      <td>0.0</td>\n",
       "    </tr>\n",
       "    <tr>\n",
       "      <th>1369381</th>\n",
       "      <td>../runs/training_new/SRR12090434_training.h5</td>\n",
       "      <td>NC_000913.3:99643-100711</td>\n",
       "      <td>97</td>\n",
       "      <td>485</td>\n",
       "      <td>0.0</td>\n",
       "      <td>0.0</td>\n",
       "      <td>15.0</td>\n",
       "      <td>0.0</td>\n",
       "      <td>NaN</td>\n",
       "      <td>NaN</td>\n",
       "      <td>...</td>\n",
       "      <td>NaN</td>\n",
       "      <td>NaN</td>\n",
       "      <td>NaN</td>\n",
       "      <td>NaN</td>\n",
       "      <td>NaN</td>\n",
       "      <td>NaN</td>\n",
       "      <td>NaN</td>\n",
       "      <td>NaN</td>\n",
       "      <td>NaN</td>\n",
       "      <td>NaN</td>\n",
       "    </tr>\n",
       "  </tbody>\n",
       "</table>\n",
       "<p>1369382 rows × 24 columns</p>\n",
       "</div>"
      ],
      "text/plain": [
       "                                                  Run  \\\n",
       "0        ../runs/training_new/SRR12090434_training.h5   \n",
       "1        ../runs/training_new/SRR12090434_training.h5   \n",
       "2        ../runs/training_new/SRR12090434_training.h5   \n",
       "3        ../runs/training_new/SRR12090434_training.h5   \n",
       "4        ../runs/training_new/SRR12090434_training.h5   \n",
       "...                                               ...   \n",
       "1369377  ../runs/training_new/SRR12090434_training.h5   \n",
       "1369378  ../runs/training_new/SRR12090434_training.h5   \n",
       "1369379  ../runs/training_new/SRR12090434_training.h5   \n",
       "1369380  ../runs/training_new/SRR12090434_training.h5   \n",
       "1369381  ../runs/training_new/SRR12090434_training.h5   \n",
       "\n",
       "                                Gene  ID  Start     4     5     6     7     8  \\\n",
       "0        NC_000913.3:1005951-1006494   0      0  13.0   0.0   0.0   0.0   0.0   \n",
       "1        NC_000913.3:1005951-1006494   1      5  24.0  17.0   0.0   0.0   NaN   \n",
       "2        NC_000913.3:1005951-1006494   2     10   6.0   7.0   0.0   0.0   5.0   \n",
       "3        NC_000913.3:1005951-1006494   3     15   0.0  30.0   0.0   0.0  12.0   \n",
       "4        NC_000913.3:1005951-1006494   4     20   0.0  26.0  29.0   0.0   0.0   \n",
       "...                              ...  ..    ...   ...   ...   ...   ...   ...   \n",
       "1369377     NC_000913.3:99643-100711  93    465   0.0  13.0  16.0   0.0   0.0   \n",
       "1369378     NC_000913.3:99643-100711  94    470   0.0   0.0   0.0   0.0   0.0   \n",
       "1369379     NC_000913.3:99643-100711  95    475   0.0   0.0  15.0  16.0   0.0   \n",
       "1369380     NC_000913.3:99643-100711  96    480   0.0   0.0   0.0   0.0   0.0   \n",
       "1369381     NC_000913.3:99643-100711  97    485   0.0   0.0  15.0   0.0   NaN   \n",
       "\n",
       "            9  ...    14    15    16    17    18    19    20    21    22    23  \n",
       "0         0.0  ...   0.0   0.0  21.0   0.0  23.0   0.0   0.0   0.0  10.0   0.0  \n",
       "1         0.0  ...   0.0   0.0   0.0   0.0   NaN   0.0   0.0   0.0   0.0   NaN  \n",
       "2         0.0  ...   0.0   0.0   0.0   0.0   0.0   0.0   0.0   7.0  18.0   0.0  \n",
       "3         0.0  ...  26.0   0.0   0.0  27.0   0.0   0.0   0.0  19.0   0.0   0.0  \n",
       "4        21.0  ...   0.0   0.0   0.0   0.0   0.0   0.0   0.0   0.0  22.0   0.0  \n",
       "...       ...  ...   ...   ...   ...   ...   ...   ...   ...   ...   ...   ...  \n",
       "1369377   0.0  ...  15.0   0.0   0.0  25.0   0.0   0.0   0.0   0.0   0.0   0.0  \n",
       "1369378   0.0  ...   8.0  25.0   0.0  15.0  23.0   0.0   0.0   0.0   0.0   0.0  \n",
       "1369379   0.0  ...  30.0   0.0   0.0   0.0   0.0   0.0   0.0   0.0   0.0  17.0  \n",
       "1369380   0.0  ...   0.0   0.0  17.0  27.0   0.0  18.0  13.0   0.0   0.0   0.0  \n",
       "1369381   NaN  ...   NaN   NaN   NaN   NaN   NaN   NaN   NaN   NaN   NaN   NaN  \n",
       "\n",
       "[1369382 rows x 24 columns]"
      ]
     },
     "execution_count": 28,
     "metadata": {},
     "output_type": "execute_result"
    }
   ],
   "source": [
    "training_run = f'{output_folder}training_new/SRR12090434_training.h5' # Use a S-minus sample\n",
    "kmer_len = 5\n",
    "training_df = create_train_chunked_set([training_run], kmer_len)\n",
    "training_df"
   ]
  },
  {
   "cell_type": "markdown",
   "id": "955e2612",
   "metadata": {},
   "source": [
    "## Get k-mers across the 16s genes\n",
    "\n",
    "We want to do a sliding window to have a look at the kmers across a gene.\n",
    "\n",
    "This will allow us to actually do the searchy thing properly and see if the tails of the distributions enable the identification of the modifications in KO."
   ]
  },
  {
   "cell_type": "code",
   "execution_count": 29,
   "id": "225a765b",
   "metadata": {},
   "outputs": [],
   "source": [
    "count_df_nn = count_df[mean_counts > 10]\n",
    "genes = list(set(count_df_nn['id'].values))\n",
    "\n",
    "gen_kmer_sliding_window_ref(fasta, 5, f'{output_folder}kmer_5_bac.h5', genes)"
   ]
  },
  {
   "cell_type": "code",
   "execution_count": 30,
   "id": "2ae456e6",
   "metadata": {},
   "outputs": [],
   "source": [
    "from collections import defaultdict\n",
    "kmer_counts = defaultdict(int)\n",
    "kmer_h5 = h5py.File(f'{output_folder}kmer_5_bac.h5', 'r')\n",
    "for kmer in kmer_h5:\n",
    "    kmer_data = kmer_h5[kmer]\n",
    "    for k in kmer_data.keys():\n",
    "        #for position in kmer_data[k]:\n",
    "        kmer_counts[kmer] += 1\n",
    "kmer_h5.close()"
   ]
  },
  {
   "cell_type": "code",
   "execution_count": 31,
   "id": "86bdbe6a",
   "metadata": {},
   "outputs": [
    {
     "data": {
      "text/plain": [
       "{'GCCAG': 1864,\n",
       " 'CGCCA': 1855,\n",
       " 'CAGCG': 1846,\n",
       " 'CTGGC': 1840,\n",
       " 'CCAGC': 1818,\n",
       " 'CAGCA': 1817,\n",
       " 'CGCTG': 1805,\n",
       " 'TGGCG': 1797,\n",
       " 'TGCTG': 1795,\n",
       " 'GCTGG': 1774,\n",
       " 'CGGCA': 1770,\n",
       " 'TGCCG': 1765,\n",
       " 'GCGCA': 1757,\n",
       " 'ATCGC': 1756,\n",
       " 'TGCGC': 1747,\n",
       " 'GCTGC': 1745,\n",
       " 'GCAGC': 1744,\n",
       " 'GCGAT': 1740,\n",
       " 'CGGCG': 1732,\n",
       " 'GCCGC': 1729,\n",
       " 'GCGGC': 1729,\n",
       " 'TCAGC': 1729,\n",
       " 'CGCCG': 1719,\n",
       " 'TTGCC': 1719,\n",
       " 'GCGCG': 1713,\n",
       " 'TCGCC': 1708,\n",
       " 'CGCGC': 1706,\n",
       " 'TTTGC': 1704,\n",
       " 'GGCAA': 1703,\n",
       " 'CGCAG': 1702,\n",
       " 'GGCGA': 1695,\n",
       " 'CATCA': 1691,\n",
       " 'GCCTG': 1690,\n",
       " 'GCGTT': 1690,\n",
       " 'AACGC': 1680,\n",
       " 'GCAAA': 1679,\n",
       " 'TGGCA': 1677,\n",
       " 'ACCGC': 1670,\n",
       " 'TGCCA': 1664,\n",
       " 'CTGCG': 1663,\n",
       " 'CAGGC': 1658,\n",
       " 'TGATG': 1653,\n",
       " 'GCTGA': 1646,\n",
       " 'AGCGC': 1645,\n",
       " 'CACCG': 1641,\n",
       " 'TGGTG': 1641,\n",
       " 'GCGCT': 1637,\n",
       " 'CTGGT': 1634,\n",
       " 'ACGCC': 1624,\n",
       " 'CACCA': 1624,\n",
       " 'CCTGC': 1622,\n",
       " 'ACCAG': 1620,\n",
       " 'GCAGG': 1618,\n",
       " 'CAGAA': 1616,\n",
       " 'GCGCC': 1610,\n",
       " 'GCAGA': 1609,\n",
       " 'GCTTT': 1609,\n",
       " 'GGCGT': 1607,\n",
       " 'ATCAG': 1605,\n",
       " 'TTCAG': 1605,\n",
       " 'GGCAG': 1603,\n",
       " 'TTCGC': 1602,\n",
       " 'GCGAA': 1601,\n",
       " 'GGCGC': 1600,\n",
       " 'TCACC': 1600,\n",
       " 'CTGCC': 1599,\n",
       " 'CGATG': 1598,\n",
       " 'CCGCC': 1596,\n",
       " 'GCGGT': 1596,\n",
       " 'CCAGA': 1589,\n",
       " 'GGTGA': 1589,\n",
       " 'TTTTC': 1587,\n",
       " 'CAGCC': 1586,\n",
       " 'GCAAC': 1585,\n",
       " 'GTTGC': 1585,\n",
       " 'TCCAG': 1585,\n",
       " 'CGGTG': 1584,\n",
       " 'CGTTT': 1583,\n",
       " 'GATGC': 1582,\n",
       " 'TTTTG': 1582,\n",
       " 'CATCG': 1580,\n",
       " 'TCATC': 1580,\n",
       " 'TCGCG': 1580,\n",
       " 'ATGGC': 1578,\n",
       " 'CTGAA': 1578,\n",
       " 'AAAAC': 1577,\n",
       " 'GTTTT': 1577,\n",
       " 'TGCAG': 1577,\n",
       " 'AAACC': 1576,\n",
       " 'CTGAT': 1576,\n",
       " 'CAAAA': 1574,\n",
       " 'CAGTT': 1573,\n",
       " 'GCAAT': 1573,\n",
       " 'GCCAT': 1573,\n",
       " 'TACCG': 1573,\n",
       " 'TTCTG': 1573,\n",
       " 'AAACG': 1572,\n",
       " 'AGCAG': 1571,\n",
       " 'CGTCA': 1567,\n",
       " 'ACCGG': 1564,\n",
       " 'CTGCA': 1564,\n",
       " 'CTGCT': 1564,\n",
       " 'ATTGC': 1562,\n",
       " 'ATCAA': 1561,\n",
       " 'GGCGG': 1560,\n",
       " 'CCGGT': 1557,\n",
       " 'CGTTG': 1557,\n",
       " 'TCTGG': 1555,\n",
       " 'AACTG': 1552,\n",
       " 'ACGCG': 1550,\n",
       " 'GGTTT': 1550,\n",
       " 'ATTTT': 1549,\n",
       " 'TCAGG': 1549,\n",
       " 'AAAGC': 1548,\n",
       " 'AGCGT': 1547,\n",
       " 'CGCTT': 1546,\n",
       " 'TTGAT': 1545,\n",
       " 'GAAAA': 1544,\n",
       " 'CGCGA': 1543,\n",
       " 'CGCGG': 1543,\n",
       " 'CAGGT': 1539,\n",
       " 'CAACG': 1538,\n",
       " 'GATGA': 1538,\n",
       " 'CTGGA': 1537,\n",
       " 'ACGCT': 1536,\n",
       " 'AGCGG': 1536,\n",
       " 'TGCGG': 1536,\n",
       " 'CCGCT': 1535,\n",
       " 'CGGTA': 1534,\n",
       " 'CGGTT': 1534,\n",
       " 'GACGC': 1534,\n",
       " 'CAGCT': 1533,\n",
       " 'GGCTG': 1533,\n",
       " 'TGACG': 1533,\n",
       " 'AACCG': 1531,\n",
       " 'TCTGC': 1530,\n",
       " 'CCATC': 1529,\n",
       " 'CCTGA': 1529,\n",
       " 'AAATC': 1526,\n",
       " 'CGCGT': 1526,\n",
       " 'CCGCA': 1524,\n",
       " 'AAGCG': 1522,\n",
       " 'CCAGT': 1522,\n",
       " 'GCATC': 1522,\n",
       " 'TTGCG': 1519,\n",
       " 'CTGAC': 1518,\n",
       " 'ACTGG': 1517,\n",
       " 'TTACC': 1517,\n",
       " 'CCGCG': 1514,\n",
       " 'TCAAC': 1514,\n",
       " 'TCGGC': 1514,\n",
       " 'ACGGC': 1513,\n",
       " 'CGGAA': 1512,\n",
       " 'TTTCA': 1512,\n",
       " 'AAAAT': 1510,\n",
       " 'ACCTG': 1509,\n",
       " 'CGCAA': 1508,\n",
       " 'AGCTG': 1504,\n",
       " 'GATTT': 1504,\n",
       " 'TTCCG': 1504,\n",
       " 'GGTAA': 1503,\n",
       " 'AGCGA': 1502,\n",
       " 'GTCAG': 1501,\n",
       " 'TGATT': 1501,\n",
       " 'ATGCC': 1500,\n",
       " 'TATCG': 1500,\n",
       " 'TTTCC': 1500,\n",
       " 'AACCA': 1499,\n",
       " 'TTGCT': 1499,\n",
       " 'CCTGG': 1498,\n",
       " 'ACCGT': 1497,\n",
       " 'CCAGG': 1496,\n",
       " 'GATAA': 1496,\n",
       " 'TGACC': 1493,\n",
       " 'CACGC': 1492,\n",
       " 'ATTTC': 1491,\n",
       " 'GTTGA': 1491,\n",
       " 'GCCGT': 1490,\n",
       " 'AACAG': 1489,\n",
       " 'CGATA': 1489,\n",
       " 'AGCAA': 1488,\n",
       " 'TGGCT': 1487,\n",
       " 'TTATC': 1485,\n",
       " 'GCGTG': 1484,\n",
       " 'GCGTC': 1483,\n",
       " 'GCTGT': 1483,\n",
       " 'GATCA': 1482,\n",
       " 'TCGCT': 1482,\n",
       " 'CCGGA': 1480,\n",
       " 'TGGTT': 1480,\n",
       " 'ACGGT': 1479,\n",
       " 'CAACC': 1479,\n",
       " 'CAAAC': 1478,\n",
       " 'GATGG': 1478,\n",
       " 'AATGC': 1477,\n",
       " 'CCGTT': 1476,\n",
       " 'GAAGC': 1476,\n",
       " 'GCACC': 1476,\n",
       " 'CTGTT': 1475,\n",
       " 'AATCA': 1474,\n",
       " 'ACGCA': 1473,\n",
       " 'ATCAC': 1473,\n",
       " 'GCTTC': 1473,\n",
       " 'GATCG': 1471,\n",
       " 'AGCCA': 1470,\n",
       " 'ATGCG': 1470,\n",
       " 'AGAAA': 1469,\n",
       " 'GGCAT': 1469,\n",
       " 'TTTCG': 1469,\n",
       " 'CCGGC': 1468,\n",
       " 'GCCGG': 1468,\n",
       " 'CGCAT': 1467,\n",
       " 'GGTGC': 1466,\n",
       " 'GGTCA': 1465,\n",
       " 'GTGAT': 1464,\n",
       " 'GCCGA': 1463,\n",
       " 'TCCGG': 1463,\n",
       " 'TGAAA': 1462,\n",
       " 'GAAAT': 1458,\n",
       " 'ACCAC': 1457,\n",
       " 'CAGAT': 1456,\n",
       " 'CGACG': 1456,\n",
       " 'GTTTC': 1454,\n",
       " 'ACCAT': 1453,\n",
       " 'CAACA': 1453,\n",
       " 'GGAAA': 1453,\n",
       " 'GTTTG': 1452,\n",
       " 'TGTTG': 1450,\n",
       " 'ACAGC': 1449,\n",
       " 'CGTTA': 1449,\n",
       " 'GCGTA': 1449,\n",
       " 'TTCCA': 1449,\n",
       " 'TGGAA': 1448,\n",
       " 'TTTAC': 1446,\n",
       " 'CGCCT': 1444,\n",
       " 'GCATT': 1444,\n",
       " 'GCGGA': 1443,\n",
       " 'TTTTT': 1442,\n",
       " 'CCATT': 1438,\n",
       " 'CGAAA': 1436,\n",
       " 'CGATC': 1436,\n",
       " 'TGATC': 1436,\n",
       " 'GAAAC': 1435,\n",
       " 'ATCTG': 1434,\n",
       " 'GCAGT': 1434,\n",
       " 'AACGG': 1433,\n",
       " 'GGAAG': 1433,\n",
       " 'AACGT': 1432,\n",
       " 'TCCGC': 1432,\n",
       " 'TTCAC': 1432,\n",
       " 'ACGTT': 1429,\n",
       " 'ATATC': 1427,\n",
       " 'CTTTG': 1427,\n",
       " 'TACGC': 1426,\n",
       " 'TGTTC': 1425,\n",
       " 'TCGAT': 1424,\n",
       " 'CTTCA': 1423,\n",
       " 'GTCGC': 1423,\n",
       " 'CAATG': 1420,\n",
       " 'GTTCA': 1420,\n",
       " 'GCGAC': 1418,\n",
       " 'ATCAT': 1412,\n",
       " 'CGTCG': 1412,\n",
       " 'GCCAC': 1412,\n",
       " 'ATGGT': 1410,\n",
       " 'GAAAG': 1410,\n",
       " 'TAACG': 1410,\n",
       " 'TGAAC': 1409,\n",
       " 'CAGGA': 1408,\n",
       " 'AAACA': 1406,\n",
       " 'GTGAA': 1404,\n",
       " 'TGAAG': 1404,\n",
       " 'AGGCG': 1403,\n",
       " 'GAACA': 1403,\n",
       " 'GCCAA': 1403,\n",
       " 'ATAAA': 1402,\n",
       " 'TTTCT': 1400,\n",
       " 'GAAGA': 1399,\n",
       " 'ACTGC': 1398,\n",
       " 'TTTAT': 1398,\n",
       " 'TCTTC': 1395,\n",
       " 'TTGGC': 1393,\n",
       " 'GATAT': 1392,\n",
       " 'GGTTG': 1392,\n",
       " 'CATTG': 1391,\n",
       " 'TCCTG': 1391,\n",
       " 'GACCA': 1390,\n",
       " 'AAGCC': 1389,\n",
       " 'CCACC': 1389,\n",
       " 'GGCTT': 1385,\n",
       " 'TCTTT': 1385,\n",
       " 'GTAAA': 1384,\n",
       " 'ATCGA': 1383,\n",
       " 'GCCCG': 1383,\n",
       " 'CGTTC': 1382,\n",
       " 'ATGAT': 1381,\n",
       " 'CGCAC': 1379,\n",
       " 'AAAAA': 1378,\n",
       " 'AATCG': 1378,\n",
       " 'TGCGT': 1377,\n",
       " 'TTGTT': 1377,\n",
       " 'CGATT': 1376,\n",
       " 'TTAAC': 1374,\n",
       " 'AACAA': 1373,\n",
       " 'CTTCC': 1373,\n",
       " 'GTGGT': 1373,\n",
       " 'CATTT': 1372,\n",
       " 'CAAAG': 1370,\n",
       " 'CACTG': 1370,\n",
       " 'ATCCA': 1369,\n",
       " 'CTTTC': 1368,\n",
       " 'TTCAT': 1368,\n",
       " 'GTGGC': 1367,\n",
       " 'AATGG': 1365,\n",
       " 'ACCGA': 1365,\n",
       " 'ATGAA': 1364,\n",
       " 'TCGGT': 1364,\n",
       " 'ATCGG': 1363,\n",
       " 'TGTTT': 1362,\n",
       " 'CAGTG': 1360,\n",
       " 'TGGTC': 1356,\n",
       " 'TTTGA': 1356,\n",
       " 'AATTT': 1353,\n",
       " 'ATCGT': 1352,\n",
       " 'CCCGC': 1352,\n",
       " 'CCGAT': 1352,\n",
       " 'CTTCG': 1351,\n",
       " 'AAATT': 1347,\n",
       " 'ATCCG': 1344,\n",
       " 'GAACG': 1344,\n",
       " 'GTTAA': 1344,\n",
       " 'TTACG': 1344,\n",
       " 'AAAGA': 1343,\n",
       " 'CAGAC': 1342,\n",
       " 'CGCCC': 1341,\n",
       " 'TTCTT': 1341,\n",
       " 'ACGAT': 1339,\n",
       " 'CCCAG': 1338,\n",
       " 'TGCAA': 1337,\n",
       " 'CTTTT': 1336,\n",
       " 'TGAAT': 1336,\n",
       " 'GGTGG': 1333,\n",
       " 'CTTTA': 1332,\n",
       " 'GACCG': 1331,\n",
       " 'CAATC': 1329,\n",
       " 'CGGAT': 1329,\n",
       " 'AAACT': 1328,\n",
       " 'AGCCG': 1328,\n",
       " 'CGTAA': 1328,\n",
       " 'TCAAA': 1328,\n",
       " 'ACATC': 1327,\n",
       " 'CGGGC': 1326,\n",
       " 'GGCAC': 1326,\n",
       " 'GTGCC': 1325,\n",
       " 'TCAAT': 1325,\n",
       " 'TCACG': 1325,\n",
       " 'AAGAA': 1324,\n",
       " 'GATTG': 1324,\n",
       " 'TAAAG': 1323,\n",
       " 'TTGCA': 1323,\n",
       " 'TCGTC': 1322,\n",
       " 'CCGTC': 1321,\n",
       " 'GCACG': 1320,\n",
       " 'CGGCT': 1318,\n",
       " 'CGTGG': 1318,\n",
       " 'GTGCG': 1318,\n",
       " 'CGTGC': 1317,\n",
       " 'GGGCG': 1317,\n",
       " 'TTTGT': 1315,\n",
       " 'ATTGA': 1314,\n",
       " 'GCGGG': 1314,\n",
       " 'CATCC': 1313,\n",
       " 'TTCAA': 1313,\n",
       " 'AAATG': 1312,\n",
       " 'TGTCG': 1312,\n",
       " 'AGCAC': 1311,\n",
       " 'TTGAA': 1306,\n",
       " 'ACAAA': 1305,\n",
       " 'CCACG': 1305,\n",
       " 'ATTCA': 1304,\n",
       " 'GATGT': 1303,\n",
       " 'GTTTA': 1303,\n",
       " 'CCGGG': 1302,\n",
       " 'ATGAC': 1301,\n",
       " 'CGTGA': 1301,\n",
       " 'ATGCT': 1300,\n",
       " 'CCCGG': 1300,\n",
       " 'CGACC': 1298,\n",
       " 'ACTTC': 1297,\n",
       " 'GTCTG': 1297,\n",
       " 'TAACC': 1297,\n",
       " 'ATGTT': 1296,\n",
       " 'TAAAC': 1296,\n",
       " 'CGAAG': 1295,\n",
       " 'TGGAT': 1294,\n",
       " 'TGCTT': 1293,\n",
       " 'GTTCG': 1292,\n",
       " 'ACCCG': 1291,\n",
       " 'AGTTT': 1291,\n",
       " 'TTAAA': 1291,\n",
       " 'GGTTA': 1290,\n",
       " 'TACTG': 1290,\n",
       " 'ATACC': 1289,\n",
       " 'GTCAT': 1289,\n",
       " 'TTTTA': 1289,\n",
       " 'TGATA': 1288,\n",
       " 'AATAT': 1287,\n",
       " 'ACCAA': 1287,\n",
       " 'TGCTC': 1285,\n",
       " 'TTCGT': 1284,\n",
       " 'TCGTT': 1283,\n",
       " 'GACGA': 1281,\n",
       " 'GTTGG': 1281,\n",
       " 'CGAAC': 1280,\n",
       " 'TTTAA': 1279,\n",
       " 'AACAT': 1278,\n",
       " 'AGCAT': 1278,\n",
       " 'AAAGT': 1277,\n",
       " 'ACTGA': 1277,\n",
       " 'CATCT': 1277,\n",
       " 'GAATA': 1276,\n",
       " 'GGATC': 1275,\n",
       " 'TCAGT': 1275,\n",
       " 'GAAGT': 1274,\n",
       " 'ATAAC': 1270,\n",
       " 'TTGGT': 1269,\n",
       " 'CGACA': 1268,\n",
       " 'GGATG': 1268,\n",
       " 'GTTCC': 1268,\n",
       " 'CAATA': 1267,\n",
       " 'CAGTA': 1266,\n",
       " 'GACGG': 1266,\n",
       " 'GGTCG': 1266,\n",
       " 'CCAAC': 1265,\n",
       " 'TATTG': 1264,\n",
       " 'TTAAT': 1264,\n",
       " 'GCCTT': 1262,\n",
       " 'GGTAT': 1261,\n",
       " 'AAAAG': 1260,\n",
       " 'AAGCA': 1259,\n",
       " 'AGATC': 1259,\n",
       " 'GTAAT': 1259,\n",
       " 'AACGA': 1255,\n",
       " 'AATAC': 1254,\n",
       " 'CGGTC': 1254,\n",
       " 'AAGAT': 1253,\n",
       " 'TAATG': 1253,\n",
       " 'ATGCA': 1251,\n",
       " 'GAGCA': 1251,\n",
       " 'GATCC': 1251,\n",
       " 'GGAAC': 1251,\n",
       " 'GTCGA': 1251,\n",
       " 'CGGGT': 1250,\n",
       " 'ACAAC': 1248,\n",
       " 'AGATG': 1248,\n",
       " 'TATCA': 1248,\n",
       " 'TATTC': 1247,\n",
       " 'ATATT': 1244,\n",
       " 'CACGG': 1244,\n",
       " 'ATCTT': 1243,\n",
       " 'CTGGG': 1242,\n",
       " 'TACCA': 1242,\n",
       " 'TCATT': 1242,\n",
       " 'ACTTT': 1241,\n",
       " 'TGGTA': 1239,\n",
       " 'TCGAC': 1236,\n",
       " 'GTGCT': 1235,\n",
       " 'GCTCA': 1231,\n",
       " 'TGCCC': 1231,\n",
       " 'ATTTG': 1229,\n",
       " 'GGATT': 1229,\n",
       " 'GTTGT': 1229,\n",
       " 'TAAAA': 1228,\n",
       " 'CCCTG': 1227,\n",
       " 'CCTTC': 1227,\n",
       " 'TGCAT': 1227,\n",
       " 'AGTTC': 1226,\n",
       " 'GGTGT': 1226,\n",
       " 'TGCCT': 1226,\n",
       " 'TTATT': 1226,\n",
       " 'GAACT': 1225,\n",
       " 'CGCTC': 1223,\n",
       " 'ATTAC': 1221,\n",
       " 'CAGGG': 1220,\n",
       " 'ACACC': 1219,\n",
       " 'AATGA': 1218,\n",
       " 'GTTAT': 1218,\n",
       " 'TTCGG': 1218,\n",
       " 'GAAGG': 1217,\n",
       " 'TTTGG': 1217,\n",
       " 'AGGCA': 1216,\n",
       " 'TAATC': 1212,\n",
       " 'CATGC': 1211,\n",
       " 'CCGTG': 1211,\n",
       " 'GTATT': 1211,\n",
       " 'GCATG': 1210,\n",
       " 'GTGCA': 1210,\n",
       " 'GAATG': 1207,\n",
       " 'GGGCA': 1206,\n",
       " 'ATTAA': 1205,\n",
       " 'AGAAG': 1204,\n",
       " 'CCTTT': 1202,\n",
       " 'GAGCG': 1202,\n",
       " 'GCCCA': 1202,\n",
       " 'GTTAC': 1202,\n",
       " 'CCGAA': 1201,\n",
       " 'TCAGA': 1199,\n",
       " 'CATTA': 1198,\n",
       " 'AACCT': 1197,\n",
       " 'GTGAC': 1197,\n",
       " 'GCACT': 1196,\n",
       " 'AATCC': 1195,\n",
       " 'CTTCT': 1195,\n",
       " 'TGGGC': 1195,\n",
       " 'GTCGG': 1194,\n",
       " 'AAAGG': 1193,\n",
       " 'TGAGC': 1193,\n",
       " 'ACGAA': 1192,\n",
       " 'ACCTT': 1191,\n",
       " 'CCGAC': 1189,\n",
       " 'AAGGC': 1188,\n",
       " 'CATTC': 1187,\n",
       " 'GATCT': 1186,\n",
       " 'CCAAA': 1185,\n",
       " 'GGCCA': 1185,\n",
       " 'GATTA': 1184,\n",
       " 'GCACA': 1184,\n",
       " 'GTCAC': 1184,\n",
       " 'TATCC': 1182,\n",
       " 'GTTCT': 1181,\n",
       " 'AGAAC': 1180,\n",
       " 'GTAAC': 1180,\n",
       " 'TGTGC': 1178,\n",
       " 'TCATG': 1177,\n",
       " 'AGTTG': 1175,\n",
       " 'GAGAA': 1175,\n",
       " 'TGCAC': 1173,\n",
       " 'AAGGT': 1171,\n",
       " 'ACGAC': 1171,\n",
       " 'CAAAT': 1171,\n",
       " 'AGGTT': 1170,\n",
       " 'TCTGA': 1168,\n",
       " 'CATGG': 1166,\n",
       " 'GTACG': 1163,\n",
       " 'TGCGA': 1163,\n",
       " 'GTCGT': 1162,\n",
       " 'CCACA': 1161,\n",
       " 'AGGAA': 1157,\n",
       " 'AGTGA': 1157,\n",
       " 'GACGT': 1157,\n",
       " 'GGAAT': 1156,\n",
       " 'ATTCG': 1155,\n",
       " 'CGTCT': 1155,\n",
       " 'TTCTC': 1155,\n",
       " 'AGACG': 1153,\n",
       " 'CAACT': 1153,\n",
       " 'TGGCC': 1153,\n",
       " 'AACAC': 1152,\n",
       " 'GCTCG': 1152,\n",
       " 'TCGCA': 1152,\n",
       " 'CGAAT': 1148,\n",
       " 'TCCAC': 1148,\n",
       " 'TAGCG': 1147,\n",
       " 'CTTGC': 1146,\n",
       " 'GAGAT': 1144,\n",
       " 'GCAAG': 1144,\n",
       " 'TCGAA': 1144,\n",
       " 'AAGTG': 1143,\n",
       " 'GTGTT': 1143,\n",
       " 'AGATT': 1142,\n",
       " 'AGGTG': 1141,\n",
       " 'CACCT': 1141,\n",
       " 'AATAA': 1140,\n",
       " 'CCGTA': 1140,\n",
       " 'GGATA': 1140,\n",
       " 'TTGTC': 1140,\n",
       " 'CGTAC': 1139,\n",
       " 'TTCGA': 1139,\n",
       " 'AAATA': 1138,\n",
       " 'ACGTC': 1136,\n",
       " 'TACGG': 1136,\n",
       " 'AATCT': 1134,\n",
       " 'CACTT': 1134,\n",
       " 'TCCAT': 1134,\n",
       " 'GATTC': 1132,\n",
       " 'ATCTC': 1131,\n",
       " 'GTGGA': 1131,\n",
       " 'ATCCC': 1130,\n",
       " 'GACAA': 1130,\n",
       " 'GTACC': 1129,\n",
       " 'ACCCA': 1128,\n",
       " 'GAATT': 1128,\n",
       " 'CCACT': 1127,\n",
       " 'CCTGT': 1127,\n",
       " 'TATTT': 1123,\n",
       " 'CCAAT': 1122,\n",
       " 'GAACC': 1122,\n",
       " 'CAATT': 1121,\n",
       " 'CTCGC': 1119,\n",
       " 'GAATC': 1119,\n",
       " 'TCACT': 1118,\n",
       " 'AACTT': 1115,\n",
       " 'AAGTT': 1114,\n",
       " 'CGCTA': 1114,\n",
       " 'ATTCC': 1113,\n",
       " 'AGTGG': 1112,\n",
       " 'CGGGA': 1112,\n",
       " 'AATTC': 1111,\n",
       " 'CATGA': 1111,\n",
       " 'CAGAG': 1110,\n",
       " 'GGGAT': 1110,\n",
       " 'TTCCC': 1110,\n",
       " 'GATAC': 1109,\n",
       " 'TAAAT': 1109,\n",
       " 'TTCCT': 1109,\n",
       " 'AACCC': 1108,\n",
       " 'AGTGC': 1108,\n",
       " 'ACAGG': 1107,\n",
       " 'ATGGA': 1107,\n",
       " 'TCCCG': 1107,\n",
       " 'AATGT': 1106,\n",
       " 'GGTAC': 1104,\n",
       " 'GGTTC': 1103,\n",
       " 'CCATG': 1102,\n",
       " 'ATTGG': 1098,\n",
       " 'TGGGT': 1097,\n",
       " 'AAGCT': 1095,\n",
       " 'AGCTT': 1095,\n",
       " 'CGAGC': 1095,\n",
       " 'AATTG': 1092,\n",
       " 'GCGAG': 1091,\n",
       " 'CACAA': 1090,\n",
       " 'GTATC': 1089,\n",
       " 'TATGC': 1088,\n",
       " 'CGGCC': 1086,\n",
       " 'GGGAA': 1086,\n",
       " 'GGGTG': 1085,\n",
       " 'TGTGG': 1085,\n",
       " 'GTCAA': 1084,\n",
       " 'ATTTA': 1083,\n",
       " 'GCATA': 1082,\n",
       " 'ATGTC': 1081,\n",
       " 'TTGTG': 1081,\n",
       " 'AGAAT': 1074,\n",
       " 'AGATA': 1071,\n",
       " 'TACCC': 1070,\n",
       " 'AGCCT': 1065,\n",
       " 'CATAA': 1065,\n",
       " 'CTCAA': 1064,\n",
       " 'GGGTT': 1062,\n",
       " 'ATTGT': 1061,\n",
       " 'GACTG': 1061,\n",
       " 'TCGTG': 1059,\n",
       " 'AGGAT': 1056,\n",
       " 'CAGTC': 1055,\n",
       " 'CACGA': 1053,\n",
       " 'GGCCG': 1052,\n",
       " 'TTATG': 1052,\n",
       " 'CACCC': 1051,\n",
       " 'CTCTT': 1050,\n",
       " 'ACAAT': 1047,\n",
       " 'GTAGC': 1046,\n",
       " 'TGTCA': 1046,\n",
       " 'AAGAG': 1044,\n",
       " 'GGGTA': 1041,\n",
       " 'GAGTT': 1037,\n",
       " 'CAAGC': 1035,\n",
       " 'GCTAC': 1034,\n",
       " 'TAAGC': 1034,\n",
       " 'TTGAG': 1034,\n",
       " 'TTGAC': 1033,\n",
       " 'AACTC': 1032,\n",
       " 'ATTCT': 1032,\n",
       " 'CGTAT': 1031,\n",
       " 'TTACT': 1031,\n",
       " 'ATACG': 1030,\n",
       " 'TGACA': 1030,\n",
       " 'CGACT': 1029,\n",
       " 'GGACG': 1028,\n",
       " 'AGAGA': 1024,\n",
       " 'AGGCC': 1024,\n",
       " 'CATAT': 1024,\n",
       " 'ATCCT': 1023,\n",
       " 'CACAG': 1023,\n",
       " 'CGTCC': 1023,\n",
       " 'CTCTG': 1023,\n",
       " 'CTGTA': 1022,\n",
       " 'ACATT': 1021,\n",
       " 'GCTTG': 1021,\n",
       " 'AGAGC': 1019,\n",
       " 'ATATG': 1017,\n",
       " 'GACAG': 1015,\n",
       " 'GCTTA': 1015,\n",
       " 'TACAG': 1015,\n",
       " 'TATCT': 1013,\n",
       " 'GCTCT': 1012,\n",
       " 'CTGTG': 1010,\n",
       " 'GACAT': 1010,\n",
       " 'AGGCT': 1007,\n",
       " 'ATAAT': 1007,\n",
       " 'CCCGT': 1000,\n",
       " 'ACAGA': 999,\n",
       " 'TATGG': 999,\n",
       " 'ATTAT': 996,\n",
       " 'CGGAC': 996,\n",
       " 'GGCCT': 996,\n",
       " 'CTGTC': 995,\n",
       " 'ATAGC': 993,\n",
       " 'ACGTG': 991,\n",
       " 'AGTCG': 990,\n",
       " 'ATGTG': 990,\n",
       " 'AGTCA': 986,\n",
       " 'CACGT': 986,\n",
       " 'TAACA': 985,\n",
       " 'AGCCC': 983,\n",
       " 'AGTAC': 982,\n",
       " 'CACAT': 981,\n",
       " 'CTCCA': 976,\n",
       " 'ACGGG': 975,\n",
       " 'CTACC': 974,\n",
       " 'TCTGT': 974,\n",
       " 'ACTGT': 973,\n",
       " 'CCATA': 972,\n",
       " 'AGGTC': 969,\n",
       " 'TGTTA': 969,\n",
       " 'TTAGC': 968,\n",
       " 'ACGGA': 966,\n",
       " 'ATGGG': 966,\n",
       " 'TCTCT': 966,\n",
       " 'ACGTA': 961,\n",
       " 'GGTAG': 960,\n",
       " 'GCTAT': 958,\n",
       " 'GCTAA': 957,\n",
       " 'GTACA': 957,\n",
       " 'AGGTA': 951,\n",
       " 'GTCCG': 950,\n",
       " 'TCCGT': 950,\n",
       " 'TACGT': 948,\n",
       " 'TGAGT': 948,\n",
       " 'TACCT': 946,\n",
       " 'ACAGT': 945,\n",
       " 'TGTAC': 944,\n",
       " 'AAGTC': 942,\n",
       " 'ACTCA': 942,\n",
       " 'AGTAA': 942,\n",
       " 'GTCCA': 942,\n",
       " 'GGAGA': 941,\n",
       " 'GTCTT': 939,\n",
       " 'GTACT': 937,\n",
       " 'AGCTC': 936,\n",
       " 'GACTT': 935,\n",
       " 'TAATT': 926,\n",
       " 'TAGCC': 925,\n",
       " 'TCTCG': 925,\n",
       " 'TGGAC': 923,\n",
       " 'AATTA': 921,\n",
       " 'GGGCT': 921,\n",
       " 'GGCTA': 920,\n",
       " 'AAGAC': 919,\n",
       " 'GTGGG': 919,\n",
       " 'GCCCT': 917,\n",
       " 'CCCAC': 916,\n",
       " 'CGTAG': 916,\n",
       " 'GACCT': 916,\n",
       " 'AGGGC': 915,\n",
       " 'CCCAT': 914,\n",
       " 'TGGAG': 914,\n",
       " 'CGGAG': 911,\n",
       " 'CCCGA': 909,\n",
       " 'GATAG': 906,\n",
       " 'TGACT': 906,\n",
       " 'CATAC': 905,\n",
       " 'CGAGA': 905,\n",
       " 'TCGGG': 905,\n",
       " 'CTACG': 899,\n",
       " 'GTGAG': 899,\n",
       " 'ACATG': 897,\n",
       " 'CTCAC': 897,\n",
       " 'TCGTA': 897,\n",
       " 'ATGAG': 896,\n",
       " 'CATGT': 896,\n",
       " 'AGACC': 895,\n",
       " 'TCTCC': 895,\n",
       " 'GAGCT': 893,\n",
       " 'GTATG': 890,\n",
       " 'TAACT': 881,\n",
       " 'TTAAG': 880,\n",
       " 'GCTCC': 878,\n",
       " 'TGTGA': 876,\n",
       " 'AGTTA': 871,\n",
       " 'GGTCT': 868,\n",
       " 'TCACA': 865,\n",
       " 'CTCAT': 864,\n",
       " 'CTCGG': 864,\n",
       " 'CCGAG': 862,\n",
       " 'CACAC': 861,\n",
       " 'TAATA': 860,\n",
       " 'TGGGA': 860,\n",
       " 'CAAGA': 858,\n",
       " 'TCATA': 858,\n",
       " 'CTATC': 856,\n",
       " 'ACACG': 855,\n",
       " 'TCGAG': 855,\n",
       " 'CTTAA': 850,\n",
       " 'GTAGA': 848,\n",
       " 'CTCCG': 847,\n",
       " 'TACTT': 845,\n",
       " 'CTCGA': 844,\n",
       " 'GTGTG': 843,\n",
       " 'AGACA': 842,\n",
       " 'CCCCA': 842,\n",
       " 'CGTGT': 840,\n",
       " 'GGAGC': 838,\n",
       " 'TTACA': 834,\n",
       " 'TCCCA': 831,\n",
       " 'AAGTA': 828,\n",
       " 'CTCAG': 824,\n",
       " 'TACGA': 824,\n",
       " 'CTTAC': 823,\n",
       " 'TCTTG': 821,\n",
       " 'CAAGG': 818,\n",
       " 'TGTCT': 818,\n",
       " 'TTGTA': 813,\n",
       " 'TCAAG': 810,\n",
       " 'TATGA': 807,\n",
       " 'TATTA': 805,\n",
       " 'GTAGT': 804,\n",
       " 'GTAAG': 803,\n",
       " 'GTGTC': 800,\n",
       " 'GGCCC': 799,\n",
       " 'ACTAC': 796,\n",
       " 'AGAGT': 794,\n",
       " 'TCTAC': 794,\n",
       " 'GGCTC': 790,\n",
       " 'AGGGT': 789,\n",
       " 'ATGTA': 789,\n",
       " 'TGTAT': 789,\n",
       " 'TGTAA': 787,\n",
       " 'TGTCC': 787,\n",
       " 'GCCCC': 784,\n",
       " 'TCTCA': 784,\n",
       " 'TACAA': 783,\n",
       " 'CACTC': 782,\n",
       " 'GGGCC': 782,\n",
       " 'ACTCG': 781,\n",
       " 'TGGGG': 781,\n",
       " 'CCTTG': 779,\n",
       " 'CGAGG': 779,\n",
       " 'ATACA': 778,\n",
       " 'GACAC': 778,\n",
       " 'GGGGC': 777,\n",
       " 'GAGTG': 776,\n",
       " 'GGACA': 776,\n",
       " 'CCCCG': 775,\n",
       " 'CTTGA': 774,\n",
       " 'GAGGC': 774,\n",
       " 'ACCCT': 772,\n",
       " 'CTAAC': 772,\n",
       " 'ACTCT': 770,\n",
       " 'CGGGG': 770,\n",
       " 'TGAGA': 770,\n",
       " 'CCTCG': 768,\n",
       " 'GAGCC': 766,\n",
       " 'CTGAG': 764,\n",
       " 'TACAT': 764,\n",
       " 'ATACT': 762,\n",
       " 'GAGTA': 760,\n",
       " 'AGTGT': 756,\n",
       " 'AAGGA': 754,\n",
       " 'GTTAG': 752,\n",
       " 'AGTAT': 751,\n",
       " 'CTCGT': 751,\n",
       " 'TTGGG': 751,\n",
       " 'GACCC': 749,\n",
       " 'TCCCC': 749,\n",
       " 'ACAAG': 746,\n",
       " 'TACAC': 744,\n",
       " 'ACATA': 743,\n",
       " 'CCCAA': 742,\n",
       " 'CTAAA': 742,\n",
       " 'GCCTC': 741,\n",
       " 'TACTC': 740,\n",
       " 'AAGGG': 738,\n",
       " 'ATAAG': 738,\n",
       " 'CCCTT': 738,\n",
       " 'ACTCC': 737,\n",
       " 'GGGGA': 736,\n",
       " 'CGAGT': 732,\n",
       " 'GGAGT': 730,\n",
       " 'CTTAT': 726,\n",
       " 'GAGGA': 718,\n",
       " 'GGGTC': 714,\n",
       " 'GTGTA': 712,\n",
       " 'ACACT': 709,\n",
       " 'ACGAG': 706,\n",
       " 'CTTGT': 706,\n",
       " 'TAGTG': 703,\n",
       " 'CACTA': 693,\n",
       " 'TCCTC': 693,\n",
       " 'TTTAG': 693,\n",
       " 'TGTAG': 689,\n",
       " 'TCGGA': 688,\n",
       " 'TCCTT': 683,\n",
       " 'CTACA': 681,\n",
       " 'AGAGG': 679,\n",
       " 'CCTCT': 675,\n",
       " 'TATGT': 673,\n",
       " 'TAGCA': 672,\n",
       " 'GAGGT': 670,\n",
       " 'TCCGA': 667,\n",
       " 'AGACT': 666,\n",
       " 'AATAG': 662,\n",
       " 'ACACA': 661,\n",
       " 'ACCTC': 661,\n",
       " 'TAGAA': 654,\n",
       " 'ACTTA': 648,\n",
       " 'TCCCT': 645,\n",
       " 'GACTC': 643,\n",
       " 'CTATT': 641,\n",
       " 'GAGAG': 641,\n",
       " 'TGCTA': 638,\n",
       " 'TGTGT': 636,\n",
       " 'TTATA': 635,\n",
       " 'GGACT': 634,\n",
       " 'TATAA': 627,\n",
       " 'TGAGG': 627,\n",
       " 'ACCCC': 626,\n",
       " 'AGCTA': 622,\n",
       " 'CCTCA': 622,\n",
       " 'CTCTC': 622,\n",
       " 'GAGTC': 622,\n",
       " 'TAAGT': 621,\n",
       " 'AGGGA': 620,\n",
       " 'AGTCC': 620,\n",
       " 'GGGGT': 618,\n",
       " 'ATAGT': 617,\n",
       " 'AGTAG': 616,\n",
       " 'GGTCC': 615,\n",
       " 'CATAG': 610,\n",
       " 'ACTAT': 608,\n",
       " 'CTACT': 606,\n",
       " 'GGACC': 605,\n",
       " 'TTCTA': 605,\n",
       " 'AGTCT': 600,\n",
       " 'CAAGT': 598,\n",
       " 'ACTTG': 597,\n",
       " 'CTATG': 594,\n",
       " 'AGGAC': 588,\n",
       " 'ATAGA': 588,\n",
       " 'TAGCT': 588,\n",
       " 'GGGAG': 586,\n",
       " 'CTCCT': 581,\n",
       " 'TAAGA': 578,\n",
       " 'GTATA': 573,\n",
       " 'AGGAG': 572,\n",
       " 'GACTA': 571,\n",
       " 'GTCCT': 571,\n",
       " 'ATATA': 569,\n",
       " 'GAGAC': 568,\n",
       " 'TAGTT': 566,\n",
       " 'TCTTA': 563,\n",
       " 'TTAGT': 562,\n",
       " 'TATAT': 556,\n",
       " 'ACTAA': 555,\n",
       " 'CCTTA': 551,\n",
       " 'TAAGG': 547,\n",
       " 'CTCCC': 546,\n",
       " 'TCTAT': 546,\n",
       " 'CCCCT': 545,\n",
       " 'AACTA': 540,\n",
       " 'AGGGG': 537,\n",
       " 'TATAC': 535,\n",
       " 'ATTAG': 533,\n",
       " 'GTCTC': 531,\n",
       " 'TTGGA': 524,\n",
       " 'GTAGG': 523,\n",
       " 'CTAAT': 522,\n",
       " 'GTCCC': 521,\n",
       " 'TAGAT': 521,\n",
       " 'TAGGC': 515,\n",
       " 'ATCTA': 510,\n",
       " 'CCTAC': 509,\n",
       " 'TAGTC': 509,\n",
       " 'GGGAC': 504,\n",
       " 'TAGAG': 503,\n",
       " 'GCCTA': 496,\n",
       " 'CCAAG': 495,\n",
       " 'CTCTA': 494,\n",
       " 'TCCAA': 484,\n",
       " 'TATAG': 482,\n",
       " 'GGAGG': 479,\n",
       " 'CTTGG': 478,\n",
       " 'CCTCC': 473,\n",
       " 'ACCTA': 469,\n",
       " 'CTATA': 458,\n",
       " 'TAGGT': 457,\n",
       " 'CCCTC': 450,\n",
       " 'ATAGG': 426,\n",
       " 'TAGTA': 426,\n",
       " 'GAGGG': 418,\n",
       " ...}"
      ]
     },
     "execution_count": 31,
     "metadata": {},
     "output_type": "execute_result"
    }
   ],
   "source": [
    "dict(sorted(kmer_counts.items(), key=lambda item: item[1], reverse=True))"
   ]
  },
  {
   "cell_type": "markdown",
   "id": "03988046",
   "metadata": {},
   "source": [
    "## Use the training df to train a VAE"
   ]
  },
  {
   "cell_type": "code",
   "execution_count": 32,
   "id": "318a66d9",
   "metadata": {},
   "outputs": [],
   "source": [
    "training_df.to_csv(f'{output_folder}training_data.csv', index=False)\n",
    "# Now we need to replcae the deletions, let's replace with 0 for now, sometimes I do mean...\n",
    "training_df = training_df.replace(np.nan, 0) # \n",
    "\n",
    "test_data = training_df.values[:, 4:]\n",
    "test_data = test_data / np.max(test_data)\n",
    "test_data = np.array(test_data).astype(float)\n",
    "test_labels = training_df[: 1]"
   ]
  },
  {
   "cell_type": "code",
   "execution_count": 36,
   "id": "85290176",
   "metadata": {},
   "outputs": [
    {
     "name": "stdout",
     "output_type": "stream",
     "text": [
      "(4, 5)\n",
      "\u001b[94m--------------------------------------------------------------------------------\u001b[0m\n",
      "\u001b[94m                               Encoder summary:\t                                \u001b[0m\n",
      "\u001b[94m--------------------------------------------------------------------------------\u001b[0m\n",
      "Model: \"encoder\"\n",
      "__________________________________________________________________________________________________\n",
      " Layer (type)                   Output Shape         Param #     Connected to                     \n",
      "==================================================================================================\n",
      " default_input (InputLayer)     [(None, 4, 5, 1)]    0           []                               \n",
      "                                                                                                  \n",
      " conv2d_1 (Conv2D)              (None, 4, 5, 32)     544         ['default_input[0][0]']          \n",
      "                                                                                                  \n",
      " batch_normalization_2 (BatchNo  (None, 4, 5, 32)    128         ['conv2d_1[0][0]']               \n",
      " rmalization)                                                                                     \n",
      "                                                                                                  \n",
      " flatten_1 (Flatten)            (None, 640)          0           ['batch_normalization_2[0][0]']  \n",
      "                                                                                                  \n",
      " z_mean (Dense)                 (None, 1)            641         ['flatten_1[0][0]']              \n",
      "                                                                                                  \n",
      " z_log_sigma (Dense)            (None, 1)            641         ['flatten_1[0][0]']              \n",
      "                                                                                                  \n",
      " z (Lambda)                     (None, 1)            0           ['z_mean[0][0]',                 \n",
      "                                                                  'z_log_sigma[0][0]']            \n",
      "                                                                                                  \n",
      "==================================================================================================\n",
      "Total params: 1,954\n",
      "Trainable params: 1,890\n",
      "Non-trainable params: 64\n",
      "__________________________________________________________________________________________________\n",
      "None\n",
      "\u001b[94m--------------------------------------------------------------------------------\u001b[0m\n",
      "\u001b[94m                               Decoder summary:\t                                \u001b[0m\n",
      "\u001b[94m--------------------------------------------------------------------------------\u001b[0m\n",
      "Model: \"decoder\"\n",
      "_________________________________________________________________\n",
      " Layer (type)                Output Shape              Param #   \n",
      "=================================================================\n",
      " z_sampling (InputLayer)     [(None, 1)]               0         \n",
      "                                                                 \n",
      " dense_1 (Dense)             (None, 640)               1280      \n",
      "                                                                 \n",
      " reshape_1 (Reshape)         (None, 4, 5, 32)          0         \n",
      "                                                                 \n",
      " conv2d_transpose_1 (Conv2DT  (None, 4, 5, 1)          513       \n",
      " ranspose)                                                       \n",
      "                                                                 \n",
      " batch_normalization_3 (Batc  (None, 4, 5, 1)          4         \n",
      " hNormalization)                                                 \n",
      "                                                                 \n",
      "=================================================================\n",
      "Total params: 1,797\n",
      "Trainable params: 1,795\n",
      "Non-trainable params: 2\n",
      "_________________________________________________________________\n",
      "None\n",
      "Epoch 1/100\n",
      "72749/72749 [==============================] - 213s 3ms/step - loss: 0.0731 - val_loss: 0.0708\n",
      "Epoch 2/100\n",
      "72749/72749 [==============================] - 210s 3ms/step - loss: 0.0702 - val_loss: 0.0697\n",
      "Epoch 3/100\n",
      "72749/72749 [==============================] - 208s 3ms/step - loss: 0.0696 - val_loss: 0.0693\n",
      "Epoch 4/100\n",
      "72749/72749 [==============================] - 203s 3ms/step - loss: 0.0693 - val_loss: 0.0690\n",
      "Epoch 5/100\n",
      "72749/72749 [==============================] - 204s 3ms/step - loss: 0.0690 - val_loss: 0.0689\n",
      "Epoch 6/100\n",
      "72749/72749 [==============================] - 204s 3ms/step - loss: 0.0689 - val_loss: 0.0688\n",
      "Epoch 7/100\n",
      "72749/72749 [==============================] - 203s 3ms/step - loss: 0.0688 - val_loss: 0.0687\n",
      "Epoch 8/100\n",
      "72749/72749 [==============================] - 204s 3ms/step - loss: 0.0687 - val_loss: 0.0687\n",
      "Epoch 9/100\n",
      "72749/72749 [==============================] - 204s 3ms/step - loss: 0.0686 - val_loss: 0.0685\n",
      "Epoch 10/100\n",
      "72749/72749 [==============================] - 204s 3ms/step - loss: 0.0685 - val_loss: 0.0685\n",
      "Epoch 11/100\n",
      "72749/72749 [==============================] - 204s 3ms/step - loss: 0.0684 - val_loss: 0.0684\n",
      "Epoch 12/100\n",
      "72749/72749 [==============================] - 204s 3ms/step - loss: 0.0684 - val_loss: 0.0683\n",
      "Epoch 13/100\n",
      "72749/72749 [==============================] - 204s 3ms/step - loss: 0.0683 - val_loss: 0.0683\n",
      "Epoch 14/100\n",
      "72749/72749 [==============================] - 204s 3ms/step - loss: 0.0682 - val_loss: 0.0682\n",
      "Epoch 15/100\n",
      "26602/72749 [=========>....................] - ETA: 2:00 - loss: 0.0681"
     ]
    },
    {
     "name": "stderr",
     "output_type": "stream",
     "text": [
      "IOPub message rate exceeded.\n",
      "The notebook server will temporarily stop sending output\n",
      "to the client in order to avoid crashing it.\n",
      "To change this limit, set the config variable\n",
      "`--NotebookApp.iopub_msg_rate_limit`.\n",
      "\n",
      "Current values:\n",
      "NotebookApp.iopub_msg_rate_limit=1000.0 (msgs/sec)\n",
      "NotebookApp.rate_limit_window=3.0 (secs)\n",
      "\n"
     ]
    },
    {
     "name": "stdout",
     "output_type": "stream",
     "text": [
      "72749/72749 [==============================] - 193s 3ms/step - loss: 0.0682 - val_loss: 0.0680\n",
      "Epoch 18/100\n",
      " 8270/72749 [==>...........................] - ETA: 2:39 - loss: 0.0680"
     ]
    },
    {
     "name": "stderr",
     "output_type": "stream",
     "text": [
      "IOPub message rate exceeded.\n",
      "The notebook server will temporarily stop sending output\n",
      "to the client in order to avoid crashing it.\n",
      "To change this limit, set the config variable\n",
      "`--NotebookApp.iopub_msg_rate_limit`.\n",
      "\n",
      "Current values:\n",
      "NotebookApp.iopub_msg_rate_limit=1000.0 (msgs/sec)\n",
      "NotebookApp.rate_limit_window=3.0 (secs)\n",
      "\n"
     ]
    },
    {
     "name": "stdout",
     "output_type": "stream",
     "text": [
      "72749/72749 [==============================] - 193s 3ms/step - loss: 0.0680 - val_loss: 0.0680\n",
      "Epoch 21/100\n",
      " 4316/72749 [>.............................] - ETA: 2:49 - loss: 0.0682"
     ]
    },
    {
     "name": "stderr",
     "output_type": "stream",
     "text": [
      "IOPub message rate exceeded.\n",
      "The notebook server will temporarily stop sending output\n",
      "to the client in order to avoid crashing it.\n",
      "To change this limit, set the config variable\n",
      "`--NotebookApp.iopub_msg_rate_limit`.\n",
      "\n",
      "Current values:\n",
      "NotebookApp.iopub_msg_rate_limit=1000.0 (msgs/sec)\n",
      "NotebookApp.rate_limit_window=3.0 (secs)\n",
      "\n"
     ]
    },
    {
     "name": "stdout",
     "output_type": "stream",
     "text": [
      "72749/72749 [==============================] - 193s 3ms/step - loss: 0.0680 - val_loss: 0.0679\n",
      "Epoch 23/100\n",
      "60845/72749 [========================>.....] - ETA: 29s - loss: 0.0680"
     ]
    },
    {
     "name": "stderr",
     "output_type": "stream",
     "text": [
      "IOPub message rate exceeded.\n",
      "The notebook server will temporarily stop sending output\n",
      "to the client in order to avoid crashing it.\n",
      "To change this limit, set the config variable\n",
      "`--NotebookApp.iopub_msg_rate_limit`.\n",
      "\n",
      "Current values:\n",
      "NotebookApp.iopub_msg_rate_limit=1000.0 (msgs/sec)\n",
      "NotebookApp.rate_limit_window=3.0 (secs)\n",
      "\n"
     ]
    },
    {
     "name": "stdout",
     "output_type": "stream",
     "text": [
      "72749/72749 [==============================] - 194s 3ms/step - loss: 0.0679 - val_loss: 0.0678\n",
      "Epoch 26/100\n",
      "55546/72749 [=====================>........] - ETA: 42s - loss: 0.0679"
     ]
    },
    {
     "name": "stderr",
     "output_type": "stream",
     "text": [
      "IOPub message rate exceeded.\n",
      "The notebook server will temporarily stop sending output\n",
      "to the client in order to avoid crashing it.\n",
      "To change this limit, set the config variable\n",
      "`--NotebookApp.iopub_msg_rate_limit`.\n",
      "\n",
      "Current values:\n",
      "NotebookApp.iopub_msg_rate_limit=1000.0 (msgs/sec)\n",
      "NotebookApp.rate_limit_window=3.0 (secs)\n",
      "\n"
     ]
    },
    {
     "name": "stdout",
     "output_type": "stream",
     "text": [
      "72749/72749 [==============================] - 194s 3ms/step - loss: 0.0679 - val_loss: 0.0679\n",
      "Epoch 29/100\n",
      "50490/72749 [===================>..........] - ETA: 55s - loss: 0.0679"
     ]
    },
    {
     "name": "stderr",
     "output_type": "stream",
     "text": [
      "IOPub message rate exceeded.\n",
      "The notebook server will temporarily stop sending output\n",
      "to the client in order to avoid crashing it.\n",
      "To change this limit, set the config variable\n",
      "`--NotebookApp.iopub_msg_rate_limit`.\n",
      "\n",
      "Current values:\n",
      "NotebookApp.iopub_msg_rate_limit=1000.0 (msgs/sec)\n",
      "NotebookApp.rate_limit_window=3.0 (secs)\n",
      "\n"
     ]
    },
    {
     "name": "stdout",
     "output_type": "stream",
     "text": [
      "72749/72749 [==============================] - 194s 3ms/step - loss: 0.0678 - val_loss: 0.0677\n",
      "Epoch 32/100\n",
      "46182/72749 [==================>...........] - ETA: 1:06 - loss: 0.0678"
     ]
    },
    {
     "name": "stderr",
     "output_type": "stream",
     "text": [
      "IOPub message rate exceeded.\n",
      "The notebook server will temporarily stop sending output\n",
      "to the client in order to avoid crashing it.\n",
      "To change this limit, set the config variable\n",
      "`--NotebookApp.iopub_msg_rate_limit`.\n",
      "\n",
      "Current values:\n",
      "NotebookApp.iopub_msg_rate_limit=1000.0 (msgs/sec)\n",
      "NotebookApp.rate_limit_window=3.0 (secs)\n",
      "\n"
     ]
    },
    {
     "name": "stdout",
     "output_type": "stream",
     "text": [
      "72749/72749 [==============================] - 194s 3ms/step - loss: 0.0678 - val_loss: 0.0676\n",
      "Epoch 35/100\n",
      "38887/72749 [===============>..............] - ETA: 1:23 - loss: 0.0677"
     ]
    },
    {
     "name": "stderr",
     "output_type": "stream",
     "text": [
      "IOPub message rate exceeded.\n",
      "The notebook server will temporarily stop sending output\n",
      "to the client in order to avoid crashing it.\n",
      "To change this limit, set the config variable\n",
      "`--NotebookApp.iopub_msg_rate_limit`.\n",
      "\n",
      "Current values:\n",
      "NotebookApp.iopub_msg_rate_limit=1000.0 (msgs/sec)\n",
      "NotebookApp.rate_limit_window=3.0 (secs)\n",
      "\n"
     ]
    },
    {
     "name": "stdout",
     "output_type": "stream",
     "text": [
      "72749/72749 [==============================] - 194s 3ms/step - loss: 0.0677 - val_loss: 0.0677\n",
      "Epoch 38/100\n",
      "25520/72749 [=========>....................] - ETA: 1:57 - loss: 0.0676"
     ]
    },
    {
     "name": "stderr",
     "output_type": "stream",
     "text": [
      "IOPub message rate exceeded.\n",
      "The notebook server will temporarily stop sending output\n",
      "to the client in order to avoid crashing it.\n",
      "To change this limit, set the config variable\n",
      "`--NotebookApp.iopub_msg_rate_limit`.\n",
      "\n",
      "Current values:\n",
      "NotebookApp.iopub_msg_rate_limit=1000.0 (msgs/sec)\n",
      "NotebookApp.rate_limit_window=3.0 (secs)\n",
      "\n"
     ]
    }
   ],
   "source": [
    "from scivae import ConvVAE\n",
    "config = {'scale_data': False,\n",
    "         'input_size': (4, kmer_len),\n",
    "          'batch_norm': True,\n",
    "         'loss': {'loss_type': 'mse', 'distance_metric': 'mmd', 'mmd_weight': 0.1},\n",
    "          'encoding': {'layers': [{'filters': 32, 'kernel_size': 4, 'pooling': 2, 'strides': 1, 'padding':'same',\n",
    "                                  'activation_fn': 'relu'},\n",
    "                                  ]},\n",
    "          'decoding': {'layers': [\n",
    "                                  {'filters': 32, 'kernel_size': 4, 'pooling': 2, 'strides': 2, 'padding':'same',\n",
    "                                  'activation_fn': 'relu'},\n",
    "                                  {'filters': 1, 'kernel_size': 4, 'pooling': 2, 'strides': 1, 'padding':'same',\n",
    "                                  'activation_fn': 'sigmoid'}\n",
    "                                  ]},\n",
    "          'latent': {'num_nodes': 1},\n",
    "          'optimiser': {'params': {'learning_rate': 0.01}, 'name': 'adam'}\n",
    "}\n",
    "\n",
    "test_data = np.array([d.reshape((4, kmer_len, 1)) for d in test_data])\n",
    "# Run the VAE \n",
    "cvae = ConvVAE(test_data, test_data, test_labels, config, 'cvae')\n",
    "# The more epochs you run the better (until some point so would recomend more though it wil take longer)\n",
    "cvae.encode('default', epochs=100, batch_size=16, early_stop=True)\n",
    "# get the encoded data\n",
    "seq_encoding = cvae.get_encoded_data()\n"
   ]
  },
  {
   "cell_type": "code",
   "execution_count": 37,
   "id": "088c824d",
   "metadata": {},
   "outputs": [
    {
     "data": {
      "image/png": "[encoded data removed]",
      "text/plain": [
       "<Figure size 432x288 with 1 Axes>"
      ]
     },
     "metadata": {
      "needs_background": "light"
     },
     "output_type": "display_data"
    },
    {
     "name": "stderr",
     "output_type": "stream",
     "text": [
      "/tmp/ipykernel_1216511/3984487467.py:13: UserWarning: FixedFormatter should only be used together with FixedLocator\n",
      "  ax.set_yticklabels(['', 'A', 'T', 'G', 'C'])\n"
     ]
    },
    {
     "data": {
      "image/png": "[encoded data removed]",
      "text/plain": [
       "<Figure size 432x216 with 2 Axes>"
      ]
     },
     "metadata": {
      "needs_background": "light"
     },
     "output_type": "display_data"
    },
    {
     "name": "stdout",
     "output_type": "stream",
     "text": [
      "42794/42794 [==============================] - 41s 961us/step\n"
     ]
    },
    {
     "name": "stderr",
     "output_type": "stream",
     "text": [
      "/tmp/ipykernel_1216511/3984487467.py:26: UserWarning: FixedFormatter should only be used together with FixedLocator\n",
      "  ax.set_yticklabels(['', 'A', 'T', 'G', 'C'])\n"
     ]
    },
    {
     "data": {
      "image/png": "[encoded data removed]",
      "text/plain": [
       "<Figure size 432x216 with 2 Axes>"
      ]
     },
     "metadata": {
      "needs_background": "light"
     },
     "output_type": "display_data"
    }
   ],
   "source": [
    "import matplotlib.pyplot as plt\n",
    "plt.hist(seq_encoding)  # Has a nice normal dist\n",
    "plt.show()\n",
    "\n",
    "# Show some of the kmers (4)\n",
    "n = 2\n",
    "seqs_encoding = cvae.get_encoded_data()\n",
    "# Show the true data\n",
    "plt.figure(figsize=(6, 3))\n",
    "\n",
    "for i in range(n):\n",
    "    ax = plt.subplot(1, n, i + 1)\n",
    "    ax.set_yticklabels(['', 'A', 'T', 'G', 'C'])\n",
    "    ax.tick_params(axis='y', which='major', pad=2.0)\n",
    "    plt.imshow(test_data[i].reshape(4, kmer_len))\n",
    "\n",
    "plt.show()\n",
    "\n",
    "# Show the prediction of the test data (i.e. using the test data how does it get reconstructed)\n",
    "d = cvae.decoder.predict(seqs_encoding)\n",
    "\n",
    "plt.figure(figsize=(6, 3))\n",
    "n = 2\n",
    "for i in range(n):\n",
    "    ax = plt.subplot(1, n, i + 1)\n",
    "    ax.set_yticklabels(['', 'A', 'T', 'G', 'C'])\n",
    "    ax.tick_params(axis='y', which='major', pad=2.0)\n",
    "    plt.imshow(d[i,:].reshape(4, kmer_len))\n",
    "plt.show()"
   ]
  },
  {
   "cell_type": "code",
   "execution_count": 38,
   "id": "ed3504c9",
   "metadata": {},
   "outputs": [],
   "source": [
    "cvae.save(f'model_weights_{kmer_len}.h5', f'model_optimiser_{kmer_len}.json', f'config_{kmer_len}.json') # looks pretty decent for a single node "
   ]
  },
  {
   "cell_type": "markdown",
   "id": "e9b5da2d",
   "metadata": {},
   "source": [
    "## Use encoding function to probe for variation in the dataset\n"
   ]
  },
  {
   "cell_type": "code",
   "execution_count": 40,
   "id": "5ba16544",
   "metadata": {},
   "outputs": [
    {
     "data": {
      "text/plain": [
       "(array([  8.,   2.,   2.,  12.,  15.,  35.,  46.,  46.,  63.,  61.,  70.,\n",
       "         83., 101., 114.,  98., 101.,  98.,  35.,  24.,  10.]),\n",
       " array([  41.  ,  132.15,  223.3 ,  314.45,  405.6 ,  496.75,  587.9 ,\n",
       "         679.05,  770.2 ,  861.35,  952.5 , 1043.65, 1134.8 , 1225.95,\n",
       "        1317.1 , 1408.25, 1499.4 , 1590.55, 1681.7 , 1772.85, 1864.  ]),\n",
       " <BarContainer object of 20 artists>)"
      ]
     },
     "execution_count": 40,
     "metadata": {},
     "output_type": "execute_result"
    },
    {
     "data": {
      "image/png": "[encoded data removed]",
      "text/plain": [
       "<Figure size 432x288 with 1 Axes>"
      ]
     },
     "metadata": {
      "needs_background": "light"
     },
     "output_type": "display_data"
    }
   ],
   "source": [
    "kmer_v = [kmer_counts[c] for c in kmer_counts]\n",
    "plt.hist(kmer_v, bins=20)"
   ]
  },
  {
   "cell_type": "code",
   "execution_count": 45,
   "id": "6e2db28d",
   "metadata": {},
   "outputs": [
    {
     "data": {
      "text/html": [
       "<div>\n",
       "<style scoped>\n",
       "    .dataframe tbody tr th:only-of-type {\n",
       "        vertical-align: middle;\n",
       "    }\n",
       "\n",
       "    .dataframe tbody tr th {\n",
       "        vertical-align: top;\n",
       "    }\n",
       "\n",
       "    .dataframe thead th {\n",
       "        text-align: right;\n",
       "    }\n",
       "</style>\n",
       "<table border=\"1\" class=\"dataframe\">\n",
       "  <thead>\n",
       "    <tr style=\"text-align: right;\">\n",
       "      <th></th>\n",
       "      <th>gene</th>\n",
       "      <th>id</th>\n",
       "      <th>gene</th>\n",
       "      <th>gene_biotype</th>\n",
       "      <th>SRR12090435</th>\n",
       "      <th>SRR12090430</th>\n",
       "      <th>SRR12090427</th>\n",
       "      <th>SRR12090432</th>\n",
       "      <th>SRR12090426</th>\n",
       "      <th>SRR12090433</th>\n",
       "      <th>SRR12090429</th>\n",
       "      <th>SRR12090434</th>\n",
       "      <th>SRR12090431</th>\n",
       "      <th>SRR12090428</th>\n",
       "    </tr>\n",
       "  </thead>\n",
       "  <tbody>\n",
       "    <tr>\n",
       "      <th>5</th>\n",
       "      <td>gene-b0946</td>\n",
       "      <td>NC_000913.3:1005951-1006494</td>\n",
       "      <td>zapC</td>\n",
       "      <td>protein_coding</td>\n",
       "      <td>34</td>\n",
       "      <td>27</td>\n",
       "      <td>51</td>\n",
       "      <td>45</td>\n",
       "      <td>33</td>\n",
       "      <td>58</td>\n",
       "      <td>17</td>\n",
       "      <td>42</td>\n",
       "      <td>66</td>\n",
       "      <td>33</td>\n",
       "    </tr>\n",
       "    <tr>\n",
       "      <th>6</th>\n",
       "      <td>gene-b0947</td>\n",
       "      <td>NC_000913.3:1006490-1007600</td>\n",
       "      <td>ycbX</td>\n",
       "      <td>protein_coding</td>\n",
       "      <td>14</td>\n",
       "      <td>6</td>\n",
       "      <td>26</td>\n",
       "      <td>17</td>\n",
       "      <td>9</td>\n",
       "      <td>23</td>\n",
       "      <td>8</td>\n",
       "      <td>14</td>\n",
       "      <td>29</td>\n",
       "      <td>16</td>\n",
       "    </tr>\n",
       "    <tr>\n",
       "      <th>7</th>\n",
       "      <td>gene-b0091</td>\n",
       "      <td>NC_000913.3:100764-102240</td>\n",
       "      <td>murC</td>\n",
       "      <td>protein_coding</td>\n",
       "      <td>63</td>\n",
       "      <td>71</td>\n",
       "      <td>125</td>\n",
       "      <td>90</td>\n",
       "      <td>78</td>\n",
       "      <td>104</td>\n",
       "      <td>51</td>\n",
       "      <td>96</td>\n",
       "      <td>99</td>\n",
       "      <td>91</td>\n",
       "    </tr>\n",
       "    <tr>\n",
       "      <th>8</th>\n",
       "      <td>gene-b0948</td>\n",
       "      <td>NC_000913.3:1007843-1009952</td>\n",
       "      <td>rlmL</td>\n",
       "      <td>protein_coding</td>\n",
       "      <td>30</td>\n",
       "      <td>10</td>\n",
       "      <td>35</td>\n",
       "      <td>26</td>\n",
       "      <td>13</td>\n",
       "      <td>40</td>\n",
       "      <td>11</td>\n",
       "      <td>25</td>\n",
       "      <td>30</td>\n",
       "      <td>25</td>\n",
       "    </tr>\n",
       "    <tr>\n",
       "      <th>9</th>\n",
       "      <td>gene-b0949</td>\n",
       "      <td>NC_000913.3:1009963-1011871</td>\n",
       "      <td>uup</td>\n",
       "      <td>protein_coding</td>\n",
       "      <td>26</td>\n",
       "      <td>12</td>\n",
       "      <td>38</td>\n",
       "      <td>33</td>\n",
       "      <td>13</td>\n",
       "      <td>51</td>\n",
       "      <td>5</td>\n",
       "      <td>29</td>\n",
       "      <td>30</td>\n",
       "      <td>34</td>\n",
       "    </tr>\n",
       "    <tr>\n",
       "      <th>...</th>\n",
       "      <td>...</td>\n",
       "      <td>...</td>\n",
       "      <td>...</td>\n",
       "      <td>...</td>\n",
       "      <td>...</td>\n",
       "      <td>...</td>\n",
       "      <td>...</td>\n",
       "      <td>...</td>\n",
       "      <td>...</td>\n",
       "      <td>...</td>\n",
       "      <td>...</td>\n",
       "      <td>...</td>\n",
       "      <td>...</td>\n",
       "      <td>...</td>\n",
       "    </tr>\n",
       "    <tr>\n",
       "      <th>4482</th>\n",
       "      <td>gene-b0930</td>\n",
       "      <td>NC_000913.3:987584-988985</td>\n",
       "      <td>asnS</td>\n",
       "      <td>protein_coding</td>\n",
       "      <td>254</td>\n",
       "      <td>57</td>\n",
       "      <td>181</td>\n",
       "      <td>171</td>\n",
       "      <td>57</td>\n",
       "      <td>298</td>\n",
       "      <td>43</td>\n",
       "      <td>202</td>\n",
       "      <td>323</td>\n",
       "      <td>157</td>\n",
       "    </tr>\n",
       "    <tr>\n",
       "      <th>4483</th>\n",
       "      <td>gene-b0931</td>\n",
       "      <td>NC_000913.3:989153-990356</td>\n",
       "      <td>pncB</td>\n",
       "      <td>protein_coding</td>\n",
       "      <td>35</td>\n",
       "      <td>16</td>\n",
       "      <td>63</td>\n",
       "      <td>15</td>\n",
       "      <td>20</td>\n",
       "      <td>46</td>\n",
       "      <td>14</td>\n",
       "      <td>27</td>\n",
       "      <td>57</td>\n",
       "      <td>48</td>\n",
       "    </tr>\n",
       "    <tr>\n",
       "      <th>4484</th>\n",
       "      <td>gene-b0932</td>\n",
       "      <td>NC_000913.3:990621-993234</td>\n",
       "      <td>pepN</td>\n",
       "      <td>protein_coding</td>\n",
       "      <td>167</td>\n",
       "      <td>230</td>\n",
       "      <td>265</td>\n",
       "      <td>212</td>\n",
       "      <td>220</td>\n",
       "      <td>241</td>\n",
       "      <td>124</td>\n",
       "      <td>209</td>\n",
       "      <td>233</td>\n",
       "      <td>180</td>\n",
       "    </tr>\n",
       "    <tr>\n",
       "      <th>4485</th>\n",
       "      <td>gene-b0010</td>\n",
       "      <td>NC_000913.3:9927-10494</td>\n",
       "      <td>satP</td>\n",
       "      <td>protein_coding</td>\n",
       "      <td>19</td>\n",
       "      <td>9</td>\n",
       "      <td>20</td>\n",
       "      <td>14</td>\n",
       "      <td>6</td>\n",
       "      <td>34</td>\n",
       "      <td>2</td>\n",
       "      <td>11</td>\n",
       "      <td>30</td>\n",
       "      <td>19</td>\n",
       "    </tr>\n",
       "    <tr>\n",
       "      <th>4490</th>\n",
       "      <td>gene-b0090</td>\n",
       "      <td>NC_000913.3:99643-100711</td>\n",
       "      <td>murG</td>\n",
       "      <td>protein_coding</td>\n",
       "      <td>45</td>\n",
       "      <td>36</td>\n",
       "      <td>58</td>\n",
       "      <td>54</td>\n",
       "      <td>53</td>\n",
       "      <td>52</td>\n",
       "      <td>29</td>\n",
       "      <td>41</td>\n",
       "      <td>44</td>\n",
       "      <td>40</td>\n",
       "    </tr>\n",
       "  </tbody>\n",
       "</table>\n",
       "<p>2271 rows × 14 columns</p>\n",
       "</div>"
      ],
      "text/plain": [
       "            gene                           id  gene    gene_biotype  \\\n",
       "5     gene-b0946  NC_000913.3:1005951-1006494  zapC  protein_coding   \n",
       "6     gene-b0947  NC_000913.3:1006490-1007600  ycbX  protein_coding   \n",
       "7     gene-b0091    NC_000913.3:100764-102240  murC  protein_coding   \n",
       "8     gene-b0948  NC_000913.3:1007843-1009952  rlmL  protein_coding   \n",
       "9     gene-b0949  NC_000913.3:1009963-1011871   uup  protein_coding   \n",
       "...          ...                          ...   ...             ...   \n",
       "4482  gene-b0930    NC_000913.3:987584-988985  asnS  protein_coding   \n",
       "4483  gene-b0931    NC_000913.3:989153-990356  pncB  protein_coding   \n",
       "4484  gene-b0932    NC_000913.3:990621-993234  pepN  protein_coding   \n",
       "4485  gene-b0010       NC_000913.3:9927-10494  satP  protein_coding   \n",
       "4490  gene-b0090     NC_000913.3:99643-100711  murG  protein_coding   \n",
       "\n",
       "      SRR12090435  SRR12090430  SRR12090427  SRR12090432  SRR12090426  \\\n",
       "5              34           27           51           45           33   \n",
       "6              14            6           26           17            9   \n",
       "7              63           71          125           90           78   \n",
       "8              30           10           35           26           13   \n",
       "9              26           12           38           33           13   \n",
       "...           ...          ...          ...          ...          ...   \n",
       "4482          254           57          181          171           57   \n",
       "4483           35           16           63           15           20   \n",
       "4484          167          230          265          212          220   \n",
       "4485           19            9           20           14            6   \n",
       "4490           45           36           58           54           53   \n",
       "\n",
       "      SRR12090433  SRR12090429  SRR12090434  SRR12090431  SRR12090428  \n",
       "5              58           17           42           66           33  \n",
       "6              23            8           14           29           16  \n",
       "7             104           51           96           99           91  \n",
       "8              40           11           25           30           25  \n",
       "9              51            5           29           30           34  \n",
       "...           ...          ...          ...          ...          ...  \n",
       "4482          298           43          202          323          157  \n",
       "4483           46           14           27           57           48  \n",
       "4484          241          124          209          233          180  \n",
       "4485           34            2           11           30           19  \n",
       "4490           52           29           41           44           40  \n",
       "\n",
       "[2271 rows x 14 columns]"
      ]
     },
     "execution_count": 45,
     "metadata": {},
     "output_type": "execute_result"
    }
   ],
   "source": [
    "count_df_nn"
   ]
  },
  {
   "cell_type": "code",
   "execution_count": 43,
   "id": "e438bf31",
   "metadata": {},
   "outputs": [
    {
     "name": "stdout",
     "output_type": "stream",
     "text": [
      "1018\n"
     ]
    }
   ],
   "source": [
    "kmers_to_investigate = []\n",
    "for k in kmer_counts:\n",
    "    if kmer_counts[k] > 100:\n",
    "        kmers_to_investigate.append(k)\n",
    "print(len(kmers_to_investigate))\n",
    "\n",
    "training_runs = []\n",
    "for bam in bams:\n",
    "    training_runs.append(f'{output_folder}training_new/{bam.split(\"/\")[-1].split(\".\")[0]}_training.h5')\n",
    "training_runs"
   ]
  },
  {
   "cell_type": "code",
   "execution_count": null,
   "id": "d683a30a",
   "metadata": {},
   "outputs": [
    {
     "name": "stderr",
     "output_type": "stream",
     "text": [
      "100%|█| 1378/1378 [05:20<00:00,  4.30i\n"
     ]
    },
    {
     "name": "stdout",
     "output_type": "stream",
     "text": [
      "../runs/training_new/SRR12090435_training.h5 112507\n"
     ]
    },
    {
     "name": "stderr",
     "output_type": "stream",
     "text": [
      "100%|█| 1378/1378 [05:20<00:00,  4.30i\n"
     ]
    },
    {
     "name": "stdout",
     "output_type": "stream",
     "text": [
      "../runs/training_new/SRR12090430_training.h5 207046\n"
     ]
    },
    {
     "name": "stderr",
     "output_type": "stream",
     "text": [
      "100%|█| 1378/1378 [07:15<00:00,  3.16i\n"
     ]
    },
    {
     "name": "stdout",
     "output_type": "stream",
     "text": [
      "../runs/training_new/SRR12090427_training.h5 371211\n"
     ]
    },
    {
     "name": "stderr",
     "output_type": "stream",
     "text": [
      "100%|█| 1378/1378 [04:04<00:00,  5.64i\n"
     ]
    },
    {
     "name": "stdout",
     "output_type": "stream",
     "text": [
      "../runs/training_new/SRR12090432_training.h5 470227\n"
     ]
    },
    {
     "name": "stderr",
     "output_type": "stream",
     "text": [
      "100%|█| 1378/1378 [04:59<00:00,  4.60i\n"
     ]
    },
    {
     "name": "stdout",
     "output_type": "stream",
     "text": [
      "../runs/training_new/SRR12090426_training.h5 575241\n"
     ]
    },
    {
     "name": "stderr",
     "output_type": "stream",
     "text": [
      "100%|█| 1378/1378 [05:46<00:00,  3.97i\n"
     ]
    },
    {
     "name": "stdout",
     "output_type": "stream",
     "text": [
      "../runs/training_new/SRR12090433_training.h5 715888\n"
     ]
    },
    {
     "name": "stderr",
     "output_type": "stream",
     "text": [
      "100%|█| 1378/1378 [\n"
     ]
    },
    {
     "name": "stdout",
     "output_type": "stream",
     "text": [
      "../runs/training_new/SRR12090429_training.h5 791992\n"
     ]
    },
    {
     "name": "stderr",
     "output_type": "stream",
     "text": [
      "100%|█| 1378/1378 [\n"
     ]
    },
    {
     "name": "stdout",
     "output_type": "stream",
     "text": [
      "../runs/training_new/SRR12090434_training.h5 887679\n"
     ]
    },
    {
     "name": "stderr",
     "output_type": "stream",
     "text": [
      "100%|█| 1378/1378 [\n"
     ]
    },
    {
     "name": "stdout",
     "output_type": "stream",
     "text": [
      "../runs/training_new/SRR12090431_training.h5 1027623\n"
     ]
    },
    {
     "name": "stderr",
     "output_type": "stream",
     "text": [
      "100%|█| 1378/1378 [\n"
     ]
    },
    {
     "name": "stdout",
     "output_type": "stream",
     "text": [
      "../runs/training_new/SRR12090428_training.h5 1165684\n",
      "36428/36428 [==============================] - 43s 1ms/step\n"
     ]
    },
    {
     "name": "stderr",
     "output_type": "stream",
     "text": [
      "/opt/miniconda/miniconda3/envs/ariane_bac/lib/python3.10/site-packages/numpy/core/fromnumeric.py:3715: RuntimeWarning: Degrees of freedom <= 0 for slice\n",
      "  return _methods._var(a, axis=axis, dtype=dtype, out=out, ddof=ddof,\n",
      "/opt/miniconda/miniconda3/envs/ariane_bac/lib/python3.10/site-packages/numpy/core/_methods.py:257: RuntimeWarning: invalid value encountered in divide\n",
      "  ret = ret.dtype.type(ret / rcount)\n",
      "/tmp/ipykernel_1216511/2794221992.py:67: FutureWarning: The frame.append method is deprecated and will be removed from pandas in a future version. Use pandas.concat instead.\n",
      "  all_dfs = all_dfs.append(kmer_df)\n",
      "100%|█| 1577/1577 [\n"
     ]
    },
    {
     "name": "stdout",
     "output_type": "stream",
     "text": [
      "../runs/training_new/SRR12090435_training.h5 111657\n"
     ]
    },
    {
     "name": "stderr",
     "output_type": "stream",
     "text": [
      "100%|█| 1577/1577 [\n"
     ]
    },
    {
     "name": "stdout",
     "output_type": "stream",
     "text": [
      "../runs/training_new/SRR12090430_training.h5 210166\n"
     ]
    },
    {
     "name": "stderr",
     "output_type": "stream",
     "text": [
      "100%|█| 1577/1577 [\n"
     ]
    },
    {
     "name": "stdout",
     "output_type": "stream",
     "text": [
      "../runs/training_new/SRR12090427_training.h5 369577\n"
     ]
    },
    {
     "name": "stderr",
     "output_type": "stream",
     "text": [
      "100%|█| 1577/1577 [\n"
     ]
    },
    {
     "name": "stdout",
     "output_type": "stream",
     "text": [
      "../runs/training_new/SRR12090432_training.h5 468392\n"
     ]
    },
    {
     "name": "stderr",
     "output_type": "stream",
     "text": [
      "100%|█| 1577/1577 [\n"
     ]
    },
    {
     "name": "stdout",
     "output_type": "stream",
     "text": [
      "../runs/training_new/SRR12090426_training.h5 575942\n"
     ]
    },
    {
     "name": "stderr",
     "output_type": "stream",
     "text": [
      "100%|█| 1577/1577 [\n"
     ]
    },
    {
     "name": "stdout",
     "output_type": "stream",
     "text": [
      "../runs/training_new/SRR12090433_training.h5 712505\n"
     ]
    },
    {
     "name": "stderr",
     "output_type": "stream",
     "text": [
      "100%|█| 1577/1577 [\n"
     ]
    },
    {
     "name": "stdout",
     "output_type": "stream",
     "text": [
      "../runs/training_new/SRR12090429_training.h5 791738\n"
     ]
    },
    {
     "name": "stderr",
     "output_type": "stream",
     "text": [
      "100%|█| 1577/1577 [\n"
     ]
    },
    {
     "name": "stdout",
     "output_type": "stream",
     "text": [
      "../runs/training_new/SRR12090434_training.h5 888578\n"
     ]
    },
    {
     "name": "stderr",
     "output_type": "stream",
     "text": [
      "100%|█| 1577/1577 [\n"
     ]
    },
    {
     "name": "stdout",
     "output_type": "stream",
     "text": [
      "../runs/training_new/SRR12090431_training.h5 1024599\n"
     ]
    },
    {
     "name": "stderr",
     "output_type": "stream",
     "text": [
      "100%|█| 1577/1577 [\n"
     ]
    },
    {
     "name": "stdout",
     "output_type": "stream",
     "text": [
      "../runs/training_new/SRR12090428_training.h5 1160942\n",
      "36280/36280 [==============================] - 44s 1ms/step\n"
     ]
    },
    {
     "name": "stderr",
     "output_type": "stream",
     "text": [
      "/opt/miniconda/miniconda3/envs/ariane_bac/lib/python3.10/site-packages/numpy/core/fromnumeric.py:3715: RuntimeWarning: Degrees of freedom <= 0 for slice\n",
      "  return _methods._var(a, axis=axis, dtype=dtype, out=out, ddof=ddof,\n",
      "/opt/miniconda/miniconda3/envs/ariane_bac/lib/python3.10/site-packages/numpy/core/_methods.py:257: RuntimeWarning: invalid value encountered in divide\n",
      "  ret = ret.dtype.type(ret / rcount)\n",
      "/tmp/ipykernel_1216511/2794221992.py:67: FutureWarning: The frame.append method is deprecated and will be removed from pandas in a future version. Use pandas.concat instead.\n",
      "  all_dfs = all_dfs.append(kmer_df)\n",
      "100%|█| 1260/1260 [\n"
     ]
    },
    {
     "name": "stdout",
     "output_type": "stream",
     "text": [
      "../runs/training_new/SRR12090435_training.h5 68287\n"
     ]
    },
    {
     "name": "stderr",
     "output_type": "stream",
     "text": [
      "100%|█| 1260/1260 [\n"
     ]
    },
    {
     "name": "stdout",
     "output_type": "stream",
     "text": [
      "../runs/training_new/SRR12090430_training.h5 126011\n"
     ]
    },
    {
     "name": "stderr",
     "output_type": "stream",
     "text": [
      "100%|█| 1260/1260 [\n"
     ]
    },
    {
     "name": "stdout",
     "output_type": "stream",
     "text": [
      "../runs/training_new/SRR12090427_training.h5 223904\n"
     ]
    },
    {
     "name": "stderr",
     "output_type": "stream",
     "text": [
      "100%|█| 1260/1260 [\n"
     ]
    },
    {
     "name": "stdout",
     "output_type": "stream",
     "text": [
      "../runs/training_new/SRR12090432_training.h5 285203\n"
     ]
    },
    {
     "name": "stderr",
     "output_type": "stream",
     "text": [
      "100%|█| 1260/1260 [\n"
     ]
    },
    {
     "name": "stdout",
     "output_type": "stream",
     "text": [
      "../runs/training_new/SRR12090426_training.h5 348944\n"
     ]
    },
    {
     "name": "stderr",
     "output_type": "stream",
     "text": [
      "100%|█| 1260/1260 [\n"
     ]
    },
    {
     "name": "stdout",
     "output_type": "stream",
     "text": [
      "../runs/training_new/SRR12090433_training.h5 434524\n"
     ]
    },
    {
     "name": "stderr",
     "output_type": "stream",
     "text": [
      "100%|█| 1260/1260 [\n"
     ]
    },
    {
     "name": "stdout",
     "output_type": "stream",
     "text": [
      "../runs/training_new/SRR12090429_training.h5 480536\n"
     ]
    },
    {
     "name": "stderr",
     "output_type": "stream",
     "text": [
      "100%|█| 1260/1260 [\n"
     ]
    },
    {
     "name": "stdout",
     "output_type": "stream",
     "text": [
      "../runs/training_new/SRR12090434_training.h5 540046\n"
     ]
    },
    {
     "name": "stderr",
     "output_type": "stream",
     "text": [
      "100%|█| 1260/1260 [\n"
     ]
    },
    {
     "name": "stdout",
     "output_type": "stream",
     "text": [
      "../runs/training_new/SRR12090431_training.h5 625388\n"
     ]
    },
    {
     "name": "stderr",
     "output_type": "stream",
     "text": [
      "100%|█| 1260/1260 [\n"
     ]
    },
    {
     "name": "stdout",
     "output_type": "stream",
     "text": [
      "../runs/training_new/SRR12090428_training.h5 707598\n",
      "22113/22113 [==============================] - 26s 1ms/step\n"
     ]
    },
    {
     "name": "stderr",
     "output_type": "stream",
     "text": [
      "/opt/miniconda/miniconda3/envs/ariane_bac/lib/python3.10/site-packages/numpy/core/fromnumeric.py:3715: RuntimeWarning: Degrees of freedom <= 0 for slice\n",
      "  return _methods._var(a, axis=axis, dtype=dtype, out=out, ddof=ddof,\n",
      "/opt/miniconda/miniconda3/envs/ariane_bac/lib/python3.10/site-packages/numpy/core/_methods.py:257: RuntimeWarning: invalid value encountered in divide\n",
      "  ret = ret.dtype.type(ret / rcount)\n",
      "/tmp/ipykernel_1216511/2794221992.py:67: FutureWarning: The frame.append method is deprecated and will be removed from pandas in a future version. Use pandas.concat instead.\n",
      "  all_dfs = all_dfs.append(kmer_df)\n",
      "100%|█| 1510/1510 [\n"
     ]
    },
    {
     "name": "stdout",
     "output_type": "stream",
     "text": [
      "../runs/training_new/SRR12090435_training.h5 91773\n"
     ]
    },
    {
     "name": "stderr",
     "output_type": "stream",
     "text": [
      "100%|█| 1510/1510 [\n"
     ]
    },
    {
     "name": "stdout",
     "output_type": "stream",
     "text": [
      "../runs/training_new/SRR12090430_training.h5 170850\n"
     ]
    },
    {
     "name": "stderr",
     "output_type": "stream",
     "text": [
      "100%|█| 1510/1510 [\n"
     ]
    },
    {
     "name": "stdout",
     "output_type": "stream",
     "text": [
      "../runs/training_new/SRR12090427_training.h5 303647\n"
     ]
    },
    {
     "name": "stderr",
     "output_type": "stream",
     "text": [
      "100%|█| 1510/1510 [\n"
     ]
    },
    {
     "name": "stdout",
     "output_type": "stream",
     "text": [
      "../runs/training_new/SRR12090432_training.h5 384373\n"
     ]
    },
    {
     "name": "stderr",
     "output_type": "stream",
     "text": [
      "100%|█| 1510/1510 [\n"
     ]
    },
    {
     "name": "stdout",
     "output_type": "stream",
     "text": [
      "../runs/training_new/SRR12090426_training.h5 470963\n"
     ]
    },
    {
     "name": "stderr",
     "output_type": "stream",
     "text": [
      "100%|█| 1510/1510 [\n"
     ]
    },
    {
     "name": "stdout",
     "output_type": "stream",
     "text": [
      "../runs/training_new/SRR12090433_training.h5 586283\n"
     ]
    },
    {
     "name": "stderr",
     "output_type": "stream",
     "text": [
      "100%|█| 1510/1510 [\n"
     ]
    },
    {
     "name": "stdout",
     "output_type": "stream",
     "text": [
      "../runs/training_new/SRR12090429_training.h5 650231\n"
     ]
    },
    {
     "name": "stderr",
     "output_type": "stream",
     "text": [
      "100%|█| 1510/1510 [\n"
     ]
    },
    {
     "name": "stdout",
     "output_type": "stream",
     "text": [
      "../runs/training_new/SRR12090434_training.h5 728980\n"
     ]
    },
    {
     "name": "stderr",
     "output_type": "stream",
     "text": [
      "100%|█| 1510/1510 [\n"
     ]
    },
    {
     "name": "stdout",
     "output_type": "stream",
     "text": [
      "../runs/training_new/SRR12090431_training.h5 844469\n"
     ]
    },
    {
     "name": "stderr",
     "output_type": "stream",
     "text": [
      "100%|█| 1510/1510 [\n"
     ]
    },
    {
     "name": "stdout",
     "output_type": "stream",
     "text": [
      "../runs/training_new/SRR12090428_training.h5 955607\n",
      "29863/29863 [==============================] - 36s 1ms/step\n"
     ]
    },
    {
     "name": "stderr",
     "output_type": "stream",
     "text": [
      "/opt/miniconda/miniconda3/envs/ariane_bac/lib/python3.10/site-packages/numpy/core/fromnumeric.py:3715: RuntimeWarning: Degrees of freedom <= 0 for slice\n",
      "  return _methods._var(a, axis=axis, dtype=dtype, out=out, ddof=ddof,\n",
      "/opt/miniconda/miniconda3/envs/ariane_bac/lib/python3.10/site-packages/numpy/core/_methods.py:257: RuntimeWarning: invalid value encountered in divide\n",
      "  ret = ret.dtype.type(ret / rcount)\n",
      "/tmp/ipykernel_1216511/2794221992.py:67: FutureWarning: The frame.append method is deprecated and will be removed from pandas in a future version. Use pandas.concat instead.\n",
      "  all_dfs = all_dfs.append(kmer_df)\n",
      "100%|█| 1406/1406 [\n"
     ]
    },
    {
     "name": "stdout",
     "output_type": "stream",
     "text": [
      "../runs/training_new/SRR12090435_training.h5 79851\n"
     ]
    },
    {
     "name": "stderr",
     "output_type": "stream",
     "text": [
      "100%|█| 1406/1406 [\n"
     ]
    },
    {
     "name": "stdout",
     "output_type": "stream",
     "text": [
      "../runs/training_new/SRR12090430_training.h5 150717\n"
     ]
    },
    {
     "name": "stderr",
     "output_type": "stream",
     "text": [
      "100%|█| 1406/1406 [\n"
     ]
    },
    {
     "name": "stdout",
     "output_type": "stream",
     "text": [
      "../runs/training_new/SRR12090427_training.h5 263897\n"
     ]
    },
    {
     "name": "stderr",
     "output_type": "stream",
     "text": [
      "100%|█| 1406/1406 [\n"
     ]
    },
    {
     "name": "stdout",
     "output_type": "stream",
     "text": [
      "../runs/training_new/SRR12090432_training.h5 336395\n"
     ]
    },
    {
     "name": "stderr",
     "output_type": "stream",
     "text": [
      "100%|█| 1406/1406 [\n"
     ]
    },
    {
     "name": "stdout",
     "output_type": "stream",
     "text": [
      "../runs/training_new/SRR12090426_training.h5 412202\n"
     ]
    },
    {
     "name": "stderr",
     "output_type": "stream",
     "text": [
      "100%|█| 1406/1406 [\n"
     ]
    },
    {
     "name": "stdout",
     "output_type": "stream",
     "text": [
      "../runs/training_new/SRR12090433_training.h5 510094\n"
     ]
    },
    {
     "name": "stderr",
     "output_type": "stream",
     "text": [
      "100%|█| 1406/1406 [\n"
     ]
    },
    {
     "name": "stdout",
     "output_type": "stream",
     "text": [
      "../runs/training_new/SRR12090429_training.h5 567245\n"
     ]
    },
    {
     "name": "stderr",
     "output_type": "stream",
     "text": [
      "100%|█| 1406/1406 [\n"
     ]
    },
    {
     "name": "stdout",
     "output_type": "stream",
     "text": [
      "../runs/training_new/SRR12090434_training.h5 638882\n"
     ]
    },
    {
     "name": "stderr",
     "output_type": "stream",
     "text": [
      "100%|█| 1406/1406 [\n"
     ]
    },
    {
     "name": "stdout",
     "output_type": "stream",
     "text": [
      "../runs/training_new/SRR12090431_training.h5 736539\n"
     ]
    },
    {
     "name": "stderr",
     "output_type": "stream",
     "text": [
      "100%|█| 1406/1406 [\n"
     ]
    },
    {
     "name": "stdout",
     "output_type": "stream",
     "text": [
      "../runs/training_new/SRR12090428_training.h5 833897\n",
      "26060/26060 [==============================] - 31s 1ms/step\n"
     ]
    },
    {
     "name": "stderr",
     "output_type": "stream",
     "text": [
      "/opt/miniconda/miniconda3/envs/ariane_bac/lib/python3.10/site-packages/numpy/core/fromnumeric.py:3715: RuntimeWarning: Degrees of freedom <= 0 for slice\n",
      "  return _methods._var(a, axis=axis, dtype=dtype, out=out, ddof=ddof,\n",
      "/opt/miniconda/miniconda3/envs/ariane_bac/lib/python3.10/site-packages/numpy/core/_methods.py:257: RuntimeWarning: invalid value encountered in divide\n",
      "  ret = ret.dtype.type(ret / rcount)\n",
      "/tmp/ipykernel_1216511/2794221992.py:67: FutureWarning: The frame.append method is deprecated and will be removed from pandas in a future version. Use pandas.concat instead.\n",
      "  all_dfs = all_dfs.append(kmer_df)\n",
      "100%|█| 1576/1576 [\n"
     ]
    },
    {
     "name": "stdout",
     "output_type": "stream",
     "text": [
      "../runs/training_new/SRR12090435_training.h5 109686\n"
     ]
    },
    {
     "name": "stderr",
     "output_type": "stream",
     "text": [
      "100%|█| 1576/1576 [\n"
     ]
    },
    {
     "name": "stdout",
     "output_type": "stream",
     "text": [
      "../runs/training_new/SRR12090430_training.h5 208535\n"
     ]
    },
    {
     "name": "stderr",
     "output_type": "stream",
     "text": [
      "100%|█| 1576/1576 [\n"
     ]
    },
    {
     "name": "stdout",
     "output_type": "stream",
     "text": [
      "../runs/training_new/SRR12090427_training.h5 362071\n"
     ]
    },
    {
     "name": "stderr",
     "output_type": "stream",
     "text": [
      "100%|█| 1576/1576 [\n"
     ]
    },
    {
     "name": "stdout",
     "output_type": "stream",
     "text": [
      "../runs/training_new/SRR12090432_training.h5 460101\n"
     ]
    },
    {
     "name": "stderr",
     "output_type": "stream",
     "text": [
      "100%|█| 1576/1576 [\n"
     ]
    },
    {
     "name": "stdout",
     "output_type": "stream",
     "text": [
      "../runs/training_new/SRR12090426_training.h5 566689\n"
     ]
    },
    {
     "name": "stderr",
     "output_type": "stream",
     "text": [
      "100%|█| 1576/1576 [\n"
     ]
    },
    {
     "name": "stdout",
     "output_type": "stream",
     "text": [
      "../runs/training_new/SRR12090433_training.h5 698481\n"
     ]
    },
    {
     "name": "stderr",
     "output_type": "stream",
     "text": [
      "100%|█| 1576/1576 [\n"
     ]
    },
    {
     "name": "stdout",
     "output_type": "stream",
     "text": [
      "../runs/training_new/SRR12090429_training.h5 779096\n"
     ]
    },
    {
     "name": "stderr",
     "output_type": "stream",
     "text": [
      "100%|█| 1576/1576 [\n"
     ]
    },
    {
     "name": "stdout",
     "output_type": "stream",
     "text": [
      "../runs/training_new/SRR12090434_training.h5 876041\n"
     ]
    },
    {
     "name": "stderr",
     "output_type": "stream",
     "text": [
      "100%|█| 1576/1576 [\n"
     ]
    },
    {
     "name": "stdout",
     "output_type": "stream",
     "text": [
      "../runs/training_new/SRR12090431_training.h5 1007760\n"
     ]
    },
    {
     "name": "stderr",
     "output_type": "stream",
     "text": [
      "100%|█| 1576/1576 [\n"
     ]
    },
    {
     "name": "stdout",
     "output_type": "stream",
     "text": [
      "../runs/training_new/SRR12090428_training.h5 1140244\n",
      "35633/35633 [==============================] - 43s 1ms/step\n"
     ]
    },
    {
     "name": "stderr",
     "output_type": "stream",
     "text": [
      "/opt/miniconda/miniconda3/envs/ariane_bac/lib/python3.10/site-packages/numpy/core/fromnumeric.py:3715: RuntimeWarning: Degrees of freedom <= 0 for slice\n",
      "  return _methods._var(a, axis=axis, dtype=dtype, out=out, ddof=ddof,\n",
      "/opt/miniconda/miniconda3/envs/ariane_bac/lib/python3.10/site-packages/numpy/core/_methods.py:257: RuntimeWarning: invalid value encountered in divide\n",
      "  ret = ret.dtype.type(ret / rcount)\n",
      "/tmp/ipykernel_1216511/2794221992.py:67: FutureWarning: The frame.append method is deprecated and will be removed from pandas in a future version. Use pandas.concat instead.\n",
      "  all_dfs = all_dfs.append(kmer_df)\n",
      "100%|█| 1572/1572 [\n"
     ]
    },
    {
     "name": "stdout",
     "output_type": "stream",
     "text": [
      "../runs/training_new/SRR12090435_training.h5 107704\n"
     ]
    },
    {
     "name": "stderr",
     "output_type": "stream",
     "text": [
      "100%|█| 1572/1572 [\n"
     ]
    },
    {
     "name": "stdout",
     "output_type": "stream",
     "text": [
      "../runs/training_new/SRR12090430_training.h5 202046\n"
     ]
    },
    {
     "name": "stderr",
     "output_type": "stream",
     "text": [
      "100%|█| 1572/1572 [\n"
     ]
    },
    {
     "name": "stdout",
     "output_type": "stream",
     "text": [
      "../runs/training_new/SRR12090427_training.h5 353720\n"
     ]
    },
    {
     "name": "stderr",
     "output_type": "stream",
     "text": [
      "100%|█| 1572/1572 [\n"
     ]
    },
    {
     "name": "stdout",
     "output_type": "stream",
     "text": [
      "../runs/training_new/SRR12090432_training.h5 449852\n"
     ]
    },
    {
     "name": "stderr",
     "output_type": "stream",
     "text": [
      "100%|█| 1572/1572 [\n"
     ]
    },
    {
     "name": "stdout",
     "output_type": "stream",
     "text": [
      "../runs/training_new/SRR12090426_training.h5 553562\n"
     ]
    },
    {
     "name": "stderr",
     "output_type": "stream",
     "text": [
      "100%|█| 1572/1572 [\n"
     ]
    },
    {
     "name": "stdout",
     "output_type": "stream",
     "text": [
      "../runs/training_new/SRR12090433_training.h5 685297\n"
     ]
    },
    {
     "name": "stderr",
     "output_type": "stream",
     "text": [
      "100%|█| 1572/1572 [\n"
     ]
    },
    {
     "name": "stdout",
     "output_type": "stream",
     "text": [
      "../runs/training_new/SRR12090429_training.h5 761630\n"
     ]
    },
    {
     "name": "stderr",
     "output_type": "stream",
     "text": [
      "100%|█| 1572/1572 [\n"
     ]
    },
    {
     "name": "stdout",
     "output_type": "stream",
     "text": [
      "../runs/training_new/SRR12090434_training.h5 856115\n"
     ]
    },
    {
     "name": "stderr",
     "output_type": "stream",
     "text": [
      "100%|█| 1572/1572 [\n"
     ]
    },
    {
     "name": "stdout",
     "output_type": "stream",
     "text": [
      "../runs/training_new/SRR12090431_training.h5 987290\n"
     ]
    },
    {
     "name": "stderr",
     "output_type": "stream",
     "text": [
      "100%|█| 1572/1572 [\n"
     ]
    },
    {
     "name": "stdout",
     "output_type": "stream",
     "text": [
      "../runs/training_new/SRR12090428_training.h5 1117307\n",
      "34916/34916 [==============================] - 42s 1ms/step\n"
     ]
    },
    {
     "name": "stderr",
     "output_type": "stream",
     "text": [
      "/opt/miniconda/miniconda3/envs/ariane_bac/lib/python3.10/site-packages/numpy/core/fromnumeric.py:3715: RuntimeWarning: Degrees of freedom <= 0 for slice\n",
      "  return _methods._var(a, axis=axis, dtype=dtype, out=out, ddof=ddof,\n",
      "/opt/miniconda/miniconda3/envs/ariane_bac/lib/python3.10/site-packages/numpy/core/_methods.py:257: RuntimeWarning: invalid value encountered in divide\n",
      "  ret = ret.dtype.type(ret / rcount)\n",
      "/tmp/ipykernel_1216511/2794221992.py:67: FutureWarning: The frame.append method is deprecated and will be removed from pandas in a future version. Use pandas.concat instead.\n",
      "  all_dfs = all_dfs.append(kmer_df)\n",
      "100%|█| 1328/1328 [\n"
     ]
    },
    {
     "name": "stdout",
     "output_type": "stream",
     "text": [
      "../runs/training_new/SRR12090435_training.h5 80921\n"
     ]
    },
    {
     "name": "stderr",
     "output_type": "stream",
     "text": [
      "100%|█| 1328/1328 [\n"
     ]
    },
    {
     "name": "stdout",
     "output_type": "stream",
     "text": [
      "../runs/training_new/SRR12090430_training.h5 151400\n"
     ]
    },
    {
     "name": "stderr",
     "output_type": "stream",
     "text": [
      "100%|█| 1328/1328 [\n"
     ]
    },
    {
     "name": "stdout",
     "output_type": "stream",
     "text": [
      "../runs/training_new/SRR12090427_training.h5 261048\n"
     ]
    },
    {
     "name": "stderr",
     "output_type": "stream",
     "text": [
      "100%|█| 1328/1328 [\n"
     ]
    },
    {
     "name": "stdout",
     "output_type": "stream",
     "text": [
      "../runs/training_new/SRR12090432_training.h5 334306\n"
     ]
    },
    {
     "name": "stderr",
     "output_type": "stream",
     "text": [
      "100%|█| 1328/1328 [\n"
     ]
    },
    {
     "name": "stdout",
     "output_type": "stream",
     "text": [
      "../runs/training_new/SRR12090426_training.h5 410983\n"
     ]
    },
    {
     "name": "stderr",
     "output_type": "stream",
     "text": [
      "100%|█| 1328/1328 [\n"
     ]
    },
    {
     "name": "stdout",
     "output_type": "stream",
     "text": [
      "../runs/training_new/SRR12090433_training.h5 508155\n"
     ]
    },
    {
     "name": "stderr",
     "output_type": "stream",
     "text": [
      "100%|█| 1328/1328 [\n"
     ]
    },
    {
     "name": "stdout",
     "output_type": "stream",
     "text": [
      "../runs/training_new/SRR12090429_training.h5 565532\n"
     ]
    },
    {
     "name": "stderr",
     "output_type": "stream",
     "text": [
      "100%|█| 1328/1328 [\n"
     ]
    },
    {
     "name": "stdout",
     "output_type": "stream",
     "text": [
      "../runs/training_new/SRR12090434_training.h5 637263\n"
     ]
    },
    {
     "name": "stderr",
     "output_type": "stream",
     "text": [
      "100%|█| 1328/1328 [\n"
     ]
    },
    {
     "name": "stdout",
     "output_type": "stream",
     "text": [
      "../runs/training_new/SRR12090431_training.h5 734343\n"
     ]
    },
    {
     "name": "stderr",
     "output_type": "stream",
     "text": [
      "100%|█| 1328/1328 [0\n"
     ]
    },
    {
     "name": "stdout",
     "output_type": "stream",
     "text": [
      "../runs/training_new/SRR12090428_training.h5 830585\n",
      "25956/25956 [==============================] - 31s 1ms/step\n"
     ]
    },
    {
     "name": "stderr",
     "output_type": "stream",
     "text": [
      "/opt/miniconda/miniconda3/envs/ariane_bac/lib/python3.10/site-packages/numpy/core/fromnumeric.py:3715: RuntimeWarning: Degrees of freedom <= 0 for slice\n",
      "  return _methods._var(a, axis=axis, dtype=dtype, out=out, ddof=ddof,\n",
      "/opt/miniconda/miniconda3/envs/ariane_bac/lib/python3.10/site-packages/numpy/core/_methods.py:257: RuntimeWarning: invalid value encountered in divide\n",
      "  ret = ret.dtype.type(ret / rcount)\n",
      "/tmp/ipykernel_1216511/2794221992.py:67: FutureWarning: The frame.append method is deprecated and will be removed from pandas in a future version. Use pandas.concat instead.\n",
      "  all_dfs = all_dfs.append(kmer_df)\n",
      "100%|█| 1343/1343 [0\n"
     ]
    },
    {
     "name": "stdout",
     "output_type": "stream",
     "text": [
      "../runs/training_new/SRR12090430_training.h5 180811\n"
     ]
    },
    {
     "name": "stderr",
     "output_type": "stream",
     "text": [
      "100%|█| 1343/1343 [0\n"
     ]
    },
    {
     "name": "stdout",
     "output_type": "stream",
     "text": [
      "../runs/training_new/SRR12090427_training.h5 310248\n"
     ]
    },
    {
     "name": "stderr",
     "output_type": "stream",
     "text": [
      "100%|█| 1343/1343 [0\n"
     ]
    },
    {
     "name": "stdout",
     "output_type": "stream",
     "text": [
      "../runs/training_new/SRR12090432_training.h5 395369\n"
     ]
    },
    {
     "name": "stderr",
     "output_type": "stream",
     "text": [
      " 73%|▋| 985/1343 [03IOPub message rate exceeded.\n",
      "The notebook server will temporarily stop sending output\n",
      "to the client in order to avoid crashing it.\n",
      "To change this limit, set the config variable\n",
      "`--NotebookApp.iopub_msg_rate_limit`.\n",
      "\n",
      "Current values:\n",
      "NotebookApp.iopub_msg_rate_limit=1000.0 (msgs/sec)\n",
      "NotebookApp.rate_limit_window=3.0 (secs)\n",
      "\n",
      "100%|█| 1548/1548 [0\n"
     ]
    },
    {
     "name": "stdout",
     "output_type": "stream",
     "text": [
      "../runs/training_new/SRR12090427_training.h5 368063\n"
     ]
    },
    {
     "name": "stderr",
     "output_type": "stream",
     "text": [
      "100%|█| 1548/1548 [0\n"
     ]
    },
    {
     "name": "stdout",
     "output_type": "stream",
     "text": [
      "../runs/training_new/SRR12090432_training.h5 469776\n"
     ]
    },
    {
     "name": "stderr",
     "output_type": "stream",
     "text": [
      "100%|█| 1548/1548 [0\n"
     ]
    },
    {
     "name": "stdout",
     "output_type": "stream",
     "text": [
      "../runs/training_new/SRR12090426_training.h5 577920\n"
     ]
    },
    {
     "name": "stderr",
     "output_type": "stream",
     "text": [
      " 50%|▍| 770/1548 [03IOPub message rate exceeded.\n",
      "The notebook server will temporarily stop sending output\n",
      "to the client in order to avoid crashing it.\n",
      "To change this limit, set the config variable\n",
      "`--NotebookApp.iopub_msg_rate_limit`.\n",
      "\n",
      "Current values:\n",
      "NotebookApp.iopub_msg_rate_limit=1000.0 (msgs/sec)\n",
      "NotebookApp.rate_limit_window=3.0 (secs)\n",
      "\n",
      "100%|█| 1193/1193 [0\n"
     ]
    },
    {
     "name": "stdout",
     "output_type": "stream",
     "text": [
      "../runs/training_new/SRR12090427_training.h5 220265\n"
     ]
    },
    {
     "name": "stderr",
     "output_type": "stream",
     "text": [
      "100%|█| 1193/1193 [0\n"
     ]
    },
    {
     "name": "stdout",
     "output_type": "stream",
     "text": [
      "../runs/training_new/SRR12090432_training.h5 279800\n"
     ]
    },
    {
     "name": "stderr",
     "output_type": "stream",
     "text": [
      "100%|█| 1193/1193 [0\n"
     ]
    },
    {
     "name": "stdout",
     "output_type": "stream",
     "text": [
      "../runs/training_new/SRR12090426_training.h5 345503\n"
     ]
    },
    {
     "name": "stderr",
     "output_type": "stream",
     "text": [
      "100%|█| 1193/1193 [0\n"
     ]
    },
    {
     "name": "stdout",
     "output_type": "stream",
     "text": [
      "../runs/training_new/SRR12090433_training.h5 426030\n"
     ]
    },
    {
     "name": "stderr",
     "output_type": "stream",
     "text": [
      "100%|█| 1193/1193 [0\n"
     ]
    },
    {
     "name": "stdout",
     "output_type": "stream",
     "text": [
      "../runs/training_new/SRR12090429_training.h5 475940\n"
     ]
    },
    {
     "name": "stderr",
     "output_type": "stream",
     "text": [
      " 24%|▏| 286/1193 [01IOPub message rate exceeded.\n",
      "The notebook server will temporarily stop sending output\n",
      "to the client in order to avoid crashing it.\n",
      "To change this limit, set the config variable\n",
      "`--NotebookApp.iopub_msg_rate_limit`.\n",
      "\n",
      "Current values:\n",
      "NotebookApp.iopub_msg_rate_limit=1000.0 (msgs/sec)\n",
      "NotebookApp.rate_limit_window=3.0 (secs)\n",
      "\n",
      "100%|█| 1277/1277 [0\n"
     ]
    },
    {
     "name": "stdout",
     "output_type": "stream",
     "text": [
      "../runs/training_new/SRR12090433_training.h5 468619\n"
     ]
    },
    {
     "name": "stderr",
     "output_type": "stream",
     "text": [
      "100%|█| 1277/1277 [0\n"
     ]
    },
    {
     "name": "stdout",
     "output_type": "stream",
     "text": [
      "../runs/training_new/SRR12090429_training.h5 521205\n"
     ]
    },
    {
     "name": "stderr",
     "output_type": "stream",
     "text": [
      "100%|█| 1277/1277 [0\n"
     ]
    },
    {
     "name": "stdout",
     "output_type": "stream",
     "text": [
      "../runs/training_new/SRR12090434_training.h5 587601\n"
     ]
    },
    {
     "name": "stderr",
     "output_type": "stream",
     "text": [
      "100%|█| 1277/1277 [0\n"
     ]
    },
    {
     "name": "stdout",
     "output_type": "stream",
     "text": [
      "../runs/training_new/SRR12090431_training.h5 678056\n"
     ]
    },
    {
     "name": "stderr",
     "output_type": "stream",
     "text": [
      " 66%|▋| 846/1277 [04IOPub message rate exceeded.\n",
      "The notebook server will temporarily stop sending output\n",
      "to the client in order to avoid crashing it.\n",
      "To change this limit, set the config variable\n",
      "`--NotebookApp.iopub_msg_rate_limit`.\n",
      "\n",
      "Current values:\n",
      "NotebookApp.iopub_msg_rate_limit=1000.0 (msgs/sec)\n",
      "NotebookApp.rate_limit_window=3.0 (secs)\n",
      "\n",
      "100%|█| 1138/1138 [0\n"
     ]
    },
    {
     "name": "stdout",
     "output_type": "stream",
     "text": [
      "../runs/training_new/SRR12090428_training.h5 571791\n",
      "17869/17869 [==============================] - 22s 1ms/step\n"
     ]
    },
    {
     "name": "stderr",
     "output_type": "stream",
     "text": [
      "/opt/miniconda/miniconda3/envs/ariane_bac/lib/python3.10/site-packages/numpy/core/fromnumeric.py:3715: RuntimeWarning: Degrees of freedom <= 0 for slice\n",
      "  return _methods._var(a, axis=axis, dtype=dtype, out=out, ddof=ddof,\n",
      "/opt/miniconda/miniconda3/envs/ariane_bac/lib/python3.10/site-packages/numpy/core/_methods.py:257: RuntimeWarning: invalid value encountered in divide\n",
      "  ret = ret.dtype.type(ret / rcount)\n",
      "/tmp/ipykernel_1216511/2794221992.py:67: FutureWarning: The frame.append method is deprecated and will be removed from pandas in a future version. Use pandas.concat instead.\n",
      "  all_dfs = all_dfs.append(kmer_df)\n",
      "100%|█| 1526/1526 [0\n"
     ]
    },
    {
     "name": "stdout",
     "output_type": "stream",
     "text": [
      "../runs/training_new/SRR12090435_training.h5 96986\n"
     ]
    },
    {
     "name": "stderr",
     "output_type": "stream",
     "text": [
      "100%|█| 1526/1526 [0\n"
     ]
    },
    {
     "name": "stdout",
     "output_type": "stream",
     "text": [
      "../runs/training_new/SRR12090430_training.h5 181263\n"
     ]
    },
    {
     "name": "stderr",
     "output_type": "stream",
     "text": [
      " 50%|▌| 764/1526 [03IOPub message rate exceeded.\n",
      "The notebook server will temporarily stop sending output\n",
      "to the client in order to avoid crashing it.\n",
      "To change this limit, set the config variable\n",
      "`--NotebookApp.iopub_msg_rate_limit`.\n",
      "\n",
      "Current values:\n",
      "NotebookApp.iopub_msg_rate_limit=1000.0 (msgs/sec)\n",
      "NotebookApp.rate_limit_window=3.0 (secs)\n",
      "\n"
     ]
    },
    {
     "name": "stdout",
     "output_type": "stream",
     "text": [
      "31241/31241 [==============================] - 38s 1ms/step\n"
     ]
    },
    {
     "name": "stderr",
     "output_type": "stream",
     "text": [
      "/tmp/ipykernel_1216511/2794221992.py:67: FutureWarning: The frame.append method is deprecated and will be removed from pandas in a future version. Use pandas.concat instead.\n",
      "  all_dfs = all_dfs.append(kmer_df)\n",
      "100%|█| 1312/1312 [0\n"
     ]
    },
    {
     "name": "stdout",
     "output_type": "stream",
     "text": [
      "../runs/training_new/SRR12090435_training.h5 70678\n"
     ]
    },
    {
     "name": "stderr",
     "output_type": "stream",
     "text": [
      "100%|█| 1312/1312 [0\n"
     ]
    },
    {
     "name": "stdout",
     "output_type": "stream",
     "text": [
      "../runs/training_new/SRR12090430_training.h5 133830\n"
     ]
    },
    {
     "name": "stderr",
     "output_type": "stream",
     "text": [
      " 94%|▉| 1234/1312 [0IOPub message rate exceeded.\n",
      "The notebook server will temporarily stop sending output\n",
      "to the client in order to avoid crashing it.\n",
      "To change this limit, set the config variable\n",
      "`--NotebookApp.iopub_msg_rate_limit`.\n",
      "\n",
      "Current values:\n",
      "NotebookApp.iopub_msg_rate_limit=1000.0 (msgs/sec)\n",
      "NotebookApp.rate_limit_window=3.0 (secs)\n",
      "\n",
      "100%|█| 1312/1312 [0\n"
     ]
    },
    {
     "name": "stdout",
     "output_type": "stream",
     "text": [
      "../runs/training_new/SRR12090428_training.h5 737481\n",
      "15121/23047 [==================>...........] - ETA: 9s"
     ]
    },
    {
     "name": "stderr",
     "output_type": "stream",
     "text": [
      "IOPub message rate exceeded.\n",
      "The notebook server will temporarily stop sending output\n",
      "to the client in order to avoid crashing it.\n",
      "To change this limit, set the config variable\n",
      "`--NotebookApp.iopub_msg_rate_limit`.\n",
      "\n",
      "Current values:\n",
      "NotebookApp.iopub_msg_rate_limit=1000.0 (msgs/sec)\n",
      "NotebookApp.rate_limit_window=3.0 (secs)\n",
      "\n",
      "100%|█| 1347/1347 [0\n"
     ]
    },
    {
     "name": "stdout",
     "output_type": "stream",
     "text": [
      "../runs/training_new/SRR12090427_training.h5 226437\n"
     ]
    },
    {
     "name": "stderr",
     "output_type": "stream",
     "text": [
      "100%|█| 1347/1347 [0\n"
     ]
    },
    {
     "name": "stdout",
     "output_type": "stream",
     "text": [
      "../runs/training_new/SRR12090432_training.h5 287166\n"
     ]
    },
    {
     "name": "stderr",
     "output_type": "stream",
     "text": [
      "100%|█| 1347/1347 [0\n"
     ]
    },
    {
     "name": "stdout",
     "output_type": "stream",
     "text": [
      "../runs/training_new/SRR12090426_training.h5 352610\n"
     ]
    },
    {
     "name": "stderr",
     "output_type": "stream",
     "text": [
      " 25%|▎| 342/1347 [01IOPub message rate exceeded.\n",
      "The notebook server will temporarily stop sending output\n",
      "to the client in order to avoid crashing it.\n",
      "To change this limit, set the config variable\n",
      "`--NotebookApp.iopub_msg_rate_limit`.\n",
      "\n",
      "Current values:\n",
      "NotebookApp.iopub_msg_rate_limit=1000.0 (msgs/sec)\n",
      "NotebookApp.rate_limit_window=3.0 (secs)\n",
      "\n",
      "100%|█| 1373/1373 [0\n"
     ]
    },
    {
     "name": "stdout",
     "output_type": "stream",
     "text": [
      "../runs/training_new/SRR12090435_training.h5 84801\n"
     ]
    },
    {
     "name": "stderr",
     "output_type": "stream",
     "text": [
      " 62%|▌| 845/1373 [02IOPub message rate exceeded.\n",
      "The notebook server will temporarily stop sending output\n",
      "to the client in order to avoid crashing it.\n",
      "To change this limit, set the config variable\n",
      "`--NotebookApp.iopub_msg_rate_limit`.\n",
      "\n",
      "Current values:\n",
      "NotebookApp.iopub_msg_rate_limit=1000.0 (msgs/sec)\n",
      "NotebookApp.rate_limit_window=3.0 (secs)\n",
      "\n",
      "100%|█| 1373/1373 [0\n"
     ]
    },
    {
     "name": "stdout",
     "output_type": "stream",
     "text": [
      "../runs/training_new/SRR12090432_training.h5 352388\n"
     ]
    },
    {
     "name": "stderr",
     "output_type": "stream",
     "text": [
      "100%|█| 1373/1373 [0\n"
     ]
    },
    {
     "name": "stdout",
     "output_type": "stream",
     "text": [
      "../runs/training_new/SRR12090426_training.h5 433206\n"
     ]
    },
    {
     "name": "stderr",
     "output_type": "stream",
     "text": [
      "100%|█| 1373/1373 [0\n"
     ]
    },
    {
     "name": "stdout",
     "output_type": "stream",
     "text": [
      "../runs/training_new/SRR12090433_training.h5 535146\n"
     ]
    },
    {
     "name": "stderr",
     "output_type": "stream",
     "text": [
      " 56%|▌| 770/1373 [01IOPub message rate exceeded.\n",
      "The notebook server will temporarily stop sending output\n",
      "to the client in order to avoid crashing it.\n",
      "To change this limit, set the config variable\n",
      "`--NotebookApp.iopub_msg_rate_limit`.\n",
      "\n",
      "Current values:\n",
      "NotebookApp.iopub_msg_rate_limit=1000.0 (msgs/sec)\n",
      "NotebookApp.rate_limit_window=3.0 (secs)\n",
      "\n",
      "100%|█| 1152/1152 [0\n"
     ]
    },
    {
     "name": "stdout",
     "output_type": "stream",
     "text": [
      "../runs/training_new/SRR12090430_training.h5 121672\n"
     ]
    },
    {
     "name": "stderr",
     "output_type": "stream",
     "text": [
      " 75%|▊| 864/1152 [04IOPub message rate exceeded.\n",
      "The notebook server will temporarily stop sending output\n",
      "to the client in order to avoid crashing it.\n",
      "To change this limit, set the config variable\n",
      "`--NotebookApp.iopub_msg_rate_limit`.\n",
      "\n",
      "Current values:\n",
      "NotebookApp.iopub_msg_rate_limit=1000.0 (msgs/sec)\n",
      "NotebookApp.rate_limit_window=3.0 (secs)\n",
      "\n",
      "100%|█| 1152/1152 [0\n"
     ]
    },
    {
     "name": "stdout",
     "output_type": "stream",
     "text": [
      "../runs/training_new/SRR12090433_training.h5 402878\n"
     ]
    },
    {
     "name": "stderr",
     "output_type": "stream",
     "text": [
      "100%|█| 1152/1152 [0\n"
     ]
    },
    {
     "name": "stdout",
     "output_type": "stream",
     "text": [
      "../runs/training_new/SRR12090429_training.h5 451175\n"
     ]
    },
    {
     "name": "stderr",
     "output_type": "stream",
     "text": [
      "100%|█| 1152/1152 [0\n"
     ]
    },
    {
     "name": "stdout",
     "output_type": "stream",
     "text": [
      "../runs/training_new/SRR12090434_training.h5 507892\n"
     ]
    },
    {
     "name": "stderr",
     "output_type": "stream",
     "text": [
      "100%|█| 1152/1152 [0IOPub message rate exceeded.\n",
      "The notebook server will temporarily stop sending output\n",
      "to the client in order to avoid crashing it.\n",
      "To change this limit, set the config variable\n",
      "`--NotebookApp.iopub_msg_rate_limit`.\n",
      "\n",
      "Current values:\n",
      "NotebookApp.iopub_msg_rate_limit=1000.0 (msgs/sec)\n",
      "NotebookApp.rate_limit_window=3.0 (secs)\n",
      "\n",
      "100%|█| 1489/1489 [0\n"
     ]
    },
    {
     "name": "stdout",
     "output_type": "stream",
     "text": [
      "../runs/training_new/SRR12090432_training.h5 436689\n"
     ]
    },
    {
     "name": "stderr",
     "output_type": "stream",
     "text": [
      " 70%|▋| 1041/1489 [0IOPub message rate exceeded.\n",
      "The notebook server will temporarily stop sending output\n",
      "to the client in order to avoid crashing it.\n",
      "To change this limit, set the config variable\n",
      "`--NotebookApp.iopub_msg_rate_limit`.\n",
      "\n",
      "Current values:\n",
      "NotebookApp.iopub_msg_rate_limit=1000.0 (msgs/sec)\n",
      "NotebookApp.rate_limit_window=3.0 (secs)\n",
      "\n",
      "100%|█| 1489/1489 [0\n"
     ]
    },
    {
     "name": "stdout",
     "output_type": "stream",
     "text": [
      "../runs/training_new/SRR12090429_training.h5 738214\n"
     ]
    },
    {
     "name": "stderr",
     "output_type": "stream",
     "text": [
      "100%|█| 1489/1489 [0\n"
     ]
    },
    {
     "name": "stdout",
     "output_type": "stream",
     "text": [
      "../runs/training_new/SRR12090434_training.h5 833080\n"
     ]
    },
    {
     "name": "stderr",
     "output_type": "stream",
     "text": [
      "100%|█| 1489/1489 [0\n"
     ]
    },
    {
     "name": "stdout",
     "output_type": "stream",
     "text": [
      "../runs/training_new/SRR12090431_training.h5 960058\n"
     ]
    },
    {
     "name": "stderr",
     "output_type": "stream",
     "text": [
      " 29%|▎| 437/1489 [01IOPub message rate exceeded.\n",
      "The notebook server will temporarily stop sending output\n",
      "to the client in order to avoid crashing it.\n",
      "To change this limit, set the config variable\n",
      "`--NotebookApp.iopub_msg_rate_limit`.\n",
      "\n",
      "Current values:\n",
      "NotebookApp.iopub_msg_rate_limit=1000.0 (msgs/sec)\n",
      "NotebookApp.rate_limit_window=3.0 (secs)\n",
      "\n",
      "100%|█| 1278/1278 [0\n"
     ]
    },
    {
     "name": "stdout",
     "output_type": "stream",
     "text": [
      "../runs/training_new/SRR12090426_training.h5 367162\n"
     ]
    },
    {
     "name": "stderr",
     "output_type": "stream",
     "text": [
      " 23%|▏| 296/1278 [01IOPub message rate exceeded.\n",
      "The notebook server will temporarily stop sending output\n",
      "to the client in order to avoid crashing it.\n",
      "To change this limit, set the config variable\n",
      "`--NotebookApp.iopub_msg_rate_limit`.\n",
      "\n",
      "Current values:\n",
      "NotebookApp.iopub_msg_rate_limit=1000.0 (msgs/sec)\n",
      "NotebookApp.rate_limit_window=3.0 (secs)\n",
      "\n",
      "100%|█| 1278/1278 [0\n"
     ]
    },
    {
     "name": "stdout",
     "output_type": "stream",
     "text": [
      "../runs/training_new/SRR12090431_training.h5 656859\n"
     ]
    },
    {
     "name": "stderr",
     "output_type": "stream",
     "text": [
      "100%|█| 1278/1278 [0\n"
     ]
    },
    {
     "name": "stdout",
     "output_type": "stream",
     "text": [
      "../runs/training_new/SRR12090428_training.h5 740729\n",
      "23148/23148 [==============================] - 28s 1ms/step\n"
     ]
    },
    {
     "name": "stderr",
     "output_type": "stream",
     "text": [
      "/tmp/ipykernel_1216511/2794221992.py:67: FutureWarning: The frame.append method is deprecated and will be removed from pandas in a future version. Use pandas.concat instead.\n",
      "  all_dfs = all_dfs.append(kmer_df)\n",
      " 16%|▏| 245/1499 [00IOPub message rate exceeded.\n",
      "The notebook server will temporarily stop sending output\n",
      "to the client in order to avoid crashing it.\n",
      "To change this limit, set the config variable\n",
      "`--NotebookApp.iopub_msg_rate_limit`.\n",
      "\n",
      "Current values:\n",
      "NotebookApp.iopub_msg_rate_limit=1000.0 (msgs/sec)\n",
      "NotebookApp.rate_limit_window=3.0 (secs)\n",
      "\n",
      "100%|█| 1499/1499 [0\n"
     ]
    },
    {
     "name": "stdout",
     "output_type": "stream",
     "text": [
      "../runs/training_new/SRR12090433_training.h5 721421\n"
     ]
    },
    {
     "name": "stderr",
     "output_type": "stream",
     "text": [
      "100%|█| 1499/1499 [0\n"
     ]
    },
    {
     "name": "stdout",
     "output_type": "stream",
     "text": [
      "../runs/training_new/SRR12090429_training.h5 805430\n"
     ]
    },
    {
     "name": "stderr",
     "output_type": "stream",
     "text": [
      "100%|█| 1499/1499 [0\n"
     ]
    },
    {
     "name": "stdout",
     "output_type": "stream",
     "text": [
      "../runs/training_new/SRR12090434_training.h5 909164\n"
     ]
    },
    {
     "name": "stderr",
     "output_type": "stream",
     "text": [
      " 59%|▌| 887/1499 [04IOPub message rate exceeded.\n",
      "The notebook server will temporarily stop sending output\n",
      "to the client in order to avoid crashing it.\n",
      "To change this limit, set the config variable\n",
      "`--NotebookApp.iopub_msg_rate_limit`.\n",
      "\n",
      "Current values:\n",
      "NotebookApp.iopub_msg_rate_limit=1000.0 (msgs/sec)\n",
      "NotebookApp.rate_limit_window=3.0 (secs)\n",
      "\n",
      "100%|█| 1108/1108 [0\n"
     ]
    },
    {
     "name": "stdout",
     "output_type": "stream",
     "text": [
      "../runs/training_new/SRR12090429_training.h5 393828\n"
     ]
    },
    {
     "name": "stderr",
     "output_type": "stream",
     "text": [
      "100%|█| 1108/1108 [0\n"
     ]
    },
    {
     "name": "stdout",
     "output_type": "stream",
     "text": [
      "../runs/training_new/SRR12090434_training.h5 443766\n"
     ]
    },
    {
     "name": "stderr",
     "output_type": "stream",
     "text": [
      "100%|█| 1108/1108 [0\n"
     ]
    },
    {
     "name": "stdout",
     "output_type": "stream",
     "text": [
      "../runs/training_new/SRR12090431_training.h5 511152\n"
     ]
    },
    {
     "name": "stderr",
     "output_type": "stream",
     "text": [
      "100%|█| 1108/1108 [0\n"
     ]
    },
    {
     "name": "stdout",
     "output_type": "stream",
     "text": [
      "../runs/training_new/SRR12090428_training.h5 577185\n",
      "18038/18038 [==============================] - 22s 1ms/step\n"
     ]
    },
    {
     "name": "stderr",
     "output_type": "stream",
     "text": [
      "/tmp/ipykernel_1216511/2794221992.py:67: FutureWarning: The frame.append method is deprecated and will be removed from pandas in a future version. Use pandas.concat instead.\n",
      "  all_dfs = all_dfs.append(kmer_df)\n",
      " 15%|▏| 225/1531 [00IOPub message rate exceeded.\n",
      "The notebook server will temporarily stop sending output\n",
      "to the client in order to avoid crashing it.\n",
      "To change this limit, set the config variable\n",
      "`--NotebookApp.iopub_msg_rate_limit`.\n",
      "\n",
      "Current values:\n",
      "NotebookApp.iopub_msg_rate_limit=1000.0 (msgs/sec)\n",
      "NotebookApp.rate_limit_window=3.0 (secs)\n",
      "\n",
      "100%|█| 1531/1531 [0\n"
     ]
    },
    {
     "name": "stdout",
     "output_type": "stream",
     "text": [
      "../runs/training_new/SRR12090434_training.h5 948839\n"
     ]
    },
    {
     "name": "stderr",
     "output_type": "stream",
     "text": [
      "100%|█| 1531/1531 [0\n"
     ]
    },
    {
     "name": "stdout",
     "output_type": "stream",
     "text": [
      "../runs/training_new/SRR12090431_training.h5 1090602\n"
     ]
    },
    {
     "name": "stderr",
     "output_type": "stream",
     "text": [
      "100%|█| 1531/1531 [0\n"
     ]
    },
    {
     "name": "stdout",
     "output_type": "stream",
     "text": [
      "../runs/training_new/SRR12090428_training.h5 1233597\n",
      "22079/38550 [================>.............] - ETA: 20s"
     ]
    },
    {
     "name": "stderr",
     "output_type": "stream",
     "text": [
      "IOPub message rate exceeded.\n",
      "The notebook server will temporarily stop sending output\n",
      "to the client in order to avoid crashing it.\n",
      "To change this limit, set the config variable\n",
      "`--NotebookApp.iopub_msg_rate_limit`.\n",
      "\n",
      "Current values:\n",
      "NotebookApp.iopub_msg_rate_limit=1000.0 (msgs/sec)\n",
      "NotebookApp.rate_limit_window=3.0 (secs)\n",
      "\n",
      "100%|█| 1197/1197 [0\n"
     ]
    },
    {
     "name": "stdout",
     "output_type": "stream",
     "text": [
      "../runs/training_new/SRR12090431_training.h5 641784\n"
     ]
    },
    {
     "name": "stderr",
     "output_type": "stream",
     "text": [
      "100%|█| 1197/1197 [0\n"
     ]
    },
    {
     "name": "stdout",
     "output_type": "stream",
     "text": [
      "../runs/training_new/SRR12090428_training.h5 725818\n",
      "22682/22682 [==============================] - 27s 1ms/step\n"
     ]
    },
    {
     "name": "stderr",
     "output_type": "stream",
     "text": [
      "/opt/miniconda/miniconda3/envs/ariane_bac/lib/python3.10/site-packages/numpy/core/fromnumeric.py:3715: RuntimeWarning: Degrees of freedom <= 0 for slice\n",
      "  return _methods._var(a, axis=axis, dtype=dtype, out=out, ddof=ddof,\n",
      "/opt/miniconda/miniconda3/envs/ariane_bac/lib/python3.10/site-packages/numpy/core/_methods.py:257: RuntimeWarning: invalid value encountered in divide\n",
      "  ret = ret.dtype.type(ret / rcount)\n",
      "/tmp/ipykernel_1216511/2794221992.py:67: FutureWarning: The frame.append method is deprecated and will be removed from pandas in a future version. Use pandas.concat instead.\n",
      "  all_dfs = all_dfs.append(kmer_df)\n",
      "100%|█| 1255/1255 [0\n"
     ]
    },
    {
     "name": "stdout",
     "output_type": "stream",
     "text": [
      "../runs/training_new/SRR12090435_training.h5 76585\n"
     ]
    },
    {
     "name": "stderr",
     "output_type": "stream",
     "text": [
      " 82%|▊| 1028/1255 [0IOPub message rate exceeded.\n",
      "The notebook server will temporarily stop sending output\n",
      "to the client in order to avoid crashing it.\n",
      "To change this limit, set the config variable\n",
      "`--NotebookApp.iopub_msg_rate_limit`.\n",
      "\n",
      "Current values:\n",
      "NotebookApp.iopub_msg_rate_limit=1000.0 (msgs/sec)\n",
      "NotebookApp.rate_limit_window=3.0 (secs)\n",
      "\n"
     ]
    },
    {
     "name": "stdout",
     "output_type": "stream",
     "text": [
      "24884/24884 [==============================] - 31s 1ms/step\n"
     ]
    },
    {
     "name": "stderr",
     "output_type": "stream",
     "text": [
      "/tmp/ipykernel_1216511/2794221992.py:67: FutureWarning: The frame.append method is deprecated and will be removed from pandas in a future version. Use pandas.concat instead.\n",
      "  all_dfs = all_dfs.append(kmer_df)\n",
      "100%|█| 1680/1680 [0\n"
     ]
    },
    {
     "name": "stdout",
     "output_type": "stream",
     "text": [
      "../runs/training_new/SRR12090435_training.h5 144859\n"
     ]
    },
    {
     "name": "stderr",
     "output_type": "stream",
     "text": [
      "100%|█| 1680/1680 [0\n"
     ]
    },
    {
     "name": "stdout",
     "output_type": "stream",
     "text": [
      "../runs/training_new/SRR12090430_training.h5 270755\n"
     ]
    },
    {
     "name": "stderr",
     "output_type": "stream",
     "text": [
      " 64%|▋| 1081/1680 [0IOPub message rate exceeded.\n",
      "The notebook server will temporarily stop sending output\n",
      "to the client in order to avoid crashing it.\n",
      "To change this limit, set the config variable\n",
      "`--NotebookApp.iopub_msg_rate_limit`.\n",
      "\n",
      "Current values:\n",
      "NotebookApp.iopub_msg_rate_limit=1000.0 (msgs/sec)\n",
      "NotebookApp.rate_limit_window=3.0 (secs)\n",
      "\n",
      "100%|█| 1680/1680 [0\n"
     ]
    },
    {
     "name": "stdout",
     "output_type": "stream",
     "text": [
      "../runs/training_new/SRR12090427_training.h5 469634\n"
     ]
    },
    {
     "name": "stderr",
     "output_type": "stream",
     "text": [
      "100%|█| \n"
     ]
    },
    {
     "name": "stdout",
     "output_type": "stream",
     "text": [
      "../runs/training_new/SRR12090432_training.h5 599942\n"
     ]
    },
    {
     "name": "stderr",
     "output_type": "stream",
     "text": [
      "100%|█| \n"
     ]
    },
    {
     "name": "stdout",
     "output_type": "stream",
     "text": [
      "../runs/training_new/SRR12090426_training.h5 738112\n"
     ]
    },
    {
     "name": "stderr",
     "output_type": "stream",
     "text": [
      "100%|█| \n"
     ]
    },
    {
     "name": "stdout",
     "output_type": "stream",
     "text": [
      "../runs/training_new/SRR12090433_training.h5 913181\n"
     ]
    },
    {
     "name": "stderr",
     "output_type": "stream",
     "text": [
      "100%|█| \n"
     ]
    },
    {
     "name": "stdout",
     "output_type": "stream",
     "text": [
      "../runs/training_new/SRR12090429_training.h5 1015463\n"
     ]
    },
    {
     "name": "stderr",
     "output_type": "stream",
     "text": [
      "100%|█| \n"
     ]
    },
    {
     "name": "stdout",
     "output_type": "stream",
     "text": [
      "../runs/training_new/SRR12090434_training.h5 1142802\n"
     ]
    },
    {
     "name": "stderr",
     "output_type": "stream",
     "text": [
      "100%|█| \n"
     ]
    },
    {
     "name": "stdout",
     "output_type": "stream",
     "text": [
      "../runs/training_new/SRR12090431_training.h5 1318132\n"
     ]
    },
    {
     "name": "stderr",
     "output_type": "stream",
     "text": [
      "100%|█| \n"
     ]
    },
    {
     "name": "stdout",
     "output_type": "stream",
     "text": [
      "../runs/training_new/SRR12090428_training.h5 1489920\n",
      "46560/46560 [==============================] - 58s 1ms/step\n"
     ]
    },
    {
     "name": "stderr",
     "output_type": "stream",
     "text": [
      "/tmp/ipykernel_1216511/2794221992.py:67: FutureWarning: The frame.append method is deprecated and will be removed from pandas in a future version. Use pandas.concat instead.\n",
      "  all_dfs = all_dfs.append(kmer_df)\n",
      "100%|█| \n"
     ]
    },
    {
     "name": "stdout",
     "output_type": "stream",
     "text": [
      "../runs/training_new/SRR12090435_training.h5 101326\n"
     ]
    },
    {
     "name": "stderr",
     "output_type": "stream",
     "text": [
      "100%|█| \n"
     ]
    },
    {
     "name": "stdout",
     "output_type": "stream",
     "text": [
      "../runs/training_new/SRR12090430_training.h5 191449\n"
     ]
    },
    {
     "name": "stderr",
     "output_type": "stream",
     "text": [
      "100%|█| \n"
     ]
    },
    {
     "name": "stdout",
     "output_type": "stream",
     "text": [
      "../runs/training_new/SRR12090427_training.h5 326933\n"
     ]
    },
    {
     "name": "stderr",
     "output_type": "stream",
     "text": [
      " 16%|▏| "
     ]
    }
   ],
   "source": [
    "import pandas as pd\n",
    "from scibacr import *\n",
    "import itertools\n",
    "from scipy import stats\n",
    "from statsmodels.stats.multitest import multipletests\n",
    "\n",
    "\n",
    "e_plus_ecoli = ['SRR12090426', 'SRR12090427', 'SRR12090428']\n",
    "e_minus_ecoli = ['SRR12090429', 'SRR12090430']\n",
    "s_plus_ecoli = ['SRR12090431', 'SRR12090432', 'SRR12090433']\n",
    "s_minus_ecoli = ['SRR12090434', 'SRR12090435']\n",
    "\n",
    "cond_dict = {'SRR12090426': 'e-plus-ecoli', 'SRR12090427': 'e-plus-ecoli', 'SRR12090428': 'e-plus-ecoli',\n",
    "            'SRR12090429': 'e-minus-ecoli', 'SRR12090430': 'e-minus-ecoli', \n",
    "             'SRR12090431': 's-plus-ecoli', 'SRR12090432': 's-plus-ecoli', 'SRR12090433': 's-plus-ecoli',\n",
    "             'SRR12090434': 's-minus-ecoli', 'SRR12090435': 's-minus-ecoli'\n",
    "            }\n",
    "exp_name = 'ecoli'\n",
    "comparisons = list(itertools.combinations(species_runs, 2))\n",
    "all_dfs = pd.DataFrame()\n",
    "# Check for significance between kmers\n",
    "for kmer_name in kmers_to_investigate:\n",
    "    p_values = []\n",
    "    t_values = []\n",
    "    labels = []\n",
    "    kmers = []\n",
    "    condlabels = []\n",
    "    kmer_label = []\n",
    "\n",
    "    df_kmer = get_kmer_encodings(kmer_name,  f'{output_folder}kmer_5_bac.h5', training_runs, 100)\n",
    "    df_psi = df_kmer\n",
    "\n",
    "    df_psi.fillna(0, inplace=True)\n",
    "\n",
    "    # encode the data\n",
    "    psi_data = df_psi.values[:, 5:]\n",
    "    psi_data = psi_data / np.max(psi_data)\n",
    "    psi_data = np.array(psi_data).astype(float)\n",
    "    psi_data = np.array([d.reshape((4, kmer_len, 1)) for d in psi_data])\n",
    "    seqs_encoding = cvae.encode_new_data(psi_data, scale=False)\n",
    "    df_psi['MeanEncoding'] = seqs_encoding\n",
    "\n",
    "    for kmer_start in set(df_kmer['ID'].values):\n",
    "        df_psi_kmer = df_psi[df_psi['Start'] == kmer_start]\n",
    "        if len(df_psi_kmer) > 10:\n",
    "            for comparison in comparisons:\n",
    "                e_plus = df_psi_kmer[df_psi_kmer['Run'] == f'{comparison[0]}_training']['MeanEncoding'].values\n",
    "                s_plus = df_psi_kmer[df_psi_kmer['Run'] == f'{comparison[1]}_training']['MeanEncoding'].values\n",
    "                if len(e_plus) > 5 and len(s_plus) > 5:\n",
    "                    t_stat, p_val = stats.ttest_ind(e_plus, s_plus)\n",
    "                    p_values.append(p_val)\n",
    "                    t_values.append(t_stat)\n",
    "                    kmers.append(kmer_start)\n",
    "                    labels.append(f'{comparison[1]} vs {comparison[0]}')\n",
    "                    condlabels.append(f'{cond_dict[comparison[1]]} vs {cond_dict[comparison[0]]}')\n",
    "    # Calculate adjusted p-values\n",
    "    p_adj = multipletests(p_values, alpha=0.1, method='fdr_bh', returnsorted=False)\n",
    "\n",
    "    kmer_df = pd.DataFrame()\n",
    "    kmer_df['p_values'] = p_adj[1]\n",
    "    kmer_df['p.adj'] = p_values\n",
    "    kmer_df['t_values'] = t_values\n",
    "    kmer_df['labels'] = labels\n",
    "    kmer_df['kmer'] = kmers\n",
    "    kmer_df['kmer_name'] = kmer_label\n",
    "    all_dfs = all_dfs.append(kmer_df)\n",
    "    kmer_df.to_csv(f'{output_folder}kmers/KMER_{kmer_name}_{exp_name}.csv', index=False)"
   ]
  }
 ],
 "metadata": {
  "kernelspec": {
   "display_name": "Python 3",
   "language": "python",
   "name": "python3"
  },
  "language_info": {
   "codemirror_mode": {
    "name": "ipython",
    "version": 3
   },
   "file_extension": ".py",
   "mimetype": "text/x-python",
   "name": "python",
   "nbconvert_exporter": "python",
   "pygments_lexer": "ipython3",
   "version": "3.6.13"
  }
 },
 "nbformat": 4,
 "nbformat_minor": 5
}
